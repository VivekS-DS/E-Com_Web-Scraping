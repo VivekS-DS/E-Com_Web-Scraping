{
 "cells": [
  {
   "cell_type": "code",
   "execution_count": 2,
   "metadata": {},
   "outputs": [],
   "source": [
    "from selenium import webdriver\n",
    "from selenium.webdriver.common.by import By\n",
    "from selenium.webdriver.support.ui import WebDriverWait\n",
    "from selenium.webdriver.support import expected_conditions as EC\n",
    "from bs4 import BeautifulSoup\n",
    "from selenium.webdriver.common.keys import Keys\n",
    "import time\n",
    "import pandas as pd\n",
    "import numpy as np"
   ]
  },
  {
   "cell_type": "code",
   "execution_count": 6,
   "metadata": {},
   "outputs": [],
   "source": [
    "# Extrating the product link\n",
    "\n",
    "def scrap_link(start,end):\n",
    "\n",
    "    # Create a new instance of the Edge driver\n",
    "    driver = webdriver.Edge()\n",
    "\n",
    "    # Maximize the browser window\n",
    "    driver.maximize_window()\n",
    "\n",
    "    # Navigate to the Myntra men's t-shirts page\n",
    "    driver.get('https://www.myntra.com/men-tshirts?p='+str(start))\n",
    "\n",
    "    # Wait for 3 seconds to let the page load\n",
    "    time.sleep(3)\n",
    "\n",
    "    # Initialize an empty list to store the product links\n",
    "    link_list = []\n",
    "\n",
    "    # Define the prefix for the product URLs\n",
    "    prefix_url = 'https://www.myntra.com/'\n",
    "\n",
    "    # Loop through the number of pages you want to scrape\n",
    "    for i in range(start,end):\n",
    "        # Get the HTML content of the webpage\n",
    "        html_content = driver.page_source\n",
    "\n",
    "        # Parse the HTML content with BeautifulSoup\n",
    "        soup = BeautifulSoup(html_content, 'html.parser')\n",
    "        \n",
    "        # Find all 'li' elements with a class of 'product-base'\n",
    "        lis = soup.find_all('li', {'class': 'product-base'})\n",
    "\n",
    "        # Loop through the 'li' elements\n",
    "        for li in lis:\n",
    "            # Find all 'a' elements within each 'li' element\n",
    "            for link in li.find_all('a'):\n",
    "                # Get the 'href' attribute of each 'a' element, prepend the prefix, and append it to the list\n",
    "                link_list.append(prefix_url + link.get('href'))\n",
    "\n",
    "        # Navigate to the next page\n",
    "        driver.get('https://www.myntra.com/men-tshirts?p=' + str(i+1))\n",
    "\n",
    "        # Wait for 3 seconds to let the page load\n",
    "        time.sleep(3)\n",
    "\n",
    "    # Create a DataFrame from the link_list with a column named 'links'\n",
    "    df = pd.DataFrame(link_list, columns=['links'])\n",
    "\n",
    "    file_name = f'mynthra_tshirt_link_{start}_{end}.csv'\n",
    "\n",
    "    # Write the DataFrame to a CSV file named 'tshrit_links.csv'\n",
    "    # The argument index=False prevents pandas from writing row indices into the CSV file\n",
    "    df.to_csv(file_name, index=False)\n",
    "    return print(file_name,\"Completed 👍\")\n",
    "\n"
   ]
  },
  {
   "cell_type": "code",
   "execution_count": 14,
   "metadata": {},
   "outputs": [
    {
     "name": "stdout",
     "output_type": "stream",
     "text": [
      "mynthra_tshirt_link_1_501.csv Completed 👍\n"
     ]
    }
   ],
   "source": [
    "# Pages 1 to 500\n",
    "scrap_link(1,501)"
   ]
  },
  {
   "cell_type": "code",
   "execution_count": 15,
   "metadata": {},
   "outputs": [
    {
     "name": "stdout",
     "output_type": "stream",
     "text": [
      "mynthra_tshirt_link_501_1001.csv Completed 👍\n"
     ]
    }
   ],
   "source": [
    "# Pages 501 to 1000\n",
    "scrap_link(501,1001)"
   ]
  },
  {
   "cell_type": "code",
   "execution_count": 7,
   "metadata": {},
   "outputs": [
    {
     "name": "stdout",
     "output_type": "stream",
     "text": [
      "mynthra_tshirt_link_1001_1501.csv Completed 👍\n"
     ]
    }
   ],
   "source": [
    "# pages 1001 to 1500\n",
    "scrap_link(1001,1501)"
   ]
  },
  {
   "cell_type": "code",
   "execution_count": 8,
   "metadata": {},
   "outputs": [
    {
     "name": "stdout",
     "output_type": "stream",
     "text": [
      "mynthra_tshirt_link_1501_2001.csv Completed 👍\n"
     ]
    }
   ],
   "source": [
    "# pages 1501 to 2000\n",
    "scrap_link(1501,2001)"
   ]
  },
  {
   "cell_type": "code",
   "execution_count": 9,
   "metadata": {},
   "outputs": [
    {
     "name": "stdout",
     "output_type": "stream",
     "text": [
      "mynthra_tshirt_link_2001_2488.csv Completed 👍\n"
     ]
    }
   ],
   "source": [
    "# pages 2001 to 2487\n",
    "scrap_link(2001,2488)"
   ]
  },
  {
   "cell_type": "markdown",
   "metadata": {},
   "source": [
    "Concatinate all dataset to a single dataset"
   ]
  },
  {
   "cell_type": "code",
   "execution_count": 5,
   "metadata": {},
   "outputs": [],
   "source": [
    "df1 = pd.read_csv('mynthra_tshirt_link_1_501.csv')\n",
    "df2 = pd.read_csv('mynthra_tshirt_link_501_1001.csv')\n",
    "df3 = pd.read_csv('mynthra_tshirt_link_1001_1501.csv')\n",
    "df4 = pd.read_csv('mynthra_tshirt_link_1501_2001.csv')\n",
    "df5 = pd.read_csv('mynthra_tshirt_link_2001_2488.csv')\n",
    "\n",
    "\n",
    "combined_df = pd.concat([df1,df2,df3,df4,df5], axis=0,ignore_index=True)"
   ]
  },
  {
   "cell_type": "code",
   "execution_count": 6,
   "metadata": {},
   "outputs": [
    {
     "name": "stdout",
     "output_type": "stream",
     "text": [
      "<class 'pandas.core.frame.DataFrame'>\n",
      "RangeIndex: 123764 entries, 0 to 123763\n",
      "Data columns (total 1 columns):\n",
      " #   Column  Non-Null Count   Dtype \n",
      "---  ------  --------------   ----- \n",
      " 0   links   123764 non-null  object\n",
      "dtypes: object(1)\n",
      "memory usage: 967.0+ KB\n"
     ]
    }
   ],
   "source": [
    "combined_df.info()"
   ]
  },
  {
   "cell_type": "code",
   "execution_count": 12,
   "metadata": {},
   "outputs": [
    {
     "data": {
      "text/plain": [
       "2567"
      ]
     },
     "execution_count": 12,
     "metadata": {},
     "output_type": "execute_result"
    }
   ],
   "source": [
    "combined_df.duplicated().sum()"
   ]
  },
  {
   "cell_type": "code",
   "execution_count": 14,
   "metadata": {},
   "outputs": [],
   "source": [
    "combined_df = combined_df.drop_duplicates(keep='first')"
   ]
  },
  {
   "cell_type": "code",
   "execution_count": 16,
   "metadata": {},
   "outputs": [
    {
     "data": {
      "text/plain": [
       "0"
      ]
     },
     "execution_count": 16,
     "metadata": {},
     "output_type": "execute_result"
    }
   ],
   "source": [
    "combined_df.duplicated().sum()"
   ]
  },
  {
   "cell_type": "code",
   "execution_count": 15,
   "metadata": {},
   "outputs": [
    {
     "data": {
      "text/plain": [
       "(121197, 1)"
      ]
     },
     "execution_count": 15,
     "metadata": {},
     "output_type": "execute_result"
    }
   ],
   "source": [
    "combined_df.shape"
   ]
  },
  {
   "cell_type": "code",
   "execution_count": 19,
   "metadata": {},
   "outputs": [],
   "source": [
    "combined_df.to_csv('mynthra_tshirt_link_full.csv', index=False)"
   ]
  },
  {
   "cell_type": "code",
   "execution_count": 20,
   "metadata": {},
   "outputs": [
    {
     "data": {
      "text/html": [
       "<div>\n",
       "<style scoped>\n",
       "    .dataframe tbody tr th:only-of-type {\n",
       "        vertical-align: middle;\n",
       "    }\n",
       "\n",
       "    .dataframe tbody tr th {\n",
       "        vertical-align: top;\n",
       "    }\n",
       "\n",
       "    .dataframe thead th {\n",
       "        text-align: right;\n",
       "    }\n",
       "</style>\n",
       "<table border=\"1\" class=\"dataframe\">\n",
       "  <thead>\n",
       "    <tr style=\"text-align: right;\">\n",
       "      <th></th>\n",
       "      <th>links</th>\n",
       "    </tr>\n",
       "  </thead>\n",
       "  <tbody>\n",
       "    <tr>\n",
       "      <th>0</th>\n",
       "      <td>https://www.myntra.com/tshirts/stormborn/storm...</td>\n",
       "    </tr>\n",
       "    <tr>\n",
       "      <th>1</th>\n",
       "      <td>https://www.myntra.com/tshirts/bullmer/bullmer...</td>\n",
       "    </tr>\n",
       "  </tbody>\n",
       "</table>\n",
       "</div>"
      ],
      "text/plain": [
       "                                               links\n",
       "0  https://www.myntra.com/tshirts/stormborn/storm...\n",
       "1  https://www.myntra.com/tshirts/bullmer/bullmer..."
      ]
     },
     "execution_count": 20,
     "metadata": {},
     "output_type": "execute_result"
    }
   ],
   "source": [
    "cc = pd.read_csv('mynthra_tshirt_link_full.csv')\n",
    "cc.head(2)"
   ]
  }
 ],
 "metadata": {
  "kernelspec": {
   "display_name": "webscrap",
   "language": "python",
   "name": "python3"
  },
  "language_info": {
   "codemirror_mode": {
    "name": "ipython",
    "version": 3
   },
   "file_extension": ".py",
   "mimetype": "text/x-python",
   "name": "python",
   "nbconvert_exporter": "python",
   "pygments_lexer": "ipython3",
   "version": "3.12.0"
  }
 },
 "nbformat": 4,
 "nbformat_minor": 2
}
