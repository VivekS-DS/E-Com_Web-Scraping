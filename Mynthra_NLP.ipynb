{
  "nbformat": 4,
  "nbformat_minor": 0,
  "metadata": {
    "colab": {
      "provenance": [],
      "authorship_tag": "ABX9TyNgjdLZAG0oGRubedjx7Upp"
    },
    "kernelspec": {
      "name": "python3",
      "display_name": "Python 3"
    },
    "language_info": {
      "name": "python"
    }
  },
  "cells": [
    {
      "cell_type": "code",
      "execution_count": 2,
      "metadata": {
        "id": "4MegxhugJPiy"
      },
      "outputs": [],
      "source": [
        "import pandas as pd\n",
        "import matplotlib.pyplot as plt\n",
        "import re\n",
        "import nltk"
      ]
    },
    {
      "cell_type": "code",
      "source": [
        "df_review = pd.read_csv('Myntra_NLP/mynthra_tshirt_cleaned_dataset.csv')"
      ],
      "metadata": {
        "id": "8CJW6aU3KEBu"
      },
      "execution_count": 3,
      "outputs": []
    },
    {
      "cell_type": "code",
      "source": [
        "df_review.info()"
      ],
      "metadata": {
        "colab": {
          "base_uri": "https://localhost:8080/"
        },
        "id": "T0jTjQXYKTuz",
        "outputId": "a85ef73c-96c1-4570-f6fc-1cc1c45ef21d"
      },
      "execution_count": 4,
      "outputs": [
        {
          "output_type": "stream",
          "name": "stdout",
          "text": [
            "<class 'pandas.core.frame.DataFrame'>\n",
            "RangeIndex: 1253 entries, 0 to 1252\n",
            "Data columns (total 15 columns):\n",
            " #   Column                    Non-Null Count  Dtype  \n",
            "---  ------                    --------------  -----  \n",
            " 0   product_id                1253 non-null   int64  \n",
            " 1   product_name              1253 non-null   object \n",
            " 2   product_description       1253 non-null   object \n",
            " 3   discounted_price          1253 non-null   int64  \n",
            " 4   original_price            1253 non-null   int64  \n",
            " 5   discount_percentage       1253 non-null   int64  \n",
            " 6   fabric_material           1253 non-null   object \n",
            " 7   neck_type                 1253 non-null   object \n",
            " 8   overall_rating            1253 non-null   float64\n",
            " 9   votes                     1253 non-null   int64  \n",
            " 10  customer_rated_rating     1253 non-null   object \n",
            " 11  customer_review_text      1253 non-null   object \n",
            " 12  reviewers_username        1253 non-null   object \n",
            " 13  date_of_review            1253 non-null   object \n",
            " 14  reviewers_product_images  1253 non-null   object \n",
            "dtypes: float64(1), int64(5), object(9)\n",
            "memory usage: 147.0+ KB\n"
          ]
        }
      ]
    },
    {
      "cell_type": "code",
      "source": [
        "df_review['customer_review_text'].isnull().sum()"
      ],
      "metadata": {
        "colab": {
          "base_uri": "https://localhost:8080/"
        },
        "id": "US1JDQmDLrva",
        "outputId": "baca7d03-48f8-49e9-80c5-f74aed0e7025"
      },
      "execution_count": 5,
      "outputs": [
        {
          "output_type": "execute_result",
          "data": {
            "text/plain": [
              "0"
            ]
          },
          "metadata": {},
          "execution_count": 5
        }
      ]
    },
    {
      "cell_type": "markdown",
      "source": [
        "Cleaning"
      ],
      "metadata": {
        "id": "DK-7l7G5O2HJ"
      }
    },
    {
      "cell_type": "code",
      "source": [
        "df_review['customer_review_text'].sample(5)"
      ],
      "metadata": {
        "colab": {
          "base_uri": "https://localhost:8080/"
        },
        "id": "Q1vYICfDKap8",
        "outputId": "acecee03-16cf-499d-f18a-ecb479cba42f"
      },
      "execution_count": 6,
      "outputs": [
        {
          "output_type": "execute_result",
          "data": {
            "text/plain": [
              "289    [\"Good fit. However the fit isn't what I was e...\n",
              "765                     ['Product quality is top notch']\n",
              "191    ['Ok', 'Very poor quality. Not as per Wrogn st...\n",
              "311    [\"it's actually blackish-faded blue with maroo...\n",
              "284                  ['Became lose after a few washes.']\n",
              "Name: customer_review_text, dtype: object"
            ]
          },
          "metadata": {},
          "execution_count": 6
        }
      ]
    },
    {
      "cell_type": "code",
      "source": [
        "from nltk.sentiment.vader import SentimentIntensityAnalyzer\n",
        "from nltk.sentiment import SentimentAnalyzer\n",
        "from nltk import tokenize"
      ],
      "metadata": {
        "id": "UVvPZ3bdOYNP"
      },
      "execution_count": 7,
      "outputs": []
    },
    {
      "cell_type": "code",
      "source": [
        "import nltk\n",
        "nltk.download('punkt')\n",
        "nltk.download('vader_lexicon')"
      ],
      "metadata": {
        "colab": {
          "base_uri": "https://localhost:8080/"
        },
        "id": "NTPvXU_vTA49",
        "outputId": "07acd0b6-8a53-4054-f064-8939cb66e724"
      },
      "execution_count": 8,
      "outputs": [
        {
          "output_type": "stream",
          "name": "stderr",
          "text": [
            "[nltk_data] Downloading package punkt to /root/nltk_data...\n",
            "[nltk_data]   Unzipping tokenizers/punkt.zip.\n",
            "[nltk_data] Downloading package vader_lexicon to /root/nltk_data...\n"
          ]
        },
        {
          "output_type": "execute_result",
          "data": {
            "text/plain": [
              "True"
            ]
          },
          "metadata": {},
          "execution_count": 8
        }
      ]
    },
    {
      "cell_type": "code",
      "source": [
        "sentim_analyzer = SentimentAnalyzer()"
      ],
      "metadata": {
        "id": "8LCOlwinRIER"
      },
      "execution_count": 9,
      "outputs": []
    },
    {
      "cell_type": "code",
      "source": [
        "review = tokenize.sent_tokenize(df_review['customer_review_text'][36])\n",
        "\n",
        "for sentiment in review:\n",
        "  sid = SentimentIntensityAnalyzer()\n",
        "  print(sentiment)\n",
        "  ss = sid.polarity_scores(sentiment)\n",
        "  for k in sorted(ss):\n",
        "    print('{0}:{1}, '.format(k, ss[k]), end=\"\")\n",
        "  print()"
      ],
      "metadata": {
        "colab": {
          "base_uri": "https://localhost:8080/"
        },
        "id": "uNpLTcuSRRGM",
        "outputId": "1ad408c4-b052-4ba8-cd0b-dcb8553a9015"
      },
      "execution_count": 10,
      "outputs": [
        {
          "output_type": "stream",
          "name": "stdout",
          "text": [
            "['Good quality', '', 'Product quality is not good and size also not fit', 'Size is too large', 'Third class T-shirt', 'Too lose']\n",
            "compound:-0.3412, neg:0.103, neu:0.897, pos:0.0, \n"
          ]
        }
      ]
    },
    {
      "cell_type": "code",
      "source": [
        "# Sentiment analysis\n",
        "\n",
        "def analyze_sentiment(review):\n",
        "    # Initialize the sentiment analyzer\n",
        "    sid = SentimentIntensityAnalyzer()\n",
        "\n",
        "    # Get the compound sentiment score\n",
        "    sentiment_score = sid.polarity_scores(review)['compound']\n",
        "\n",
        "    # Classify as positive or negative based on the sentiment score\n",
        "    if sentiment_score >= 0:\n",
        "        return 'Positive'\n",
        "    else:\n",
        "        return 'Negative'\n"
      ],
      "metadata": {
        "id": "_BtvMIfAUi9G"
      },
      "execution_count": 11,
      "outputs": []
    },
    {
      "cell_type": "code",
      "source": [
        "df_review.insert(13,'sentiment_label_wo_sw','')"
      ],
      "metadata": {
        "id": "zccxOLBCaJW4"
      },
      "execution_count": 12,
      "outputs": []
    },
    {
      "cell_type": "code",
      "source": [
        "for i in range(len(df_review)):\n",
        "  review_text = df_review['customer_review_text'][i]\n",
        "  df_review.at[i,'sentiment_label_wo_sw'] = analyze_sentiment(review_text)\n"
      ],
      "metadata": {
        "id": "wBQYfmFSY56f"
      },
      "execution_count": 13,
      "outputs": []
    },
    {
      "cell_type": "code",
      "source": [
        "df_review['sentiment_label_wo_sw'].value_counts(dropna=False)"
      ],
      "metadata": {
        "colab": {
          "base_uri": "https://localhost:8080/"
        },
        "id": "vaGTFxjQZqok",
        "outputId": "3a45ad53-912c-4d67-eeaf-dd4791a894d5"
      },
      "execution_count": 14,
      "outputs": [
        {
          "output_type": "execute_result",
          "data": {
            "text/plain": [
              "Positive    1147\n",
              "Negative     106\n",
              "Name: sentiment_label_wo_sw, dtype: int64"
            ]
          },
          "metadata": {},
          "execution_count": 14
        }
      ]
    },
    {
      "cell_type": "code",
      "source": [
        "df_review = df_review.rename(columns={'sentiment_label_wo_sw':'sentiment_label'})"
      ],
      "metadata": {
        "id": "ZcTP43-WkC_8"
      },
      "execution_count": 15,
      "outputs": []
    },
    {
      "cell_type": "code",
      "source": [
        "df_review.sample(2)"
      ],
      "metadata": {
        "colab": {
          "base_uri": "https://localhost:8080/",
          "height": 184
        },
        "id": "ufIPjci_dIX7",
        "outputId": "ef827850-9e14-451f-ef6b-02de3ed528cd"
      },
      "execution_count": 16,
      "outputs": [
        {
          "output_type": "execute_result",
          "data": {
            "text/plain": [
              "     product_id product_name                        product_description  \\\n",
              "443    23258222   HIGHLANDER  Blue Striped Polo Collar Slim Fit T-shirt   \n",
              "319    24704290     Fleximaa            Polo Collar Pure Cotton T-shirt   \n",
              "\n",
              "     discounted_price  original_price  discount_percentage fabric_material  \\\n",
              "443               543            1699                   68       Polyester   \n",
              "319               519             999                   52     Pure Cotton   \n",
              "\n",
              "       neck_type  overall_rating  votes customer_rated_rating  \\\n",
              "443  Polo Collar             3.9    570  ['3', '5', '4', '1']   \n",
              "319  Polo Collar             4.2      5                 ['1']   \n",
              "\n",
              "                                  customer_review_text  \\\n",
              "443  ['Product quality not good', \"It's good qualit...   \n",
              "319               ['Poor quality, a kind of cheating']   \n",
              "\n",
              "                                    reviewers_username sentiment_label  \\\n",
              "443  ['Gourav Mondal', 'Chaitanya', 'Abdul Salam', ...        Negative   \n",
              "319                                   ['Martin Lowel']        Positive   \n",
              "\n",
              "                                        date_of_review  \\\n",
              "443  ['15 Oct 2023', '16 Dec 2023', '13 July 2023',...   \n",
              "319                                     ['2 Jan 2024']   \n",
              "\n",
              "    reviewers_product_images  \n",
              "443                       []  \n",
              "319                       []  "
            ],
            "text/html": [
              "\n",
              "  <div id=\"df-da6a269d-f5bf-4177-9fc7-2908dfe23df2\" class=\"colab-df-container\">\n",
              "    <div>\n",
              "<style scoped>\n",
              "    .dataframe tbody tr th:only-of-type {\n",
              "        vertical-align: middle;\n",
              "    }\n",
              "\n",
              "    .dataframe tbody tr th {\n",
              "        vertical-align: top;\n",
              "    }\n",
              "\n",
              "    .dataframe thead th {\n",
              "        text-align: right;\n",
              "    }\n",
              "</style>\n",
              "<table border=\"1\" class=\"dataframe\">\n",
              "  <thead>\n",
              "    <tr style=\"text-align: right;\">\n",
              "      <th></th>\n",
              "      <th>product_id</th>\n",
              "      <th>product_name</th>\n",
              "      <th>product_description</th>\n",
              "      <th>discounted_price</th>\n",
              "      <th>original_price</th>\n",
              "      <th>discount_percentage</th>\n",
              "      <th>fabric_material</th>\n",
              "      <th>neck_type</th>\n",
              "      <th>overall_rating</th>\n",
              "      <th>votes</th>\n",
              "      <th>customer_rated_rating</th>\n",
              "      <th>customer_review_text</th>\n",
              "      <th>reviewers_username</th>\n",
              "      <th>sentiment_label</th>\n",
              "      <th>date_of_review</th>\n",
              "      <th>reviewers_product_images</th>\n",
              "    </tr>\n",
              "  </thead>\n",
              "  <tbody>\n",
              "    <tr>\n",
              "      <th>443</th>\n",
              "      <td>23258222</td>\n",
              "      <td>HIGHLANDER</td>\n",
              "      <td>Blue Striped Polo Collar Slim Fit T-shirt</td>\n",
              "      <td>543</td>\n",
              "      <td>1699</td>\n",
              "      <td>68</td>\n",
              "      <td>Polyester</td>\n",
              "      <td>Polo Collar</td>\n",
              "      <td>3.9</td>\n",
              "      <td>570</td>\n",
              "      <td>['3', '5', '4', '1']</td>\n",
              "      <td>['Product quality not good', \"It's good qualit...</td>\n",
              "      <td>['Gourav Mondal', 'Chaitanya', 'Abdul Salam', ...</td>\n",
              "      <td>Negative</td>\n",
              "      <td>['15 Oct 2023', '16 Dec 2023', '13 July 2023',...</td>\n",
              "      <td>[]</td>\n",
              "    </tr>\n",
              "    <tr>\n",
              "      <th>319</th>\n",
              "      <td>24704290</td>\n",
              "      <td>Fleximaa</td>\n",
              "      <td>Polo Collar Pure Cotton T-shirt</td>\n",
              "      <td>519</td>\n",
              "      <td>999</td>\n",
              "      <td>52</td>\n",
              "      <td>Pure Cotton</td>\n",
              "      <td>Polo Collar</td>\n",
              "      <td>4.2</td>\n",
              "      <td>5</td>\n",
              "      <td>['1']</td>\n",
              "      <td>['Poor quality, a kind of cheating']</td>\n",
              "      <td>['Martin Lowel']</td>\n",
              "      <td>Positive</td>\n",
              "      <td>['2 Jan 2024']</td>\n",
              "      <td>[]</td>\n",
              "    </tr>\n",
              "  </tbody>\n",
              "</table>\n",
              "</div>\n",
              "    <div class=\"colab-df-buttons\">\n",
              "\n",
              "  <div class=\"colab-df-container\">\n",
              "    <button class=\"colab-df-convert\" onclick=\"convertToInteractive('df-da6a269d-f5bf-4177-9fc7-2908dfe23df2')\"\n",
              "            title=\"Convert this dataframe to an interactive table.\"\n",
              "            style=\"display:none;\">\n",
              "\n",
              "  <svg xmlns=\"http://www.w3.org/2000/svg\" height=\"24px\" viewBox=\"0 -960 960 960\">\n",
              "    <path d=\"M120-120v-720h720v720H120Zm60-500h600v-160H180v160Zm220 220h160v-160H400v160Zm0 220h160v-160H400v160ZM180-400h160v-160H180v160Zm440 0h160v-160H620v160ZM180-180h160v-160H180v160Zm440 0h160v-160H620v160Z\"/>\n",
              "  </svg>\n",
              "    </button>\n",
              "\n",
              "  <style>\n",
              "    .colab-df-container {\n",
              "      display:flex;\n",
              "      gap: 12px;\n",
              "    }\n",
              "\n",
              "    .colab-df-convert {\n",
              "      background-color: #E8F0FE;\n",
              "      border: none;\n",
              "      border-radius: 50%;\n",
              "      cursor: pointer;\n",
              "      display: none;\n",
              "      fill: #1967D2;\n",
              "      height: 32px;\n",
              "      padding: 0 0 0 0;\n",
              "      width: 32px;\n",
              "    }\n",
              "\n",
              "    .colab-df-convert:hover {\n",
              "      background-color: #E2EBFA;\n",
              "      box-shadow: 0px 1px 2px rgba(60, 64, 67, 0.3), 0px 1px 3px 1px rgba(60, 64, 67, 0.15);\n",
              "      fill: #174EA6;\n",
              "    }\n",
              "\n",
              "    .colab-df-buttons div {\n",
              "      margin-bottom: 4px;\n",
              "    }\n",
              "\n",
              "    [theme=dark] .colab-df-convert {\n",
              "      background-color: #3B4455;\n",
              "      fill: #D2E3FC;\n",
              "    }\n",
              "\n",
              "    [theme=dark] .colab-df-convert:hover {\n",
              "      background-color: #434B5C;\n",
              "      box-shadow: 0px 1px 3px 1px rgba(0, 0, 0, 0.15);\n",
              "      filter: drop-shadow(0px 1px 2px rgba(0, 0, 0, 0.3));\n",
              "      fill: #FFFFFF;\n",
              "    }\n",
              "  </style>\n",
              "\n",
              "    <script>\n",
              "      const buttonEl =\n",
              "        document.querySelector('#df-da6a269d-f5bf-4177-9fc7-2908dfe23df2 button.colab-df-convert');\n",
              "      buttonEl.style.display =\n",
              "        google.colab.kernel.accessAllowed ? 'block' : 'none';\n",
              "\n",
              "      async function convertToInteractive(key) {\n",
              "        const element = document.querySelector('#df-da6a269d-f5bf-4177-9fc7-2908dfe23df2');\n",
              "        const dataTable =\n",
              "          await google.colab.kernel.invokeFunction('convertToInteractive',\n",
              "                                                    [key], {});\n",
              "        if (!dataTable) return;\n",
              "\n",
              "        const docLinkHtml = 'Like what you see? Visit the ' +\n",
              "          '<a target=\"_blank\" href=https://colab.research.google.com/notebooks/data_table.ipynb>data table notebook</a>'\n",
              "          + ' to learn more about interactive tables.';\n",
              "        element.innerHTML = '';\n",
              "        dataTable['output_type'] = 'display_data';\n",
              "        await google.colab.output.renderOutput(dataTable, element);\n",
              "        const docLink = document.createElement('div');\n",
              "        docLink.innerHTML = docLinkHtml;\n",
              "        element.appendChild(docLink);\n",
              "      }\n",
              "    </script>\n",
              "  </div>\n",
              "\n",
              "\n",
              "<div id=\"df-b67009c4-b143-4e63-bcf2-6a570ace43e9\">\n",
              "  <button class=\"colab-df-quickchart\" onclick=\"quickchart('df-b67009c4-b143-4e63-bcf2-6a570ace43e9')\"\n",
              "            title=\"Suggest charts\"\n",
              "            style=\"display:none;\">\n",
              "\n",
              "<svg xmlns=\"http://www.w3.org/2000/svg\" height=\"24px\"viewBox=\"0 0 24 24\"\n",
              "     width=\"24px\">\n",
              "    <g>\n",
              "        <path d=\"M19 3H5c-1.1 0-2 .9-2 2v14c0 1.1.9 2 2 2h14c1.1 0 2-.9 2-2V5c0-1.1-.9-2-2-2zM9 17H7v-7h2v7zm4 0h-2V7h2v10zm4 0h-2v-4h2v4z\"/>\n",
              "    </g>\n",
              "</svg>\n",
              "  </button>\n",
              "\n",
              "<style>\n",
              "  .colab-df-quickchart {\n",
              "      --bg-color: #E8F0FE;\n",
              "      --fill-color: #1967D2;\n",
              "      --hover-bg-color: #E2EBFA;\n",
              "      --hover-fill-color: #174EA6;\n",
              "      --disabled-fill-color: #AAA;\n",
              "      --disabled-bg-color: #DDD;\n",
              "  }\n",
              "\n",
              "  [theme=dark] .colab-df-quickchart {\n",
              "      --bg-color: #3B4455;\n",
              "      --fill-color: #D2E3FC;\n",
              "      --hover-bg-color: #434B5C;\n",
              "      --hover-fill-color: #FFFFFF;\n",
              "      --disabled-bg-color: #3B4455;\n",
              "      --disabled-fill-color: #666;\n",
              "  }\n",
              "\n",
              "  .colab-df-quickchart {\n",
              "    background-color: var(--bg-color);\n",
              "    border: none;\n",
              "    border-radius: 50%;\n",
              "    cursor: pointer;\n",
              "    display: none;\n",
              "    fill: var(--fill-color);\n",
              "    height: 32px;\n",
              "    padding: 0;\n",
              "    width: 32px;\n",
              "  }\n",
              "\n",
              "  .colab-df-quickchart:hover {\n",
              "    background-color: var(--hover-bg-color);\n",
              "    box-shadow: 0 1px 2px rgba(60, 64, 67, 0.3), 0 1px 3px 1px rgba(60, 64, 67, 0.15);\n",
              "    fill: var(--button-hover-fill-color);\n",
              "  }\n",
              "\n",
              "  .colab-df-quickchart-complete:disabled,\n",
              "  .colab-df-quickchart-complete:disabled:hover {\n",
              "    background-color: var(--disabled-bg-color);\n",
              "    fill: var(--disabled-fill-color);\n",
              "    box-shadow: none;\n",
              "  }\n",
              "\n",
              "  .colab-df-spinner {\n",
              "    border: 2px solid var(--fill-color);\n",
              "    border-color: transparent;\n",
              "    border-bottom-color: var(--fill-color);\n",
              "    animation:\n",
              "      spin 1s steps(1) infinite;\n",
              "  }\n",
              "\n",
              "  @keyframes spin {\n",
              "    0% {\n",
              "      border-color: transparent;\n",
              "      border-bottom-color: var(--fill-color);\n",
              "      border-left-color: var(--fill-color);\n",
              "    }\n",
              "    20% {\n",
              "      border-color: transparent;\n",
              "      border-left-color: var(--fill-color);\n",
              "      border-top-color: var(--fill-color);\n",
              "    }\n",
              "    30% {\n",
              "      border-color: transparent;\n",
              "      border-left-color: var(--fill-color);\n",
              "      border-top-color: var(--fill-color);\n",
              "      border-right-color: var(--fill-color);\n",
              "    }\n",
              "    40% {\n",
              "      border-color: transparent;\n",
              "      border-right-color: var(--fill-color);\n",
              "      border-top-color: var(--fill-color);\n",
              "    }\n",
              "    60% {\n",
              "      border-color: transparent;\n",
              "      border-right-color: var(--fill-color);\n",
              "    }\n",
              "    80% {\n",
              "      border-color: transparent;\n",
              "      border-right-color: var(--fill-color);\n",
              "      border-bottom-color: var(--fill-color);\n",
              "    }\n",
              "    90% {\n",
              "      border-color: transparent;\n",
              "      border-bottom-color: var(--fill-color);\n",
              "    }\n",
              "  }\n",
              "</style>\n",
              "\n",
              "  <script>\n",
              "    async function quickchart(key) {\n",
              "      const quickchartButtonEl =\n",
              "        document.querySelector('#' + key + ' button');\n",
              "      quickchartButtonEl.disabled = true;  // To prevent multiple clicks.\n",
              "      quickchartButtonEl.classList.add('colab-df-spinner');\n",
              "      try {\n",
              "        const charts = await google.colab.kernel.invokeFunction(\n",
              "            'suggestCharts', [key], {});\n",
              "      } catch (error) {\n",
              "        console.error('Error during call to suggestCharts:', error);\n",
              "      }\n",
              "      quickchartButtonEl.classList.remove('colab-df-spinner');\n",
              "      quickchartButtonEl.classList.add('colab-df-quickchart-complete');\n",
              "    }\n",
              "    (() => {\n",
              "      let quickchartButtonEl =\n",
              "        document.querySelector('#df-b67009c4-b143-4e63-bcf2-6a570ace43e9 button');\n",
              "      quickchartButtonEl.style.display =\n",
              "        google.colab.kernel.accessAllowed ? 'block' : 'none';\n",
              "    })();\n",
              "  </script>\n",
              "</div>\n",
              "\n",
              "    </div>\n",
              "  </div>\n"
            ]
          },
          "metadata": {},
          "execution_count": 16
        }
      ]
    },
    {
      "cell_type": "code",
      "source": [
        "#df_review.to_csv('mynthra_dataset_review_label.csv')"
      ],
      "metadata": {
        "id": "1Yq_PeZwk7XU"
      },
      "execution_count": 17,
      "outputs": []
    },
    {
      "cell_type": "markdown",
      "source": [
        "## Cleaning Review"
      ],
      "metadata": {
        "id": "s-vIV8gPLSxd"
      }
    },
    {
      "cell_type": "code",
      "source": [
        "df_review['customer_review_text'][2]"
      ],
      "metadata": {
        "colab": {
          "base_uri": "https://localhost:8080/",
          "height": 123
        },
        "id": "RdN2WTl-Kls3",
        "outputId": "6a73e61e-5d7b-438f-9414-0634d802267a"
      },
      "execution_count": 18,
      "outputs": [
        {
          "output_type": "execute_result",
          "data": {
            "text/plain": [
              "'[\\'Comfortable fabric and bottle green colour\\', \"This is my first order on myntra..?. Product quality is very good? and it\\'s so comfortable ?. The time of delivery is very good?. Being a customer of myntra i am sooo happy??\", \\'I bought this tshirt first for my brother and i really liked the fit and fabric...so I bought the same for myself but this time I got a tshirt which looks the same but with rough fabric..\\', \"The product sheds color dye right after first use. It is advisable to wash it alone. The product is thinner but it\\'s worth it if you\\'re paying anything between 300 - 350. Also buy one size more than what is mentioned.\", \"Product is good , but could have been better, it\\'s thinner considering the price and the length is somewhat short ( negligible yet recognisable)\", \"The quality of the product is superb, it\\'s just the size. It\\'s not the original size as mentioned. I usually wear M but for this I need to exchange for the size L. Other than that I loved the quality and the print. 5 full star\", \\'Product is nice. But length is somewhat short for me.\\', \"Quality of the product is ok, I don\\'t if it stays with same colour after the wash but fits perfect. Colour is a bit lighter side compared to the display pictures. Over all I will give 3 start for total quality and color of the T-shirt.\", \\'Superbb nice product quality good badget tshirt ?\\', \\'Fitting is good for 175cm height and weight 68 and fabric quality is also nice.\\', \\'Product is good, quality excellent and size medium if fit for me overall roduct is real and is more than good our expectations\\', \\'Product is good quality and comfortable to wear.\\', \\'The product is good. Fits perfectly and the material is also great. Worth the price !\\', \\'Ordered size L was a bit loose but the length was correct. Material is very smooth like nylon. Good print quality on the shirt.\\', \\'One of my favourite t-shirt. The colour is very attractive and the material of the product is pretty good. Fitting is also perfect. Completely value for money.\\', \\'The best buy i have ever had from Myntra. Came out to be perfect size, colour and looks totally eye catching. Just as it is displayed on the screen it came out exactly like that. Thank you Urbano fashion.\\', \\'Comfortable t-shirt?Good quality ?❤\\', \\'A perfectly fit for a bit healthy me\\', \\'It was good, the colour,print, looks everything but size was too short. Had to gift it. It looked like something that couldn be worn by a teenager and not a youth. Extremely disappointing.\\', \\'Get one size larger. I usually buy L. But when i wore it, the fitting was that of M size. I did cross check. It was L size tshirt. So i exchanged it for XL\\', \\'The print is good but not that visible as shown in picture, but like the material and quality is not that great and nor so bad you can take it avg. But I liked the t-shirt\\', \\'Got the tshirt...delivery was not on time by the delivery person..it got delayed for 2 days..but the product quality is good.\\', \\'The Tshirt is looking good and the fabric cotton is excellent but the size is EXACTLY FIT but I am convinced to use the tshirt for occasionally.\\', \\'Dark green print on green tee and quality is just ok may be it will go off after one or two washes\\', \\'This is an excellent product. But length is somewhat short. Otherwise recommended to buy it. Worth the price\\', \"Same as pic. Really liked it. Size and fit everything was perfect. I don\\'t know about the colour if it goes after washing but liked the stuff.\", \\'Seems perfect. Good color. And great fit. Looks great too,!!\\', \\'The product cotton is good..but the colour is not good as shown on the picture..if you want to buy it then only buy it for fittings purpose not for the unicnes of the colour combination..the tropical leaves are not really visible on the t-shirt..\\', \\'Good one at this price. Cool green and the design is good. But the material is hard. Good one for cold place.\\', \\'Quality is good...not far better...\\', \\'Tshrt thickness is like our regular thsrts but clr and size fitting everything is perfect\\', \"Feels nice to wear, fits well. it\\'s cotton but doesn\\'t look like it probably difference between combed cotton\", \\'Short sleeves t-shirt was delivered even after placing replacement orders twice. Though the quality is good pretty disappointed about the sleeves.\\', \\'Fabric-- It is good but not too good. Fit- fit is too good. across shoulder,sleeve length chest size all ia good but straight length is 1 in short in medium size.\\', \\'Cloth material is very light, perfect for summer. Sleeve length is perfect but length is somewhat short is what I feel.\\', \\'Loved it❤️\\', \\'Very nice quality of fabric. Beautiful colour and amazing fitting??\\', \\'Nice and overall fit is nice and fabric is but the sleeves is little loose After washing the clothe shrink and now this is perfect for me\\', \\'Bought it for my husband… it looked really nice!\\', \\'Texture and colour was great but It was a little short and fades color so don’t wash it with any white fabric\\', \\'The good thing is it comes as I ordered and I appreciate that but the quality is weak\\', \\'I bought 3 t-shirts and this one is just perfect💯.. The other two is also good.. But the size for this one is perfect.\\', \\'Very nice and as expected same as shown in the picture .. very cool my husband looks handsome in that t- shirt... Thank you Myntra\\', \\'Cotton is not that much soft as expected and overall fitting is very good and colour is also perfect.\\', \\'The fabric material is too thin, the company logo is also missing from t shirt as shown in other customers photos. Below average product.\\', \\'Accha hai ,thoda aur branding kiya ja sakta hai ...price k hisab se or competition k according\\', \\'I purchased this for my husband, he liked it... great fitting and also cloth is very good...thank you Myntra.\\', \"The tshirt wasn\\'t new. It was stitched around the neck on one side. And I had removed the tag without seeing it. Otherwise would\\'ve returned it. Product style and fitting was good but still my Money got wasted on a defective piece.\", \\'Not complete cotton. Mixed. Good fitting .\\', \\'Just amazing dark colour, as shown in pictures and fabric quality is too great.\\', \\'The colour is just the same in the image. Very nice, comfortable to wear. I took for my son. He really liked it!!!\\', \\'Color is nice but cloth is not worth it. Cloth is becomming loose after 1week of use. It will become a pochha with a wash.\\', \\'Quality of product average\\', \\'The quality of the material is not that good but overall it has a good design.\\', \\'Very Soft Material And Good Quality\\', \\'The product is too good. Delivery on time. Same colour. Satisfied. ??❤\\', \\'cloth is good. I will suggest order 1 size higher for this brand.\\', \\'t-shirt are very thin but good colors\\', \\'Length of tshirt is little bit short, otherwise product quality is upto the mark.\\', \\'Not really a good product. Firstly, the colour fades. Secondly, the body length is not long enough (hardly covering the belt post of a trousers) comparing to the hand(almost reach the half of a palm). The cloth is somehow okay, since it is soft.\\', \\'Nice good product tnx Myntra ?\\', \\'Same color.. Dats y I m always say myntra k jaisa koi nhi.. Thnq myntra and thnq for delivery boy.. Good job?\\', \\'Awesome Tshirt brought it for my husband and the fitting was perfect? material quality is also so good ?\\', \\'Well fitings too good\\', \\'Fabric and color of T-shirt is pretty good. Fit and on expectations.\\', \\'Good product at this price\\', \\'It is nice to wear T-shirt and colour is nice 👌 but material wise bit disappointed 😢 Value for money ✨👌\\', \"Good fabric, same as in picture but length was a bit shorter than expected. I\\'m 6\\'3 and ordered size L, the fit is correct though\", \\'Poor quality Colour washed out after one machine wash Too short in length Not satisfied Should not have bought it\\', \"It\\'s perfect size for me I like it quality is good as per price, very light weight and comfortable to wear\", \\'Its feel very light weight.amazing product i love it.fast delivery\\', \\'A little long in sleeves ..but rest is good .. good too buy under offers ..\\', \\'Nice Material, Great Fit. I dont buy clothing online but this time I guess this was the write guess\\', \\'Very nice i am very happy\\', \\'All fitting are good according to size buy sleeves r very tight\\', \\'Very good product\\', \\'T-shirt is good love the fabric soft & smooth\\', \\'Good no so tight, loose.\\', \\'Tshirt fabric is so comfortable to wear. Same as in the picture.\\', \\'Quality is nice ?????? but thoda loose hai.\\', \\'The shirt quality is not upto the mark. The outside is some kinda print and not smooth.\\', \\'I have ordered this tshirt for my husband. He liked it very much. Colour does not bleed after wash.\\', \\'The sleeves are a bit loose. However, the overall quality is good.\\', \\'My husband wears this shirt daily at home and still quality is good its been and year since i order it\\', \\'Quality was not upto the mark. Even it is available below 200 rs outside for this quality of cloth\\', \\'Nice color and fit\\', \\'Overall NYC t-shirt but quality a little more could be better\\', \\'It is really good quality shirt and it was fit as expected. Really happy for it thank you Myntra.\\', \\'Was ok cloth quality should be improved\\', \\'Material not very good but the color and print was accurate\\', \\'Excellent product. Fabric is too good and colour is same as shown in the image. Thank you 😊\\', \"It\\'s good but colour is coming out when wash the t shirt\", \"Excellent and perfect fit colour was awesome thank you and love u Myntra just go for it don\\'t wait\", \"The quality of cloth doesn\\'t justify the price. Cloth is too thin. I have doubts about its durability.\", \\'Quality is good. Look into the size chart before you buy.\\', \\'Nice color..same as shown in pic..good fabric..must buy\\', \\'Product is good. However, somehow after the 1st wash in machine, the size got reduced noticably.\\', \\'Good one...bought it for my husband..it was perfect\\', \\'Right the choice of mine your kindness help me to find it, thanks ্্্্Mukherjee\\', \"Colour,and fittings are very good, quality is not that much good but it\\'s ok for party wear. Looks really nice\", \\'Quality good , packaging good, perfect fit, budget item , feel soft all quality are good\\', \\'Super very nice colour as shown as picture .very comfortable. Tq mintra and Urbano fashion\\', \\'Perfect fit. The product quality was also great.The colour looks the same as the picture.\\', \\'The quality of the cloth is not good ...round neck is pretty wide ...not so happy with this.\\', \\'Product looks nice but the material is little thin\\', \\'Product is very good\\', \\'Niceee\\', \\'Nice to wear for casual occasions good value for money\\', \\'Quality is ok as per price. But it was short in height. But looks good.\\', \\'Very beautiful $ comfortable nice t shirt\\', \\'Good fit a lil short in length but overall good\\', \\'Same as shown in picture.. Nice one.. I like it\\', \\'its a very good product.... you should buy it\\', \\'Good quality of clothes thank you myntra app\\', \\'Awesome cloth nice fitting value for money 💰\\', \\'Good one.\\', \\'Cloth quality is good Color is little bit dull\\', \"Cloth is too thin. And shirt design not popping like a. Showing in photo. It\\'s not worth\", \"It\\'s a nice product. Good to go for purchase.\", \"Quality is really good but it\\'s too tight.. Xxl size not available\", \\'Good fitting and material was as expected\\', \\'It loses color very easily while washing. Other than that a good fit for Summers.\\', \\'The product Is very much good and the quality of the product is very good\\', \\'Good product but the size is very big\\', \"Good, the cloth quality could\\'ve been better\", \\'Very good quality ? Happy with quality and fitness ? Value for money ?\\', \\'Best quality and design I liked very much . I enjoyed when I am wearing this .\\', \\'Fittings wise is okay as per the size but quality of cloth is not up to the mark.\\', \\'I love the product as expected thnx ?\\', \\'The colour I thought it was not that it was different from that\\', \\'Go for 1size bigger than ur regular size...\\', \\'Good fit nd colour. Liked it but could have been better if it had little more length.\\', \\'Very nice fibric. I just love the cloth it was very comfortable to wear.\\', \\'This is anice product.. no issues..\\', \\'Colour and size at present awesome but how long colour will remain same?\\', \\'Same colour as we shown in the image..Quality is good and comfortable.\\', \"Everything is good but for some fat people it\\'s bit tight.\", \\'Received as expected product thankyou so much myntra, As good as think\\', \\'Length and all good. Cloth is light.\\', \\'Nice product guys. Thank you myntra\\', \\'Little costly and all over is good\\', \\'Very nice tshirt . Same as shown in image . Good quality.good fabric . I am Fully satisfied ? thankyou myantra\\', \\'Love the product like d brand quality ❤️?❤️?❤️?\\', \\'Over all gud\\', \\'Still looks good after first wash\\', \\'I’m so happy\\', \\'Comfortable to wear good colour..\\', \\'Look : as expected. Fitting?\\', \\'Not so good and not so bad just ok brand Quality is just above avaerage\\', \\'The product is good but bad stitching best neck side\\', \\'Good quality.. Colour as shown in the picture.. loved the product..\\', \\'Perfect fit for me thanks Myntra\\', \"It\\'s perfect. Fabric is too good\", \"It\\'s just awesome... Comfort and look good.. my husband just love it\", \\'Best fitting and once your wear the shirt it looks best appearance.\\', \\'According price good product..\\', \\'Sleeves are bit short, fitting product, product quality is good and soft\\', \\'Nice T-shirt Quality rating 2.5/5 for the price It’s transparent\\', \\'Myntra always best to any one\\', \\'I am truly satisfied with the product. Really good in every terms\\', \\'Yeah it’s material is good.\\', \\'Awesome product?Quality is very good ..?????\\', \\'Nice T-shirt. Amazing fitting\\', \\'Quality of product is too good\\', \\'Noramal fabric. Fit to good.\\', \\'Fit and quality are perfect.\\', \\'Beautiful product. Will have to see how long the color will last.\\', \\'This product quality is best\\', \\'Good... Same color as in dp\\', \\'Correct fit & nice quality\\', \\'Fitting, length everything was good...but quality was not much good\\', \"It\\'s good for daily purpose\", \\'Good quality\\', \\'Good Product in this range\\', \\'Quality of. The product is not soo good but overall look is great...\\', \\'The tshirt was pretty good however the quality needs to work on it.\\', \\'Nice product\\', \\'Very good except length.\\', \\'Perfect product ✨ , Suits me good, nothing wrong to pinpoint , Can order\\', \\'Verry good product....lets see how the color lasts after wash\\']'"
            ],
            "application/vnd.google.colaboratory.intrinsic+json": {
              "type": "string"
            }
          },
          "metadata": {},
          "execution_count": 18
        }
      ]
    },
    {
      "cell_type": "code",
      "source": [
        "re.sub(r\"'s\\b\", \" is\", df_review['customer_review_text'][2])"
      ],
      "metadata": {
        "colab": {
          "base_uri": "https://localhost:8080/",
          "height": 123
        },
        "id": "op80NhVRJYrf",
        "outputId": "ffbd16f4-6425-4c5e-8bdf-f0c9bb242250"
      },
      "execution_count": 19,
      "outputs": [
        {
          "output_type": "execute_result",
          "data": {
            "text/plain": [
              "'[\\'Comfortable fabric and bottle green colour\\', \"This is my first order on myntra..?. Product quality is very good? and it is so comfortable ?. The time of delivery is very good?. Being a customer of myntra i am sooo happy??\", \\'I bought this tshirt first for my brother and i really liked the fit and fabric...so I bought the same for myself but this time I got a tshirt which looks the same but with rough fabric..\\', \"The product sheds color dye right after first use. It is advisable to wash it alone. The product is thinner but it is worth it if you\\'re paying anything between 300 - 350. Also buy one size more than what is mentioned.\", \"Product is good , but could have been better, it is thinner considering the price and the length is somewhat short ( negligible yet recognisable)\", \"The quality of the product is superb, it is just the size. It is not the original size as mentioned. I usually wear M but for this I need to exchange for the size L. Other than that I loved the quality and the print. 5 full star\", \\'Product is nice. But length is somewhat short for me.\\', \"Quality of the product is ok, I don\\'t if it stays with same colour after the wash but fits perfect. Colour is a bit lighter side compared to the display pictures. Over all I will give 3 start for total quality and color of the T-shirt.\", \\'Superbb nice product quality good badget tshirt ?\\', \\'Fitting is good for 175cm height and weight 68 and fabric quality is also nice.\\', \\'Product is good, quality excellent and size medium if fit for me overall roduct is real and is more than good our expectations\\', \\'Product is good quality and comfortable to wear.\\', \\'The product is good. Fits perfectly and the material is also great. Worth the price !\\', \\'Ordered size L was a bit loose but the length was correct. Material is very smooth like nylon. Good print quality on the shirt.\\', \\'One of my favourite t-shirt. The colour is very attractive and the material of the product is pretty good. Fitting is also perfect. Completely value for money.\\', \\'The best buy i have ever had from Myntra. Came out to be perfect size, colour and looks totally eye catching. Just as it is displayed on the screen it came out exactly like that. Thank you Urbano fashion.\\', \\'Comfortable t-shirt?Good quality ?❤\\', \\'A perfectly fit for a bit healthy me\\', \\'It was good, the colour,print, looks everything but size was too short. Had to gift it. It looked like something that couldn be worn by a teenager and not a youth. Extremely disappointing.\\', \\'Get one size larger. I usually buy L. But when i wore it, the fitting was that of M size. I did cross check. It was L size tshirt. So i exchanged it for XL\\', \\'The print is good but not that visible as shown in picture, but like the material and quality is not that great and nor so bad you can take it avg. But I liked the t-shirt\\', \\'Got the tshirt...delivery was not on time by the delivery person..it got delayed for 2 days..but the product quality is good.\\', \\'The Tshirt is looking good and the fabric cotton is excellent but the size is EXACTLY FIT but I am convinced to use the tshirt for occasionally.\\', \\'Dark green print on green tee and quality is just ok may be it will go off after one or two washes\\', \\'This is an excellent product. But length is somewhat short. Otherwise recommended to buy it. Worth the price\\', \"Same as pic. Really liked it. Size and fit everything was perfect. I don\\'t know about the colour if it goes after washing but liked the stuff.\", \\'Seems perfect. Good color. And great fit. Looks great too,!!\\', \\'The product cotton is good..but the colour is not good as shown on the picture..if you want to buy it then only buy it for fittings purpose not for the unicnes of the colour combination..the tropical leaves are not really visible on the t-shirt..\\', \\'Good one at this price. Cool green and the design is good. But the material is hard. Good one for cold place.\\', \\'Quality is good...not far better...\\', \\'Tshrt thickness is like our regular thsrts but clr and size fitting everything is perfect\\', \"Feels nice to wear, fits well. it is cotton but doesn\\'t look like it probably difference between combed cotton\", \\'Short sleeves t-shirt was delivered even after placing replacement orders twice. Though the quality is good pretty disappointed about the sleeves.\\', \\'Fabric-- It is good but not too good. Fit- fit is too good. across shoulder,sleeve length chest size all ia good but straight length is 1 in short in medium size.\\', \\'Cloth material is very light, perfect for summer. Sleeve length is perfect but length is somewhat short is what I feel.\\', \\'Loved it❤️\\', \\'Very nice quality of fabric. Beautiful colour and amazing fitting??\\', \\'Nice and overall fit is nice and fabric is but the sleeves is little loose After washing the clothe shrink and now this is perfect for me\\', \\'Bought it for my husband… it looked really nice!\\', \\'Texture and colour was great but It was a little short and fades color so don’t wash it with any white fabric\\', \\'The good thing is it comes as I ordered and I appreciate that but the quality is weak\\', \\'I bought 3 t-shirts and this one is just perfect💯.. The other two is also good.. But the size for this one is perfect.\\', \\'Very nice and as expected same as shown in the picture .. very cool my husband looks handsome in that t- shirt... Thank you Myntra\\', \\'Cotton is not that much soft as expected and overall fitting is very good and colour is also perfect.\\', \\'The fabric material is too thin, the company logo is also missing from t shirt as shown in other customers photos. Below average product.\\', \\'Accha hai ,thoda aur branding kiya ja sakta hai ...price k hisab se or competition k according\\', \\'I purchased this for my husband, he liked it... great fitting and also cloth is very good...thank you Myntra.\\', \"The tshirt wasn\\'t new. It was stitched around the neck on one side. And I had removed the tag without seeing it. Otherwise would\\'ve returned it. Product style and fitting was good but still my Money got wasted on a defective piece.\", \\'Not complete cotton. Mixed. Good fitting .\\', \\'Just amazing dark colour, as shown in pictures and fabric quality is too great.\\', \\'The colour is just the same in the image. Very nice, comfortable to wear. I took for my son. He really liked it!!!\\', \\'Color is nice but cloth is not worth it. Cloth is becomming loose after 1week of use. It will become a pochha with a wash.\\', \\'Quality of product average\\', \\'The quality of the material is not that good but overall it has a good design.\\', \\'Very Soft Material And Good Quality\\', \\'The product is too good. Delivery on time. Same colour. Satisfied. ??❤\\', \\'cloth is good. I will suggest order 1 size higher for this brand.\\', \\'t-shirt are very thin but good colors\\', \\'Length of tshirt is little bit short, otherwise product quality is upto the mark.\\', \\'Not really a good product. Firstly, the colour fades. Secondly, the body length is not long enough (hardly covering the belt post of a trousers) comparing to the hand(almost reach the half of a palm). The cloth is somehow okay, since it is soft.\\', \\'Nice good product tnx Myntra ?\\', \\'Same color.. Dats y I m always say myntra k jaisa koi nhi.. Thnq myntra and thnq for delivery boy.. Good job?\\', \\'Awesome Tshirt brought it for my husband and the fitting was perfect? material quality is also so good ?\\', \\'Well fitings too good\\', \\'Fabric and color of T-shirt is pretty good. Fit and on expectations.\\', \\'Good product at this price\\', \\'It is nice to wear T-shirt and colour is nice 👌 but material wise bit disappointed 😢 Value for money ✨👌\\', \"Good fabric, same as in picture but length was a bit shorter than expected. I\\'m 6\\'3 and ordered size L, the fit is correct though\", \\'Poor quality Colour washed out after one machine wash Too short in length Not satisfied Should not have bought it\\', \"It is perfect size for me I like it quality is good as per price, very light weight and comfortable to wear\", \\'Its feel very light weight.amazing product i love it.fast delivery\\', \\'A little long in sleeves ..but rest is good .. good too buy under offers ..\\', \\'Nice Material, Great Fit. I dont buy clothing online but this time I guess this was the write guess\\', \\'Very nice i am very happy\\', \\'All fitting are good according to size buy sleeves r very tight\\', \\'Very good product\\', \\'T-shirt is good love the fabric soft & smooth\\', \\'Good no so tight, loose.\\', \\'Tshirt fabric is so comfortable to wear. Same as in the picture.\\', \\'Quality is nice ?????? but thoda loose hai.\\', \\'The shirt quality is not upto the mark. The outside is some kinda print and not smooth.\\', \\'I have ordered this tshirt for my husband. He liked it very much. Colour does not bleed after wash.\\', \\'The sleeves are a bit loose. However, the overall quality is good.\\', \\'My husband wears this shirt daily at home and still quality is good its been and year since i order it\\', \\'Quality was not upto the mark. Even it is available below 200 rs outside for this quality of cloth\\', \\'Nice color and fit\\', \\'Overall NYC t-shirt but quality a little more could be better\\', \\'It is really good quality shirt and it was fit as expected. Really happy for it thank you Myntra.\\', \\'Was ok cloth quality should be improved\\', \\'Material not very good but the color and print was accurate\\', \\'Excellent product. Fabric is too good and colour is same as shown in the image. Thank you 😊\\', \"It is good but colour is coming out when wash the t shirt\", \"Excellent and perfect fit colour was awesome thank you and love u Myntra just go for it don\\'t wait\", \"The quality of cloth doesn\\'t justify the price. Cloth is too thin. I have doubts about its durability.\", \\'Quality is good. Look into the size chart before you buy.\\', \\'Nice color..same as shown in pic..good fabric..must buy\\', \\'Product is good. However, somehow after the 1st wash in machine, the size got reduced noticably.\\', \\'Good one...bought it for my husband..it was perfect\\', \\'Right the choice of mine your kindness help me to find it, thanks ্্্্Mukherjee\\', \"Colour,and fittings are very good, quality is not that much good but it is ok for party wear. Looks really nice\", \\'Quality good , packaging good, perfect fit, budget item , feel soft all quality are good\\', \\'Super very nice colour as shown as picture .very comfortable. Tq mintra and Urbano fashion\\', \\'Perfect fit. The product quality was also great.The colour looks the same as the picture.\\', \\'The quality of the cloth is not good ...round neck is pretty wide ...not so happy with this.\\', \\'Product looks nice but the material is little thin\\', \\'Product is very good\\', \\'Niceee\\', \\'Nice to wear for casual occasions good value for money\\', \\'Quality is ok as per price. But it was short in height. But looks good.\\', \\'Very beautiful $ comfortable nice t shirt\\', \\'Good fit a lil short in length but overall good\\', \\'Same as shown in picture.. Nice one.. I like it\\', \\'its a very good product.... you should buy it\\', \\'Good quality of clothes thank you myntra app\\', \\'Awesome cloth nice fitting value for money 💰\\', \\'Good one.\\', \\'Cloth quality is good Color is little bit dull\\', \"Cloth is too thin. And shirt design not popping like a. Showing in photo. It is not worth\", \"It is a nice product. Good to go for purchase.\", \"Quality is really good but it is too tight.. Xxl size not available\", \\'Good fitting and material was as expected\\', \\'It loses color very easily while washing. Other than that a good fit for Summers.\\', \\'The product Is very much good and the quality of the product is very good\\', \\'Good product but the size is very big\\', \"Good, the cloth quality could\\'ve been better\", \\'Very good quality ? Happy with quality and fitness ? Value for money ?\\', \\'Best quality and design I liked very much . I enjoyed when I am wearing this .\\', \\'Fittings wise is okay as per the size but quality of cloth is not up to the mark.\\', \\'I love the product as expected thnx ?\\', \\'The colour I thought it was not that it was different from that\\', \\'Go for 1size bigger than ur regular size...\\', \\'Good fit nd colour. Liked it but could have been better if it had little more length.\\', \\'Very nice fibric. I just love the cloth it was very comfortable to wear.\\', \\'This is anice product.. no issues..\\', \\'Colour and size at present awesome but how long colour will remain same?\\', \\'Same colour as we shown in the image..Quality is good and comfortable.\\', \"Everything is good but for some fat people it is bit tight.\", \\'Received as expected product thankyou so much myntra, As good as think\\', \\'Length and all good. Cloth is light.\\', \\'Nice product guys. Thank you myntra\\', \\'Little costly and all over is good\\', \\'Very nice tshirt . Same as shown in image . Good quality.good fabric . I am Fully satisfied ? thankyou myantra\\', \\'Love the product like d brand quality ❤️?❤️?❤️?\\', \\'Over all gud\\', \\'Still looks good after first wash\\', \\'I’m so happy\\', \\'Comfortable to wear good colour..\\', \\'Look : as expected. Fitting?\\', \\'Not so good and not so bad just ok brand Quality is just above avaerage\\', \\'The product is good but bad stitching best neck side\\', \\'Good quality.. Colour as shown in the picture.. loved the product..\\', \\'Perfect fit for me thanks Myntra\\', \"It is perfect. Fabric is too good\", \"It is just awesome... Comfort and look good.. my husband just love it\", \\'Best fitting and once your wear the shirt it looks best appearance.\\', \\'According price good product..\\', \\'Sleeves are bit short, fitting product, product quality is good and soft\\', \\'Nice T-shirt Quality rating 2.5/5 for the price It’s transparent\\', \\'Myntra always best to any one\\', \\'I am truly satisfied with the product. Really good in every terms\\', \\'Yeah it’s material is good.\\', \\'Awesome product?Quality is very good ..?????\\', \\'Nice T-shirt. Amazing fitting\\', \\'Quality of product is too good\\', \\'Noramal fabric. Fit to good.\\', \\'Fit and quality are perfect.\\', \\'Beautiful product. Will have to see how long the color will last.\\', \\'This product quality is best\\', \\'Good... Same color as in dp\\', \\'Correct fit & nice quality\\', \\'Fitting, length everything was good...but quality was not much good\\', \"It is good for daily purpose\", \\'Good quality\\', \\'Good Product in this range\\', \\'Quality of. The product is not soo good but overall look is great...\\', \\'The tshirt was pretty good however the quality needs to work on it.\\', \\'Nice product\\', \\'Very good except length.\\', \\'Perfect product ✨ , Suits me good, nothing wrong to pinpoint , Can order\\', \\'Verry good product....lets see how the color lasts after wash\\']'"
            ],
            "application/vnd.google.colaboratory.intrinsic+json": {
              "type": "string"
            }
          },
          "metadata": {},
          "execution_count": 19
        }
      ]
    },
    {
      "cell_type": "code",
      "source": [
        "re.sub(r'[^a-zA-Z]',' ', df_review['customer_review_text'][2])"
      ],
      "metadata": {
        "colab": {
          "base_uri": "https://localhost:8080/",
          "height": 123
        },
        "id": "-68wSVkg1fBh",
        "outputId": "6687ba1c-cb18-41aa-e5e7-8a3165ee74ef"
      },
      "execution_count": 20,
      "outputs": [
        {
          "output_type": "execute_result",
          "data": {
            "text/plain": [
              "'  Comfortable fabric and bottle green colour    This is my first order on myntra     Product quality is very good  and it s so comfortable    The time of delivery is very good   Being a customer of myntra i am sooo happy      I bought this tshirt first for my brother and i really liked the fit and fabric   so I bought the same for myself but this time I got a tshirt which looks the same but with rough fabric      The product sheds color dye right after first use  It is advisable to wash it alone  The product is thinner but it s worth it if you re paying anything between            Also buy one size more than what is mentioned     Product is good   but could have been better  it s thinner considering the price and the length is somewhat short   negligible yet recognisable     The quality of the product is superb  it s just the size  It s not the original size as mentioned  I usually wear M but for this I need to exchange for the size L  Other than that I loved the quality and the print    full star    Product is nice  But length is somewhat short for me     Quality of the product is ok  I don t if it stays with same colour after the wash but fits perfect  Colour is a bit lighter side compared to the display pictures  Over all I will give   start for total quality and color of the T shirt     Superbb nice product quality good badget tshirt      Fitting is good for    cm height and weight    and fabric quality is also nice     Product is good  quality excellent and size medium if fit for me overall roduct is real and is more than good our expectations    Product is good quality and comfortable to wear     The product is good  Fits perfectly and the material is also great  Worth the price      Ordered size L was a bit loose but the length was correct  Material is very smooth like nylon  Good print quality on the shirt     One of my favourite t shirt  The colour is very attractive and the material of the product is pretty good  Fitting is also perfect  Completely value for money     The best buy i have ever had from Myntra  Came out to be perfect size  colour and looks totally eye catching  Just as it is displayed on the screen it came out exactly like that  Thank you Urbano fashion     Comfortable t shirt Good quality       A perfectly fit for a bit healthy me    It was good  the colour print  looks everything but size was too short  Had to gift it  It looked like something that couldn be worn by a teenager and not a youth  Extremely disappointing     Get one size larger  I usually buy L  But when i wore it  the fitting was that of M size  I did cross check  It was L size tshirt  So i exchanged it for XL    The print is good but not that visible as shown in picture  but like the material and quality is not that great and nor so bad you can take it avg  But I liked the t shirt    Got the tshirt   delivery was not on time by the delivery person  it got delayed for   days  but the product quality is good     The Tshirt is looking good and the fabric cotton is excellent but the size is EXACTLY FIT but I am convinced to use the tshirt for occasionally     Dark green print on green tee and quality is just ok may be it will go off after one or two washes    This is an excellent product  But length is somewhat short  Otherwise recommended to buy it  Worth the price    Same as pic  Really liked it  Size and fit everything was perfect  I don t know about the colour if it goes after washing but liked the stuff     Seems perfect  Good color  And great fit  Looks great too       The product cotton is good  but the colour is not good as shown on the picture  if you want to buy it then only buy it for fittings purpose not for the unicnes of the colour combination  the tropical leaves are not really visible on the t shirt      Good one at this price  Cool green and the design is good  But the material is hard  Good one for cold place     Quality is good   not far better       Tshrt thickness is like our regular thsrts but clr and size fitting everything is perfect    Feels nice to wear  fits well  it s cotton but doesn t look like it probably difference between combed cotton    Short sleeves t shirt was delivered even after placing replacement orders twice  Though the quality is good pretty disappointed about the sleeves     Fabric   It is good but not too good  Fit  fit is too good  across shoulder sleeve length chest size all ia good but straight length is   in short in medium size     Cloth material is very light  perfect for summer  Sleeve length is perfect but length is somewhat short is what I feel     Loved it      Very nice quality of fabric  Beautiful colour and amazing fitting      Nice and overall fit is nice and fabric is but the sleeves is little loose After washing the clothe shrink and now this is perfect for me    Bought it for my husband  it looked really nice     Texture and colour was great but It was a little short and fades color so don t wash it with any white fabric    The good thing is it comes as I ordered and I appreciate that but the quality is weak    I bought   t shirts and this one is just perfect    The other two is also good   But the size for this one is perfect     Very nice and as expected same as shown in the picture    very cool my husband looks handsome in that t  shirt    Thank you Myntra    Cotton is not that much soft as expected and overall fitting is very good and colour is also perfect     The fabric material is too thin  the company logo is also missing from t shirt as shown in other customers photos  Below average product     Accha hai  thoda aur branding kiya ja sakta hai    price k hisab se or competition k according    I purchased this for my husband  he liked it    great fitting and also cloth is very good   thank you Myntra     The tshirt wasn t new  It was stitched around the neck on one side  And I had removed the tag without seeing it  Otherwise would ve returned it  Product style and fitting was good but still my Money got wasted on a defective piece     Not complete cotton  Mixed  Good fitting      Just amazing dark colour  as shown in pictures and fabric quality is too great     The colour is just the same in the image  Very nice  comfortable to wear  I took for my son  He really liked it       Color is nice but cloth is not worth it  Cloth is becomming loose after  week of use  It will become a pochha with a wash     Quality of product average    The quality of the material is not that good but overall it has a good design     Very Soft Material And Good Quality    The product is too good  Delivery on time  Same colour  Satisfied         cloth is good  I will suggest order   size higher for this brand     t shirt are very thin but good colors    Length of tshirt is little bit short  otherwise product quality is upto the mark     Not really a good product  Firstly  the colour fades  Secondly  the body length is not long enough  hardly covering the belt post of a trousers  comparing to the hand almost reach the half of a palm   The cloth is somehow okay  since it is soft     Nice good product tnx Myntra      Same color   Dats y I m always say myntra k jaisa koi nhi   Thnq myntra and thnq for delivery boy   Good job     Awesome Tshirt brought it for my husband and the fitting was perfect  material quality is also so good      Well fitings too good    Fabric and color of T shirt is pretty good  Fit and on expectations     Good product at this price    It is nice to wear T shirt and colour is nice   but material wise bit disappointed   Value for money       Good fabric  same as in picture but length was a bit shorter than expected  I m     and ordered size L  the fit is correct though    Poor quality Colour washed out after one machine wash Too short in length Not satisfied Should not have bought it    It s perfect size for me I like it quality is good as per price  very light weight and comfortable to wear    Its feel very light weight amazing product i love it fast delivery    A little long in sleeves   but rest is good    good too buy under offers       Nice Material  Great Fit  I dont buy clothing online but this time I guess this was the write guess    Very nice i am very happy    All fitting are good according to size buy sleeves r very tight    Very good product    T shirt is good love the fabric soft   smooth    Good no so tight  loose     Tshirt fabric is so comfortable to wear  Same as in the picture     Quality is nice        but thoda loose hai     The shirt quality is not upto the mark  The outside is some kinda print and not smooth     I have ordered this tshirt for my husband  He liked it very much  Colour does not bleed after wash     The sleeves are a bit loose  However  the overall quality is good     My husband wears this shirt daily at home and still quality is good its been and year since i order it    Quality was not upto the mark  Even it is available below     rs outside for this quality of cloth    Nice color and fit    Overall NYC t shirt but quality a little more could be better    It is really good quality shirt and it was fit as expected  Really happy for it thank you Myntra     Was ok cloth quality should be improved    Material not very good but the color and print was accurate    Excellent product  Fabric is too good and colour is same as shown in the image  Thank you      It s good but colour is coming out when wash the t shirt    Excellent and perfect fit colour was awesome thank you and love u Myntra just go for it don t wait    The quality of cloth doesn t justify the price  Cloth is too thin  I have doubts about its durability     Quality is good  Look into the size chart before you buy     Nice color  same as shown in pic  good fabric  must buy    Product is good  However  somehow after the  st wash in machine  the size got reduced noticably     Good one   bought it for my husband  it was perfect    Right the choice of mine your kindness help me to find it  thanks     Mukherjee    Colour and fittings are very good  quality is not that much good but it s ok for party wear  Looks really nice    Quality good   packaging good  perfect fit  budget item   feel soft all quality are good    Super very nice colour as shown as picture  very comfortable  Tq mintra and Urbano fashion    Perfect fit  The product quality was also great The colour looks the same as the picture     The quality of the cloth is not good    round neck is pretty wide    not so happy with this     Product looks nice but the material is little thin    Product is very good    Niceee    Nice to wear for casual occasions good value for money    Quality is ok as per price  But it was short in height  But looks good     Very beautiful   comfortable nice t shirt    Good fit a lil short in length but overall good    Same as shown in picture   Nice one   I like it    its a very good product     you should buy it    Good quality of clothes thank you myntra app    Awesome cloth nice fitting value for money      Good one     Cloth quality is good Color is little bit dull    Cloth is too thin  And shirt design not popping like a  Showing in photo  It s not worth    It s a nice product  Good to go for purchase     Quality is really good but it s too tight   Xxl size not available    Good fitting and material was as expected    It loses color very easily while washing  Other than that a good fit for Summers     The product Is very much good and the quality of the product is very good    Good product but the size is very big    Good  the cloth quality could ve been better    Very good quality   Happy with quality and fitness   Value for money      Best quality and design I liked very much   I enjoyed when I am wearing this      Fittings wise is okay as per the size but quality of cloth is not up to the mark     I love the product as expected thnx      The colour I thought it was not that it was different from that    Go for  size bigger than ur regular size       Good fit nd colour  Liked it but could have been better if it had little more length     Very nice fibric  I just love the cloth it was very comfortable to wear     This is anice product   no issues      Colour and size at present awesome but how long colour will remain same     Same colour as we shown in the image  Quality is good and comfortable     Everything is good but for some fat people it s bit tight     Received as expected product thankyou so much myntra  As good as think    Length and all good  Cloth is light     Nice product guys  Thank you myntra    Little costly and all over is good    Very nice tshirt   Same as shown in image   Good quality good fabric   I am Fully satisfied   thankyou myantra    Love the product like d brand quality              Over all gud    Still looks good after first wash    I m so happy    Comfortable to wear good colour      Look   as expected  Fitting     Not so good and not so bad just ok brand Quality is just above avaerage    The product is good but bad stitching best neck side    Good quality   Colour as shown in the picture   loved the product      Perfect fit for me thanks Myntra    It s perfect  Fabric is too good    It s just awesome    Comfort and look good   my husband just love it    Best fitting and once your wear the shirt it looks best appearance     According price good product      Sleeves are bit short  fitting product  product quality is good and soft    Nice T shirt Quality rating       for the price It s transparent    Myntra always best to any one    I am truly satisfied with the product  Really good in every terms    Yeah it s material is good     Awesome product Quality is very good            Nice T shirt  Amazing fitting    Quality of product is too good    Noramal fabric  Fit to good     Fit and quality are perfect     Beautiful product  Will have to see how long the color will last     This product quality is best    Good    Same color as in dp    Correct fit   nice quality    Fitting  length everything was good   but quality was not much good    It s good for daily purpose    Good quality    Good Product in this range    Quality of  The product is not soo good but overall look is great       The tshirt was pretty good however the quality needs to work on it     Nice product    Very good except length     Perfect product     Suits me good  nothing wrong to pinpoint   Can order    Verry good product    lets see how the color lasts after wash  '"
            ],
            "application/vnd.google.colaboratory.intrinsic+json": {
              "type": "string"
            }
          },
          "metadata": {},
          "execution_count": 20
        }
      ]
    },
    {
      "cell_type": "code",
      "source": [
        "re.sub(r'[^\\s\\w]|[\\d]',' ', df_review['customer_review_text'][2])"
      ],
      "metadata": {
        "colab": {
          "base_uri": "https://localhost:8080/",
          "height": 123
        },
        "id": "e-MSihgCIrOg",
        "outputId": "39bdde89-b574-45a0-f3ac-6fd320ffa4bb"
      },
      "execution_count": 21,
      "outputs": [
        {
          "output_type": "execute_result",
          "data": {
            "text/plain": [
              "'  Comfortable fabric and bottle green colour    This is my first order on myntra     Product quality is very good  and it s so comfortable    The time of delivery is very good   Being a customer of myntra i am sooo happy      I bought this tshirt first for my brother and i really liked the fit and fabric   so I bought the same for myself but this time I got a tshirt which looks the same but with rough fabric      The product sheds color dye right after first use  It is advisable to wash it alone  The product is thinner but it s worth it if you re paying anything between            Also buy one size more than what is mentioned     Product is good   but could have been better  it s thinner considering the price and the length is somewhat short   negligible yet recognisable     The quality of the product is superb  it s just the size  It s not the original size as mentioned  I usually wear M but for this I need to exchange for the size L  Other than that I loved the quality and the print    full star    Product is nice  But length is somewhat short for me     Quality of the product is ok  I don t if it stays with same colour after the wash but fits perfect  Colour is a bit lighter side compared to the display pictures  Over all I will give   start for total quality and color of the T shirt     Superbb nice product quality good badget tshirt      Fitting is good for    cm height and weight    and fabric quality is also nice     Product is good  quality excellent and size medium if fit for me overall roduct is real and is more than good our expectations    Product is good quality and comfortable to wear     The product is good  Fits perfectly and the material is also great  Worth the price      Ordered size L was a bit loose but the length was correct  Material is very smooth like nylon  Good print quality on the shirt     One of my favourite t shirt  The colour is very attractive and the material of the product is pretty good  Fitting is also perfect  Completely value for money     The best buy i have ever had from Myntra  Came out to be perfect size  colour and looks totally eye catching  Just as it is displayed on the screen it came out exactly like that  Thank you Urbano fashion     Comfortable t shirt Good quality       A perfectly fit for a bit healthy me    It was good  the colour print  looks everything but size was too short  Had to gift it  It looked like something that couldn be worn by a teenager and not a youth  Extremely disappointing     Get one size larger  I usually buy L  But when i wore it  the fitting was that of M size  I did cross check  It was L size tshirt  So i exchanged it for XL    The print is good but not that visible as shown in picture  but like the material and quality is not that great and nor so bad you can take it avg  But I liked the t shirt    Got the tshirt   delivery was not on time by the delivery person  it got delayed for   days  but the product quality is good     The Tshirt is looking good and the fabric cotton is excellent but the size is EXACTLY FIT but I am convinced to use the tshirt for occasionally     Dark green print on green tee and quality is just ok may be it will go off after one or two washes    This is an excellent product  But length is somewhat short  Otherwise recommended to buy it  Worth the price    Same as pic  Really liked it  Size and fit everything was perfect  I don t know about the colour if it goes after washing but liked the stuff     Seems perfect  Good color  And great fit  Looks great too       The product cotton is good  but the colour is not good as shown on the picture  if you want to buy it then only buy it for fittings purpose not for the unicnes of the colour combination  the tropical leaves are not really visible on the t shirt      Good one at this price  Cool green and the design is good  But the material is hard  Good one for cold place     Quality is good   not far better       Tshrt thickness is like our regular thsrts but clr and size fitting everything is perfect    Feels nice to wear  fits well  it s cotton but doesn t look like it probably difference between combed cotton    Short sleeves t shirt was delivered even after placing replacement orders twice  Though the quality is good pretty disappointed about the sleeves     Fabric   It is good but not too good  Fit  fit is too good  across shoulder sleeve length chest size all ia good but straight length is   in short in medium size     Cloth material is very light  perfect for summer  Sleeve length is perfect but length is somewhat short is what I feel     Loved it      Very nice quality of fabric  Beautiful colour and amazing fitting      Nice and overall fit is nice and fabric is but the sleeves is little loose After washing the clothe shrink and now this is perfect for me    Bought it for my husband  it looked really nice     Texture and colour was great but It was a little short and fades color so don t wash it with any white fabric    The good thing is it comes as I ordered and I appreciate that but the quality is weak    I bought   t shirts and this one is just perfect    The other two is also good   But the size for this one is perfect     Very nice and as expected same as shown in the picture    very cool my husband looks handsome in that t  shirt    Thank you Myntra    Cotton is not that much soft as expected and overall fitting is very good and colour is also perfect     The fabric material is too thin  the company logo is also missing from t shirt as shown in other customers photos  Below average product     Accha hai  thoda aur branding kiya ja sakta hai    price k hisab se or competition k according    I purchased this for my husband  he liked it    great fitting and also cloth is very good   thank you Myntra     The tshirt wasn t new  It was stitched around the neck on one side  And I had removed the tag without seeing it  Otherwise would ve returned it  Product style and fitting was good but still my Money got wasted on a defective piece     Not complete cotton  Mixed  Good fitting      Just amazing dark colour  as shown in pictures and fabric quality is too great     The colour is just the same in the image  Very nice  comfortable to wear  I took for my son  He really liked it       Color is nice but cloth is not worth it  Cloth is becomming loose after  week of use  It will become a pochha with a wash     Quality of product average    The quality of the material is not that good but overall it has a good design     Very Soft Material And Good Quality    The product is too good  Delivery on time  Same colour  Satisfied         cloth is good  I will suggest order   size higher for this brand     t shirt are very thin but good colors    Length of tshirt is little bit short  otherwise product quality is upto the mark     Not really a good product  Firstly  the colour fades  Secondly  the body length is not long enough  hardly covering the belt post of a trousers  comparing to the hand almost reach the half of a palm   The cloth is somehow okay  since it is soft     Nice good product tnx Myntra      Same color   Dats y I m always say myntra k jaisa koi nhi   Thnq myntra and thnq for delivery boy   Good job     Awesome Tshirt brought it for my husband and the fitting was perfect  material quality is also so good      Well fitings too good    Fabric and color of T shirt is pretty good  Fit and on expectations     Good product at this price    It is nice to wear T shirt and colour is nice   but material wise bit disappointed   Value for money       Good fabric  same as in picture but length was a bit shorter than expected  I m     and ordered size L  the fit is correct though    Poor quality Colour washed out after one machine wash Too short in length Not satisfied Should not have bought it    It s perfect size for me I like it quality is good as per price  very light weight and comfortable to wear    Its feel very light weight amazing product i love it fast delivery    A little long in sleeves   but rest is good    good too buy under offers       Nice Material  Great Fit  I dont buy clothing online but this time I guess this was the write guess    Very nice i am very happy    All fitting are good according to size buy sleeves r very tight    Very good product    T shirt is good love the fabric soft   smooth    Good no so tight  loose     Tshirt fabric is so comfortable to wear  Same as in the picture     Quality is nice        but thoda loose hai     The shirt quality is not upto the mark  The outside is some kinda print and not smooth     I have ordered this tshirt for my husband  He liked it very much  Colour does not bleed after wash     The sleeves are a bit loose  However  the overall quality is good     My husband wears this shirt daily at home and still quality is good its been and year since i order it    Quality was not upto the mark  Even it is available below     rs outside for this quality of cloth    Nice color and fit    Overall NYC t shirt but quality a little more could be better    It is really good quality shirt and it was fit as expected  Really happy for it thank you Myntra     Was ok cloth quality should be improved    Material not very good but the color and print was accurate    Excellent product  Fabric is too good and colour is same as shown in the image  Thank you      It s good but colour is coming out when wash the t shirt    Excellent and perfect fit colour was awesome thank you and love u Myntra just go for it don t wait    The quality of cloth doesn t justify the price  Cloth is too thin  I have doubts about its durability     Quality is good  Look into the size chart before you buy     Nice color  same as shown in pic  good fabric  must buy    Product is good  However  somehow after the  st wash in machine  the size got reduced noticably     Good one   bought it for my husband  it was perfect    Right the choice of mine your kindness help me to find it  thanks     Mukherjee    Colour and fittings are very good  quality is not that much good but it s ok for party wear  Looks really nice    Quality good   packaging good  perfect fit  budget item   feel soft all quality are good    Super very nice colour as shown as picture  very comfortable  Tq mintra and Urbano fashion    Perfect fit  The product quality was also great The colour looks the same as the picture     The quality of the cloth is not good    round neck is pretty wide    not so happy with this     Product looks nice but the material is little thin    Product is very good    Niceee    Nice to wear for casual occasions good value for money    Quality is ok as per price  But it was short in height  But looks good     Very beautiful   comfortable nice t shirt    Good fit a lil short in length but overall good    Same as shown in picture   Nice one   I like it    its a very good product     you should buy it    Good quality of clothes thank you myntra app    Awesome cloth nice fitting value for money      Good one     Cloth quality is good Color is little bit dull    Cloth is too thin  And shirt design not popping like a  Showing in photo  It s not worth    It s a nice product  Good to go for purchase     Quality is really good but it s too tight   Xxl size not available    Good fitting and material was as expected    It loses color very easily while washing  Other than that a good fit for Summers     The product Is very much good and the quality of the product is very good    Good product but the size is very big    Good  the cloth quality could ve been better    Very good quality   Happy with quality and fitness   Value for money      Best quality and design I liked very much   I enjoyed when I am wearing this      Fittings wise is okay as per the size but quality of cloth is not up to the mark     I love the product as expected thnx      The colour I thought it was not that it was different from that    Go for  size bigger than ur regular size       Good fit nd colour  Liked it but could have been better if it had little more length     Very nice fibric  I just love the cloth it was very comfortable to wear     This is anice product   no issues      Colour and size at present awesome but how long colour will remain same     Same colour as we shown in the image  Quality is good and comfortable     Everything is good but for some fat people it s bit tight     Received as expected product thankyou so much myntra  As good as think    Length and all good  Cloth is light     Nice product guys  Thank you myntra    Little costly and all over is good    Very nice tshirt   Same as shown in image   Good quality good fabric   I am Fully satisfied   thankyou myantra    Love the product like d brand quality              Over all gud    Still looks good after first wash    I m so happy    Comfortable to wear good colour      Look   as expected  Fitting     Not so good and not so bad just ok brand Quality is just above avaerage    The product is good but bad stitching best neck side    Good quality   Colour as shown in the picture   loved the product      Perfect fit for me thanks Myntra    It s perfect  Fabric is too good    It s just awesome    Comfort and look good   my husband just love it    Best fitting and once your wear the shirt it looks best appearance     According price good product      Sleeves are bit short  fitting product  product quality is good and soft    Nice T shirt Quality rating       for the price It s transparent    Myntra always best to any one    I am truly satisfied with the product  Really good in every terms    Yeah it s material is good     Awesome product Quality is very good            Nice T shirt  Amazing fitting    Quality of product is too good    Noramal fabric  Fit to good     Fit and quality are perfect     Beautiful product  Will have to see how long the color will last     This product quality is best    Good    Same color as in dp    Correct fit   nice quality    Fitting  length everything was good   but quality was not much good    It s good for daily purpose    Good quality    Good Product in this range    Quality of  The product is not soo good but overall look is great       The tshirt was pretty good however the quality needs to work on it     Nice product    Very good except length     Perfect product     Suits me good  nothing wrong to pinpoint   Can order    Verry good product    lets see how the color lasts after wash  '"
            ],
            "application/vnd.google.colaboratory.intrinsic+json": {
              "type": "string"
            }
          },
          "metadata": {},
          "execution_count": 21
        }
      ]
    },
    {
      "cell_type": "code",
      "source": [
        "re.sub(r'[^\\w\\s]','', df_review['customer_review_text'][2])"
      ],
      "metadata": {
        "colab": {
          "base_uri": "https://localhost:8080/",
          "height": 123
        },
        "id": "qcFm483CFFFl",
        "outputId": "d1679a73-1095-42d2-f690-a64dc34bbee0"
      },
      "execution_count": 22,
      "outputs": [
        {
          "output_type": "execute_result",
          "data": {
            "text/plain": [
              "'Comfortable fabric and bottle green colour This is my first order on myntra Product quality is very good and its so comfortable  The time of delivery is very good Being a customer of myntra i am sooo happy I bought this tshirt first for my brother and i really liked the fit and fabricso I bought the same for myself but this time I got a tshirt which looks the same but with rough fabric The product sheds color dye right after first use It is advisable to wash it alone The product is thinner but its worth it if youre paying anything between 300  350 Also buy one size more than what is mentioned Product is good  but could have been better its thinner considering the price and the length is somewhat short  negligible yet recognisable The quality of the product is superb its just the size Its not the original size as mentioned I usually wear M but for this I need to exchange for the size L Other than that I loved the quality and the print 5 full star Product is nice But length is somewhat short for me Quality of the product is ok I dont if it stays with same colour after the wash but fits perfect Colour is a bit lighter side compared to the display pictures Over all I will give 3 start for total quality and color of the Tshirt Superbb nice product quality good badget tshirt  Fitting is good for 175cm height and weight 68 and fabric quality is also nice Product is good quality excellent and size medium if fit for me overall roduct is real and is more than good our expectations Product is good quality and comfortable to wear The product is good Fits perfectly and the material is also great Worth the price  Ordered size L was a bit loose but the length was correct Material is very smooth like nylon Good print quality on the shirt One of my favourite tshirt The colour is very attractive and the material of the product is pretty good Fitting is also perfect Completely value for money The best buy i have ever had from Myntra Came out to be perfect size colour and looks totally eye catching Just as it is displayed on the screen it came out exactly like that Thank you Urbano fashion Comfortable tshirtGood quality  A perfectly fit for a bit healthy me It was good the colourprint looks everything but size was too short Had to gift it It looked like something that couldn be worn by a teenager and not a youth Extremely disappointing Get one size larger I usually buy L But when i wore it the fitting was that of M size I did cross check It was L size tshirt So i exchanged it for XL The print is good but not that visible as shown in picture but like the material and quality is not that great and nor so bad you can take it avg But I liked the tshirt Got the tshirtdelivery was not on time by the delivery personit got delayed for 2 daysbut the product quality is good The Tshirt is looking good and the fabric cotton is excellent but the size is EXACTLY FIT but I am convinced to use the tshirt for occasionally Dark green print on green tee and quality is just ok may be it will go off after one or two washes This is an excellent product But length is somewhat short Otherwise recommended to buy it Worth the price Same as pic Really liked it Size and fit everything was perfect I dont know about the colour if it goes after washing but liked the stuff Seems perfect Good color And great fit Looks great too The product cotton is goodbut the colour is not good as shown on the pictureif you want to buy it then only buy it for fittings purpose not for the unicnes of the colour combinationthe tropical leaves are not really visible on the tshirt Good one at this price Cool green and the design is good But the material is hard Good one for cold place Quality is goodnot far better Tshrt thickness is like our regular thsrts but clr and size fitting everything is perfect Feels nice to wear fits well its cotton but doesnt look like it probably difference between combed cotton Short sleeves tshirt was delivered even after placing replacement orders twice Though the quality is good pretty disappointed about the sleeves Fabric It is good but not too good Fit fit is too good across shouldersleeve length chest size all ia good but straight length is 1 in short in medium size Cloth material is very light perfect for summer Sleeve length is perfect but length is somewhat short is what I feel Loved it Very nice quality of fabric Beautiful colour and amazing fitting Nice and overall fit is nice and fabric is but the sleeves is little loose After washing the clothe shrink and now this is perfect for me Bought it for my husband it looked really nice Texture and colour was great but It was a little short and fades color so dont wash it with any white fabric The good thing is it comes as I ordered and I appreciate that but the quality is weak I bought 3 tshirts and this one is just perfect The other two is also good But the size for this one is perfect Very nice and as expected same as shown in the picture  very cool my husband looks handsome in that t shirt Thank you Myntra Cotton is not that much soft as expected and overall fitting is very good and colour is also perfect The fabric material is too thin the company logo is also missing from t shirt as shown in other customers photos Below average product Accha hai thoda aur branding kiya ja sakta hai price k hisab se or competition k according I purchased this for my husband he liked it great fitting and also cloth is very goodthank you Myntra The tshirt wasnt new It was stitched around the neck on one side And I had removed the tag without seeing it Otherwise wouldve returned it Product style and fitting was good but still my Money got wasted on a defective piece Not complete cotton Mixed Good fitting  Just amazing dark colour as shown in pictures and fabric quality is too great The colour is just the same in the image Very nice comfortable to wear I took for my son He really liked it Color is nice but cloth is not worth it Cloth is becomming loose after 1week of use It will become a pochha with a wash Quality of product average The quality of the material is not that good but overall it has a good design Very Soft Material And Good Quality The product is too good Delivery on time Same colour Satisfied  cloth is good I will suggest order 1 size higher for this brand tshirt are very thin but good colors Length of tshirt is little bit short otherwise product quality is upto the mark Not really a good product Firstly the colour fades Secondly the body length is not long enough hardly covering the belt post of a trousers comparing to the handalmost reach the half of a palm The cloth is somehow okay since it is soft Nice good product tnx Myntra  Same color Dats y I m always say myntra k jaisa koi nhi Thnq myntra and thnq for delivery boy Good job Awesome Tshirt brought it for my husband and the fitting was perfect material quality is also so good  Well fitings too good Fabric and color of Tshirt is pretty good Fit and on expectations Good product at this price It is nice to wear Tshirt and colour is nice  but material wise bit disappointed  Value for money  Good fabric same as in picture but length was a bit shorter than expected Im 63 and ordered size L the fit is correct though Poor quality Colour washed out after one machine wash Too short in length Not satisfied Should not have bought it Its perfect size for me I like it quality is good as per price very light weight and comfortable to wear Its feel very light weightamazing product i love itfast delivery A little long in sleeves but rest is good  good too buy under offers  Nice Material Great Fit I dont buy clothing online but this time I guess this was the write guess Very nice i am very happy All fitting are good according to size buy sleeves r very tight Very good product Tshirt is good love the fabric soft  smooth Good no so tight loose Tshirt fabric is so comfortable to wear Same as in the picture Quality is nice  but thoda loose hai The shirt quality is not upto the mark The outside is some kinda print and not smooth I have ordered this tshirt for my husband He liked it very much Colour does not bleed after wash The sleeves are a bit loose However the overall quality is good My husband wears this shirt daily at home and still quality is good its been and year since i order it Quality was not upto the mark Even it is available below 200 rs outside for this quality of cloth Nice color and fit Overall NYC tshirt but quality a little more could be better It is really good quality shirt and it was fit as expected Really happy for it thank you Myntra Was ok cloth quality should be improved Material not very good but the color and print was accurate Excellent product Fabric is too good and colour is same as shown in the image Thank you  Its good but colour is coming out when wash the t shirt Excellent and perfect fit colour was awesome thank you and love u Myntra just go for it dont wait The quality of cloth doesnt justify the price Cloth is too thin I have doubts about its durability Quality is good Look into the size chart before you buy Nice colorsame as shown in picgood fabricmust buy Product is good However somehow after the 1st wash in machine the size got reduced noticably Good onebought it for my husbandit was perfect Right the choice of mine your kindness help me to find it thanks Mukherjee Colourand fittings are very good quality is not that much good but its ok for party wear Looks really nice Quality good  packaging good perfect fit budget item  feel soft all quality are good Super very nice colour as shown as picture very comfortable Tq mintra and Urbano fashion Perfect fit The product quality was also greatThe colour looks the same as the picture The quality of the cloth is not good round neck is pretty wide not so happy with this Product looks nice but the material is little thin Product is very good Niceee Nice to wear for casual occasions good value for money Quality is ok as per price But it was short in height But looks good Very beautiful  comfortable nice t shirt Good fit a lil short in length but overall good Same as shown in picture Nice one I like it its a very good product you should buy it Good quality of clothes thank you myntra app Awesome cloth nice fitting value for money  Good one Cloth quality is good Color is little bit dull Cloth is too thin And shirt design not popping like a Showing in photo Its not worth Its a nice product Good to go for purchase Quality is really good but its too tight Xxl size not available Good fitting and material was as expected It loses color very easily while washing Other than that a good fit for Summers The product Is very much good and the quality of the product is very good Good product but the size is very big Good the cloth quality couldve been better Very good quality  Happy with quality and fitness  Value for money  Best quality and design I liked very much  I enjoyed when I am wearing this  Fittings wise is okay as per the size but quality of cloth is not up to the mark I love the product as expected thnx  The colour I thought it was not that it was different from that Go for 1size bigger than ur regular size Good fit nd colour Liked it but could have been better if it had little more length Very nice fibric I just love the cloth it was very comfortable to wear This is anice product no issues Colour and size at present awesome but how long colour will remain same Same colour as we shown in the imageQuality is good and comfortable Everything is good but for some fat people its bit tight Received as expected product thankyou so much myntra As good as think Length and all good Cloth is light Nice product guys Thank you myntra Little costly and all over is good Very nice tshirt  Same as shown in image  Good qualitygood fabric  I am Fully satisfied  thankyou myantra Love the product like d brand quality  Over all gud Still looks good after first wash Im so happy Comfortable to wear good colour Look  as expected Fitting Not so good and not so bad just ok brand Quality is just above avaerage The product is good but bad stitching best neck side Good quality Colour as shown in the picture loved the product Perfect fit for me thanks Myntra Its perfect Fabric is too good Its just awesome Comfort and look good my husband just love it Best fitting and once your wear the shirt it looks best appearance According price good product Sleeves are bit short fitting product product quality is good and soft Nice Tshirt Quality rating 255 for the price Its transparent Myntra always best to any one I am truly satisfied with the product Really good in every terms Yeah its material is good Awesome productQuality is very good  Nice Tshirt Amazing fitting Quality of product is too good Noramal fabric Fit to good Fit and quality are perfect Beautiful product Will have to see how long the color will last This product quality is best Good Same color as in dp Correct fit  nice quality Fitting length everything was goodbut quality was not much good Its good for daily purpose Good quality Good Product in this range Quality of The product is not soo good but overall look is great The tshirt was pretty good however the quality needs to work on it Nice product Very good except length Perfect product   Suits me good nothing wrong to pinpoint  Can order Verry good productlets see how the color lasts after wash'"
            ],
            "application/vnd.google.colaboratory.intrinsic+json": {
              "type": "string"
            }
          },
          "metadata": {},
          "execution_count": 22
        }
      ]
    },
    {
      "cell_type": "code",
      "source": [
        "re.sub(r'[^\\w\\s]|[\\d]','', df_review['customer_review_text'][2])"
      ],
      "metadata": {
        "colab": {
          "base_uri": "https://localhost:8080/",
          "height": 123
        },
        "id": "lSG3-lqjMxM9",
        "outputId": "207a1009-af3f-4198-b896-651dca7005ec"
      },
      "execution_count": 23,
      "outputs": [
        {
          "output_type": "execute_result",
          "data": {
            "text/plain": [
              "'Comfortable fabric and bottle green colour This is my first order on myntra Product quality is very good and its so comfortable  The time of delivery is very good Being a customer of myntra i am sooo happy I bought this tshirt first for my brother and i really liked the fit and fabricso I bought the same for myself but this time I got a tshirt which looks the same but with rough fabric The product sheds color dye right after first use It is advisable to wash it alone The product is thinner but its worth it if youre paying anything between    Also buy one size more than what is mentioned Product is good  but could have been better its thinner considering the price and the length is somewhat short  negligible yet recognisable The quality of the product is superb its just the size Its not the original size as mentioned I usually wear M but for this I need to exchange for the size L Other than that I loved the quality and the print  full star Product is nice But length is somewhat short for me Quality of the product is ok I dont if it stays with same colour after the wash but fits perfect Colour is a bit lighter side compared to the display pictures Over all I will give  start for total quality and color of the Tshirt Superbb nice product quality good badget tshirt  Fitting is good for cm height and weight  and fabric quality is also nice Product is good quality excellent and size medium if fit for me overall roduct is real and is more than good our expectations Product is good quality and comfortable to wear The product is good Fits perfectly and the material is also great Worth the price  Ordered size L was a bit loose but the length was correct Material is very smooth like nylon Good print quality on the shirt One of my favourite tshirt The colour is very attractive and the material of the product is pretty good Fitting is also perfect Completely value for money The best buy i have ever had from Myntra Came out to be perfect size colour and looks totally eye catching Just as it is displayed on the screen it came out exactly like that Thank you Urbano fashion Comfortable tshirtGood quality  A perfectly fit for a bit healthy me It was good the colourprint looks everything but size was too short Had to gift it It looked like something that couldn be worn by a teenager and not a youth Extremely disappointing Get one size larger I usually buy L But when i wore it the fitting was that of M size I did cross check It was L size tshirt So i exchanged it for XL The print is good but not that visible as shown in picture but like the material and quality is not that great and nor so bad you can take it avg But I liked the tshirt Got the tshirtdelivery was not on time by the delivery personit got delayed for  daysbut the product quality is good The Tshirt is looking good and the fabric cotton is excellent but the size is EXACTLY FIT but I am convinced to use the tshirt for occasionally Dark green print on green tee and quality is just ok may be it will go off after one or two washes This is an excellent product But length is somewhat short Otherwise recommended to buy it Worth the price Same as pic Really liked it Size and fit everything was perfect I dont know about the colour if it goes after washing but liked the stuff Seems perfect Good color And great fit Looks great too The product cotton is goodbut the colour is not good as shown on the pictureif you want to buy it then only buy it for fittings purpose not for the unicnes of the colour combinationthe tropical leaves are not really visible on the tshirt Good one at this price Cool green and the design is good But the material is hard Good one for cold place Quality is goodnot far better Tshrt thickness is like our regular thsrts but clr and size fitting everything is perfect Feels nice to wear fits well its cotton but doesnt look like it probably difference between combed cotton Short sleeves tshirt was delivered even after placing replacement orders twice Though the quality is good pretty disappointed about the sleeves Fabric It is good but not too good Fit fit is too good across shouldersleeve length chest size all ia good but straight length is  in short in medium size Cloth material is very light perfect for summer Sleeve length is perfect but length is somewhat short is what I feel Loved it Very nice quality of fabric Beautiful colour and amazing fitting Nice and overall fit is nice and fabric is but the sleeves is little loose After washing the clothe shrink and now this is perfect for me Bought it for my husband it looked really nice Texture and colour was great but It was a little short and fades color so dont wash it with any white fabric The good thing is it comes as I ordered and I appreciate that but the quality is weak I bought  tshirts and this one is just perfect The other two is also good But the size for this one is perfect Very nice and as expected same as shown in the picture  very cool my husband looks handsome in that t shirt Thank you Myntra Cotton is not that much soft as expected and overall fitting is very good and colour is also perfect The fabric material is too thin the company logo is also missing from t shirt as shown in other customers photos Below average product Accha hai thoda aur branding kiya ja sakta hai price k hisab se or competition k according I purchased this for my husband he liked it great fitting and also cloth is very goodthank you Myntra The tshirt wasnt new It was stitched around the neck on one side And I had removed the tag without seeing it Otherwise wouldve returned it Product style and fitting was good but still my Money got wasted on a defective piece Not complete cotton Mixed Good fitting  Just amazing dark colour as shown in pictures and fabric quality is too great The colour is just the same in the image Very nice comfortable to wear I took for my son He really liked it Color is nice but cloth is not worth it Cloth is becomming loose after week of use It will become a pochha with a wash Quality of product average The quality of the material is not that good but overall it has a good design Very Soft Material And Good Quality The product is too good Delivery on time Same colour Satisfied  cloth is good I will suggest order  size higher for this brand tshirt are very thin but good colors Length of tshirt is little bit short otherwise product quality is upto the mark Not really a good product Firstly the colour fades Secondly the body length is not long enough hardly covering the belt post of a trousers comparing to the handalmost reach the half of a palm The cloth is somehow okay since it is soft Nice good product tnx Myntra  Same color Dats y I m always say myntra k jaisa koi nhi Thnq myntra and thnq for delivery boy Good job Awesome Tshirt brought it for my husband and the fitting was perfect material quality is also so good  Well fitings too good Fabric and color of Tshirt is pretty good Fit and on expectations Good product at this price It is nice to wear Tshirt and colour is nice  but material wise bit disappointed  Value for money  Good fabric same as in picture but length was a bit shorter than expected Im  and ordered size L the fit is correct though Poor quality Colour washed out after one machine wash Too short in length Not satisfied Should not have bought it Its perfect size for me I like it quality is good as per price very light weight and comfortable to wear Its feel very light weightamazing product i love itfast delivery A little long in sleeves but rest is good  good too buy under offers  Nice Material Great Fit I dont buy clothing online but this time I guess this was the write guess Very nice i am very happy All fitting are good according to size buy sleeves r very tight Very good product Tshirt is good love the fabric soft  smooth Good no so tight loose Tshirt fabric is so comfortable to wear Same as in the picture Quality is nice  but thoda loose hai The shirt quality is not upto the mark The outside is some kinda print and not smooth I have ordered this tshirt for my husband He liked it very much Colour does not bleed after wash The sleeves are a bit loose However the overall quality is good My husband wears this shirt daily at home and still quality is good its been and year since i order it Quality was not upto the mark Even it is available below  rs outside for this quality of cloth Nice color and fit Overall NYC tshirt but quality a little more could be better It is really good quality shirt and it was fit as expected Really happy for it thank you Myntra Was ok cloth quality should be improved Material not very good but the color and print was accurate Excellent product Fabric is too good and colour is same as shown in the image Thank you  Its good but colour is coming out when wash the t shirt Excellent and perfect fit colour was awesome thank you and love u Myntra just go for it dont wait The quality of cloth doesnt justify the price Cloth is too thin I have doubts about its durability Quality is good Look into the size chart before you buy Nice colorsame as shown in picgood fabricmust buy Product is good However somehow after the st wash in machine the size got reduced noticably Good onebought it for my husbandit was perfect Right the choice of mine your kindness help me to find it thanks Mukherjee Colourand fittings are very good quality is not that much good but its ok for party wear Looks really nice Quality good  packaging good perfect fit budget item  feel soft all quality are good Super very nice colour as shown as picture very comfortable Tq mintra and Urbano fashion Perfect fit The product quality was also greatThe colour looks the same as the picture The quality of the cloth is not good round neck is pretty wide not so happy with this Product looks nice but the material is little thin Product is very good Niceee Nice to wear for casual occasions good value for money Quality is ok as per price But it was short in height But looks good Very beautiful  comfortable nice t shirt Good fit a lil short in length but overall good Same as shown in picture Nice one I like it its a very good product you should buy it Good quality of clothes thank you myntra app Awesome cloth nice fitting value for money  Good one Cloth quality is good Color is little bit dull Cloth is too thin And shirt design not popping like a Showing in photo Its not worth Its a nice product Good to go for purchase Quality is really good but its too tight Xxl size not available Good fitting and material was as expected It loses color very easily while washing Other than that a good fit for Summers The product Is very much good and the quality of the product is very good Good product but the size is very big Good the cloth quality couldve been better Very good quality  Happy with quality and fitness  Value for money  Best quality and design I liked very much  I enjoyed when I am wearing this  Fittings wise is okay as per the size but quality of cloth is not up to the mark I love the product as expected thnx  The colour I thought it was not that it was different from that Go for size bigger than ur regular size Good fit nd colour Liked it but could have been better if it had little more length Very nice fibric I just love the cloth it was very comfortable to wear This is anice product no issues Colour and size at present awesome but how long colour will remain same Same colour as we shown in the imageQuality is good and comfortable Everything is good but for some fat people its bit tight Received as expected product thankyou so much myntra As good as think Length and all good Cloth is light Nice product guys Thank you myntra Little costly and all over is good Very nice tshirt  Same as shown in image  Good qualitygood fabric  I am Fully satisfied  thankyou myantra Love the product like d brand quality  Over all gud Still looks good after first wash Im so happy Comfortable to wear good colour Look  as expected Fitting Not so good and not so bad just ok brand Quality is just above avaerage The product is good but bad stitching best neck side Good quality Colour as shown in the picture loved the product Perfect fit for me thanks Myntra Its perfect Fabric is too good Its just awesome Comfort and look good my husband just love it Best fitting and once your wear the shirt it looks best appearance According price good product Sleeves are bit short fitting product product quality is good and soft Nice Tshirt Quality rating  for the price Its transparent Myntra always best to any one I am truly satisfied with the product Really good in every terms Yeah its material is good Awesome productQuality is very good  Nice Tshirt Amazing fitting Quality of product is too good Noramal fabric Fit to good Fit and quality are perfect Beautiful product Will have to see how long the color will last This product quality is best Good Same color as in dp Correct fit  nice quality Fitting length everything was goodbut quality was not much good Its good for daily purpose Good quality Good Product in this range Quality of The product is not soo good but overall look is great The tshirt was pretty good however the quality needs to work on it Nice product Very good except length Perfect product   Suits me good nothing wrong to pinpoint  Can order Verry good productlets see how the color lasts after wash'"
            ],
            "application/vnd.google.colaboratory.intrinsic+json": {
              "type": "string"
            }
          },
          "metadata": {},
          "execution_count": 23
        }
      ]
    },
    {
      "cell_type": "code",
      "source": [
        "df_review['customer_review_text'][2].lower().strip()"
      ],
      "metadata": {
        "colab": {
          "base_uri": "https://localhost:8080/",
          "height": 123
        },
        "id": "dJPIxIzDLYb0",
        "outputId": "1e3753c2-8c36-4595-fb7e-99e309e49291"
      },
      "execution_count": 24,
      "outputs": [
        {
          "output_type": "execute_result",
          "data": {
            "text/plain": [
              "'[\\'comfortable fabric and bottle green colour\\', \"this is my first order on myntra..?. product quality is very good? and it\\'s so comfortable ?. the time of delivery is very good?. being a customer of myntra i am sooo happy??\", \\'i bought this tshirt first for my brother and i really liked the fit and fabric...so i bought the same for myself but this time i got a tshirt which looks the same but with rough fabric..\\', \"the product sheds color dye right after first use. it is advisable to wash it alone. the product is thinner but it\\'s worth it if you\\'re paying anything between 300 - 350. also buy one size more than what is mentioned.\", \"product is good , but could have been better, it\\'s thinner considering the price and the length is somewhat short ( negligible yet recognisable)\", \"the quality of the product is superb, it\\'s just the size. it\\'s not the original size as mentioned. i usually wear m but for this i need to exchange for the size l. other than that i loved the quality and the print. 5 full star\", \\'product is nice. but length is somewhat short for me.\\', \"quality of the product is ok, i don\\'t if it stays with same colour after the wash but fits perfect. colour is a bit lighter side compared to the display pictures. over all i will give 3 start for total quality and color of the t-shirt.\", \\'superbb nice product quality good badget tshirt ?\\', \\'fitting is good for 175cm height and weight 68 and fabric quality is also nice.\\', \\'product is good, quality excellent and size medium if fit for me overall roduct is real and is more than good our expectations\\', \\'product is good quality and comfortable to wear.\\', \\'the product is good. fits perfectly and the material is also great. worth the price !\\', \\'ordered size l was a bit loose but the length was correct. material is very smooth like nylon. good print quality on the shirt.\\', \\'one of my favourite t-shirt. the colour is very attractive and the material of the product is pretty good. fitting is also perfect. completely value for money.\\', \\'the best buy i have ever had from myntra. came out to be perfect size, colour and looks totally eye catching. just as it is displayed on the screen it came out exactly like that. thank you urbano fashion.\\', \\'comfortable t-shirt?good quality ?❤\\', \\'a perfectly fit for a bit healthy me\\', \\'it was good, the colour,print, looks everything but size was too short. had to gift it. it looked like something that couldn be worn by a teenager and not a youth. extremely disappointing.\\', \\'get one size larger. i usually buy l. but when i wore it, the fitting was that of m size. i did cross check. it was l size tshirt. so i exchanged it for xl\\', \\'the print is good but not that visible as shown in picture, but like the material and quality is not that great and nor so bad you can take it avg. but i liked the t-shirt\\', \\'got the tshirt...delivery was not on time by the delivery person..it got delayed for 2 days..but the product quality is good.\\', \\'the tshirt is looking good and the fabric cotton is excellent but the size is exactly fit but i am convinced to use the tshirt for occasionally.\\', \\'dark green print on green tee and quality is just ok may be it will go off after one or two washes\\', \\'this is an excellent product. but length is somewhat short. otherwise recommended to buy it. worth the price\\', \"same as pic. really liked it. size and fit everything was perfect. i don\\'t know about the colour if it goes after washing but liked the stuff.\", \\'seems perfect. good color. and great fit. looks great too,!!\\', \\'the product cotton is good..but the colour is not good as shown on the picture..if you want to buy it then only buy it for fittings purpose not for the unicnes of the colour combination..the tropical leaves are not really visible on the t-shirt..\\', \\'good one at this price. cool green and the design is good. but the material is hard. good one for cold place.\\', \\'quality is good...not far better...\\', \\'tshrt thickness is like our regular thsrts but clr and size fitting everything is perfect\\', \"feels nice to wear, fits well. it\\'s cotton but doesn\\'t look like it probably difference between combed cotton\", \\'short sleeves t-shirt was delivered even after placing replacement orders twice. though the quality is good pretty disappointed about the sleeves.\\', \\'fabric-- it is good but not too good. fit- fit is too good. across shoulder,sleeve length chest size all ia good but straight length is 1 in short in medium size.\\', \\'cloth material is very light, perfect for summer. sleeve length is perfect but length is somewhat short is what i feel.\\', \\'loved it❤️\\', \\'very nice quality of fabric. beautiful colour and amazing fitting??\\', \\'nice and overall fit is nice and fabric is but the sleeves is little loose after washing the clothe shrink and now this is perfect for me\\', \\'bought it for my husband… it looked really nice!\\', \\'texture and colour was great but it was a little short and fades color so don’t wash it with any white fabric\\', \\'the good thing is it comes as i ordered and i appreciate that but the quality is weak\\', \\'i bought 3 t-shirts and this one is just perfect💯.. the other two is also good.. but the size for this one is perfect.\\', \\'very nice and as expected same as shown in the picture .. very cool my husband looks handsome in that t- shirt... thank you myntra\\', \\'cotton is not that much soft as expected and overall fitting is very good and colour is also perfect.\\', \\'the fabric material is too thin, the company logo is also missing from t shirt as shown in other customers photos. below average product.\\', \\'accha hai ,thoda aur branding kiya ja sakta hai ...price k hisab se or competition k according\\', \\'i purchased this for my husband, he liked it... great fitting and also cloth is very good...thank you myntra.\\', \"the tshirt wasn\\'t new. it was stitched around the neck on one side. and i had removed the tag without seeing it. otherwise would\\'ve returned it. product style and fitting was good but still my money got wasted on a defective piece.\", \\'not complete cotton. mixed. good fitting .\\', \\'just amazing dark colour, as shown in pictures and fabric quality is too great.\\', \\'the colour is just the same in the image. very nice, comfortable to wear. i took for my son. he really liked it!!!\\', \\'color is nice but cloth is not worth it. cloth is becomming loose after 1week of use. it will become a pochha with a wash.\\', \\'quality of product average\\', \\'the quality of the material is not that good but overall it has a good design.\\', \\'very soft material and good quality\\', \\'the product is too good. delivery on time. same colour. satisfied. ??❤\\', \\'cloth is good. i will suggest order 1 size higher for this brand.\\', \\'t-shirt are very thin but good colors\\', \\'length of tshirt is little bit short, otherwise product quality is upto the mark.\\', \\'not really a good product. firstly, the colour fades. secondly, the body length is not long enough (hardly covering the belt post of a trousers) comparing to the hand(almost reach the half of a palm). the cloth is somehow okay, since it is soft.\\', \\'nice good product tnx myntra ?\\', \\'same color.. dats y i m always say myntra k jaisa koi nhi.. thnq myntra and thnq for delivery boy.. good job?\\', \\'awesome tshirt brought it for my husband and the fitting was perfect? material quality is also so good ?\\', \\'well fitings too good\\', \\'fabric and color of t-shirt is pretty good. fit and on expectations.\\', \\'good product at this price\\', \\'it is nice to wear t-shirt and colour is nice 👌 but material wise bit disappointed 😢 value for money ✨👌\\', \"good fabric, same as in picture but length was a bit shorter than expected. i\\'m 6\\'3 and ordered size l, the fit is correct though\", \\'poor quality colour washed out after one machine wash too short in length not satisfied should not have bought it\\', \"it\\'s perfect size for me i like it quality is good as per price, very light weight and comfortable to wear\", \\'its feel very light weight.amazing product i love it.fast delivery\\', \\'a little long in sleeves ..but rest is good .. good too buy under offers ..\\', \\'nice material, great fit. i dont buy clothing online but this time i guess this was the write guess\\', \\'very nice i am very happy\\', \\'all fitting are good according to size buy sleeves r very tight\\', \\'very good product\\', \\'t-shirt is good love the fabric soft & smooth\\', \\'good no so tight, loose.\\', \\'tshirt fabric is so comfortable to wear. same as in the picture.\\', \\'quality is nice ?????? but thoda loose hai.\\', \\'the shirt quality is not upto the mark. the outside is some kinda print and not smooth.\\', \\'i have ordered this tshirt for my husband. he liked it very much. colour does not bleed after wash.\\', \\'the sleeves are a bit loose. however, the overall quality is good.\\', \\'my husband wears this shirt daily at home and still quality is good its been and year since i order it\\', \\'quality was not upto the mark. even it is available below 200 rs outside for this quality of cloth\\', \\'nice color and fit\\', \\'overall nyc t-shirt but quality a little more could be better\\', \\'it is really good quality shirt and it was fit as expected. really happy for it thank you myntra.\\', \\'was ok cloth quality should be improved\\', \\'material not very good but the color and print was accurate\\', \\'excellent product. fabric is too good and colour is same as shown in the image. thank you 😊\\', \"it\\'s good but colour is coming out when wash the t shirt\", \"excellent and perfect fit colour was awesome thank you and love u myntra just go for it don\\'t wait\", \"the quality of cloth doesn\\'t justify the price. cloth is too thin. i have doubts about its durability.\", \\'quality is good. look into the size chart before you buy.\\', \\'nice color..same as shown in pic..good fabric..must buy\\', \\'product is good. however, somehow after the 1st wash in machine, the size got reduced noticably.\\', \\'good one...bought it for my husband..it was perfect\\', \\'right the choice of mine your kindness help me to find it, thanks ্্্্mukherjee\\', \"colour,and fittings are very good, quality is not that much good but it\\'s ok for party wear. looks really nice\", \\'quality good , packaging good, perfect fit, budget item , feel soft all quality are good\\', \\'super very nice colour as shown as picture .very comfortable. tq mintra and urbano fashion\\', \\'perfect fit. the product quality was also great.the colour looks the same as the picture.\\', \\'the quality of the cloth is not good ...round neck is pretty wide ...not so happy with this.\\', \\'product looks nice but the material is little thin\\', \\'product is very good\\', \\'niceee\\', \\'nice to wear for casual occasions good value for money\\', \\'quality is ok as per price. but it was short in height. but looks good.\\', \\'very beautiful $ comfortable nice t shirt\\', \\'good fit a lil short in length but overall good\\', \\'same as shown in picture.. nice one.. i like it\\', \\'its a very good product.... you should buy it\\', \\'good quality of clothes thank you myntra app\\', \\'awesome cloth nice fitting value for money 💰\\', \\'good one.\\', \\'cloth quality is good color is little bit dull\\', \"cloth is too thin. and shirt design not popping like a. showing in photo. it\\'s not worth\", \"it\\'s a nice product. good to go for purchase.\", \"quality is really good but it\\'s too tight.. xxl size not available\", \\'good fitting and material was as expected\\', \\'it loses color very easily while washing. other than that a good fit for summers.\\', \\'the product is very much good and the quality of the product is very good\\', \\'good product but the size is very big\\', \"good, the cloth quality could\\'ve been better\", \\'very good quality ? happy with quality and fitness ? value for money ?\\', \\'best quality and design i liked very much . i enjoyed when i am wearing this .\\', \\'fittings wise is okay as per the size but quality of cloth is not up to the mark.\\', \\'i love the product as expected thnx ?\\', \\'the colour i thought it was not that it was different from that\\', \\'go for 1size bigger than ur regular size...\\', \\'good fit nd colour. liked it but could have been better if it had little more length.\\', \\'very nice fibric. i just love the cloth it was very comfortable to wear.\\', \\'this is anice product.. no issues..\\', \\'colour and size at present awesome but how long colour will remain same?\\', \\'same colour as we shown in the image..quality is good and comfortable.\\', \"everything is good but for some fat people it\\'s bit tight.\", \\'received as expected product thankyou so much myntra, as good as think\\', \\'length and all good. cloth is light.\\', \\'nice product guys. thank you myntra\\', \\'little costly and all over is good\\', \\'very nice tshirt . same as shown in image . good quality.good fabric . i am fully satisfied ? thankyou myantra\\', \\'love the product like d brand quality ❤️?❤️?❤️?\\', \\'over all gud\\', \\'still looks good after first wash\\', \\'i’m so happy\\', \\'comfortable to wear good colour..\\', \\'look : as expected. fitting?\\', \\'not so good and not so bad just ok brand quality is just above avaerage\\', \\'the product is good but bad stitching best neck side\\', \\'good quality.. colour as shown in the picture.. loved the product..\\', \\'perfect fit for me thanks myntra\\', \"it\\'s perfect. fabric is too good\", \"it\\'s just awesome... comfort and look good.. my husband just love it\", \\'best fitting and once your wear the shirt it looks best appearance.\\', \\'according price good product..\\', \\'sleeves are bit short, fitting product, product quality is good and soft\\', \\'nice t-shirt quality rating 2.5/5 for the price it’s transparent\\', \\'myntra always best to any one\\', \\'i am truly satisfied with the product. really good in every terms\\', \\'yeah it’s material is good.\\', \\'awesome product?quality is very good ..?????\\', \\'nice t-shirt. amazing fitting\\', \\'quality of product is too good\\', \\'noramal fabric. fit to good.\\', \\'fit and quality are perfect.\\', \\'beautiful product. will have to see how long the color will last.\\', \\'this product quality is best\\', \\'good... same color as in dp\\', \\'correct fit & nice quality\\', \\'fitting, length everything was good...but quality was not much good\\', \"it\\'s good for daily purpose\", \\'good quality\\', \\'good product in this range\\', \\'quality of. the product is not soo good but overall look is great...\\', \\'the tshirt was pretty good however the quality needs to work on it.\\', \\'nice product\\', \\'very good except length.\\', \\'perfect product ✨ , suits me good, nothing wrong to pinpoint , can order\\', \\'verry good product....lets see how the color lasts after wash\\']'"
            ],
            "application/vnd.google.colaboratory.intrinsic+json": {
              "type": "string"
            }
          },
          "metadata": {},
          "execution_count": 24
        }
      ]
    },
    {
      "cell_type": "code",
      "source": [],
      "metadata": {
        "id": "EfQ_UW4XNDVG"
      },
      "execution_count": 24,
      "outputs": []
    },
    {
      "cell_type": "markdown",
      "source": [
        "Define the cleaner function"
      ],
      "metadata": {
        "id": "UdSdAFaoNn6Q"
      }
    },
    {
      "cell_type": "code",
      "source": [
        "def review_clean(review):\n",
        "  new_review = re.sub(r\"'s\\b\", \" is\", review)\n",
        "  new_review = re.sub(r'[^a-zA-Z]',' ', review)\n",
        "  new_review = new_review.lower().strip()\n",
        "  return new_review"
      ],
      "metadata": {
        "id": "fY115OahLhME"
      },
      "execution_count": 25,
      "outputs": []
    },
    {
      "cell_type": "code",
      "source": [
        "cleaned_review = []\n",
        "for comment in df_review['customer_review_text']:\n",
        "  cleaned_review.append(review_clean(comment))"
      ],
      "metadata": {
        "id": "bq4NwW7xPQ4F"
      },
      "execution_count": 26,
      "outputs": []
    },
    {
      "cell_type": "code",
      "source": [
        "cleaned_review[1]"
      ],
      "metadata": {
        "colab": {
          "base_uri": "https://localhost:8080/",
          "height": 123
        },
        "id": "p-we2nBuP3kN",
        "outputId": "d2517d38-3d98-42ec-fb2b-821409c9b2e9"
      },
      "execution_count": 27,
      "outputs": [
        {
          "output_type": "execute_result",
          "data": {
            "text/plain": [
              "'the size correct fit and ok quality value for the money    after one wash colour faded    just wow  loved it       pathetic waste product poor quality material   even shortage of material between stitching  pls don t waste your money on it  highly suggest don t don t buy this      poor material and low quality prints especially the brand naming on the back     was littlebit tight at the under arm  other wise good product at this price      fabric quality is not good overall okay    fitting was good but fabric is not good    now i ok with it    after fiting this  this like wonderful            the experience was good    nice t    poor quality product     completely not suited for me     it s fits me well    threads are coming out from the mid point of back rest all good    super    material is not good    fabric quality is not good    the quality was not good    quality is not good     nice one  go for it     good for price    fit was correct    nyc product    perfect fit    overall the product itself said it s a cotton material  instead the material is cheap quality just like jersey material  i request you to please provide the right information and don t buy this product anymore  waste of money      prefect    good    very good product    nice   great one    loved it    good      super fiting    value for money    nice    gud            not upto the mark    not good    it is mentioned as cotton but it is not  it s some mix of cotton plus other material  not      cotton  color fades after wash  cheap quality product     stunning    good    amazing        super    quality of product is not upto the mark    not good quality of t shirt from this brand very low gsm    poor quality price high    very low quality of fabric    low quality product material is thin    don t buy this product at all the quality of cloth is toooooooooooooooooooooooooooooooo worst waste of money    product quality is not up to the mark   should have been much more good    worst tshirt ever  poor material and dull printing  also  itches on skin after wearing    poor quality that range of price    the quality of the cloth was so poor or the color didn t even seem black     it s the worst ever fit for a tshirt     quality was not good i bought   t shirt s quality was not good    cheap quality    colour to dark    bad quality    febric not good    fit issue    poor quality    quality bekar hai    worst quality        very bad product    fit issue'"
            ],
            "application/vnd.google.colaboratory.intrinsic+json": {
              "type": "string"
            }
          },
          "metadata": {},
          "execution_count": 27
        }
      ]
    },
    {
      "cell_type": "code",
      "source": [
        "df_review['cleaned_review_w/o_sw'] = cleaned_review"
      ],
      "metadata": {
        "id": "hpt3odO0Qtta"
      },
      "execution_count": 28,
      "outputs": []
    },
    {
      "cell_type": "code",
      "source": [
        "df_review.sample(3)"
      ],
      "metadata": {
        "colab": {
          "base_uri": "https://localhost:8080/",
          "height": 267
        },
        "id": "53svfB76RAAI",
        "outputId": "22e70b56-5512-4eb7-90d2-b0eb657a8a5c"
      },
      "execution_count": 29,
      "outputs": [
        {
          "output_type": "execute_result",
          "data": {
            "text/plain": [
              "     product_id product_name  \\\n",
              "328    25072106    Stormborn   \n",
              "272    22910888  Allen Solly   \n",
              "456    18391060         XYXX   \n",
              "\n",
              "                                   product_description  discounted_price  \\\n",
              "328  Graphic Printed Oversized Drop Shoulder Sleeve...               499   \n",
              "272                      Men Solid Regular Fit T-shirt               714   \n",
              "456  Men Yellow N9 Silver Finish Solid Lounge T-shirts               353   \n",
              "\n",
              "     original_price  discount_percentage fabric_material   neck_type  \\\n",
              "328             999                   50          Cotton  Round Neck   \n",
              "272            1099                   35          Cotton  Round Neck   \n",
              "456             599                   41          Cotton  Round Neck   \n",
              "\n",
              "     overall_rating  votes                              customer_rated_rating  \\\n",
              "328             4.3     34                                         ['5', '5']   \n",
              "272             4.5     69                ['1', '1', '3', '5', '5', '5', '5']   \n",
              "456             4.5    490  ['5', '5', '5', '5', '5', '5', '5', '5', '5', ...   \n",
              "\n",
              "                                  customer_review_text  \\\n",
              "328                          ['Very nice', 'Loved it']   \n",
              "272  ['Buying on Myntra app is totally waste of tim...   \n",
              "456  [\"Perfect fitting tshirt with such a comfortab...   \n",
              "\n",
              "                                    reviewers_username sentiment_label  \\\n",
              "328                        ['Goutam Gowda', 'Susmita']        Positive   \n",
              "272  ['Rahul Singh', 'Gourav Kirar', 'Santosh Kumar...        Positive   \n",
              "456  ['Vaishali Upadhyay', 'A T', 'Ayush Soni', 'Aa...        Positive   \n",
              "\n",
              "                                        date_of_review  \\\n",
              "328                     ['12 Dec 2023', '29 Nov 2023']   \n",
              "272  ['14 Sept 2023', '26 July 2023', '19 Aug 2023'...   \n",
              "456  ['4 Aug 2022', '30 July 2022', '2 Aug 2022', '...   \n",
              "\n",
              "    reviewers_product_images  \\\n",
              "328                       []   \n",
              "272                       []   \n",
              "456                       []   \n",
              "\n",
              "                                 cleaned_review_w/o_sw  \n",
              "328                              very nice    loved it  \n",
              "272  buying on myntra app is totally waste of time ...  \n",
              "456  perfect fitting tshirt with such a comfortable...  "
            ],
            "text/html": [
              "\n",
              "  <div id=\"df-fee03399-d446-41df-a60e-76e9e38f1363\" class=\"colab-df-container\">\n",
              "    <div>\n",
              "<style scoped>\n",
              "    .dataframe tbody tr th:only-of-type {\n",
              "        vertical-align: middle;\n",
              "    }\n",
              "\n",
              "    .dataframe tbody tr th {\n",
              "        vertical-align: top;\n",
              "    }\n",
              "\n",
              "    .dataframe thead th {\n",
              "        text-align: right;\n",
              "    }\n",
              "</style>\n",
              "<table border=\"1\" class=\"dataframe\">\n",
              "  <thead>\n",
              "    <tr style=\"text-align: right;\">\n",
              "      <th></th>\n",
              "      <th>product_id</th>\n",
              "      <th>product_name</th>\n",
              "      <th>product_description</th>\n",
              "      <th>discounted_price</th>\n",
              "      <th>original_price</th>\n",
              "      <th>discount_percentage</th>\n",
              "      <th>fabric_material</th>\n",
              "      <th>neck_type</th>\n",
              "      <th>overall_rating</th>\n",
              "      <th>votes</th>\n",
              "      <th>customer_rated_rating</th>\n",
              "      <th>customer_review_text</th>\n",
              "      <th>reviewers_username</th>\n",
              "      <th>sentiment_label</th>\n",
              "      <th>date_of_review</th>\n",
              "      <th>reviewers_product_images</th>\n",
              "      <th>cleaned_review_w/o_sw</th>\n",
              "    </tr>\n",
              "  </thead>\n",
              "  <tbody>\n",
              "    <tr>\n",
              "      <th>328</th>\n",
              "      <td>25072106</td>\n",
              "      <td>Stormborn</td>\n",
              "      <td>Graphic Printed Oversized Drop Shoulder Sleeve...</td>\n",
              "      <td>499</td>\n",
              "      <td>999</td>\n",
              "      <td>50</td>\n",
              "      <td>Cotton</td>\n",
              "      <td>Round Neck</td>\n",
              "      <td>4.3</td>\n",
              "      <td>34</td>\n",
              "      <td>['5', '5']</td>\n",
              "      <td>['Very nice', 'Loved it']</td>\n",
              "      <td>['Goutam Gowda', 'Susmita']</td>\n",
              "      <td>Positive</td>\n",
              "      <td>['12 Dec 2023', '29 Nov 2023']</td>\n",
              "      <td>[]</td>\n",
              "      <td>very nice    loved it</td>\n",
              "    </tr>\n",
              "    <tr>\n",
              "      <th>272</th>\n",
              "      <td>22910888</td>\n",
              "      <td>Allen Solly</td>\n",
              "      <td>Men Solid Regular Fit T-shirt</td>\n",
              "      <td>714</td>\n",
              "      <td>1099</td>\n",
              "      <td>35</td>\n",
              "      <td>Cotton</td>\n",
              "      <td>Round Neck</td>\n",
              "      <td>4.5</td>\n",
              "      <td>69</td>\n",
              "      <td>['1', '1', '3', '5', '5', '5', '5']</td>\n",
              "      <td>['Buying on Myntra app is totally waste of tim...</td>\n",
              "      <td>['Rahul Singh', 'Gourav Kirar', 'Santosh Kumar...</td>\n",
              "      <td>Positive</td>\n",
              "      <td>['14 Sept 2023', '26 July 2023', '19 Aug 2023'...</td>\n",
              "      <td>[]</td>\n",
              "      <td>buying on myntra app is totally waste of time ...</td>\n",
              "    </tr>\n",
              "    <tr>\n",
              "      <th>456</th>\n",
              "      <td>18391060</td>\n",
              "      <td>XYXX</td>\n",
              "      <td>Men Yellow N9 Silver Finish Solid Lounge T-shirts</td>\n",
              "      <td>353</td>\n",
              "      <td>599</td>\n",
              "      <td>41</td>\n",
              "      <td>Cotton</td>\n",
              "      <td>Round Neck</td>\n",
              "      <td>4.5</td>\n",
              "      <td>490</td>\n",
              "      <td>['5', '5', '5', '5', '5', '5', '5', '5', '5', ...</td>\n",
              "      <td>[\"Perfect fitting tshirt with such a comfortab...</td>\n",
              "      <td>['Vaishali Upadhyay', 'A T', 'Ayush Soni', 'Aa...</td>\n",
              "      <td>Positive</td>\n",
              "      <td>['4 Aug 2022', '30 July 2022', '2 Aug 2022', '...</td>\n",
              "      <td>[]</td>\n",
              "      <td>perfect fitting tshirt with such a comfortable...</td>\n",
              "    </tr>\n",
              "  </tbody>\n",
              "</table>\n",
              "</div>\n",
              "    <div class=\"colab-df-buttons\">\n",
              "\n",
              "  <div class=\"colab-df-container\">\n",
              "    <button class=\"colab-df-convert\" onclick=\"convertToInteractive('df-fee03399-d446-41df-a60e-76e9e38f1363')\"\n",
              "            title=\"Convert this dataframe to an interactive table.\"\n",
              "            style=\"display:none;\">\n",
              "\n",
              "  <svg xmlns=\"http://www.w3.org/2000/svg\" height=\"24px\" viewBox=\"0 -960 960 960\">\n",
              "    <path d=\"M120-120v-720h720v720H120Zm60-500h600v-160H180v160Zm220 220h160v-160H400v160Zm0 220h160v-160H400v160ZM180-400h160v-160H180v160Zm440 0h160v-160H620v160ZM180-180h160v-160H180v160Zm440 0h160v-160H620v160Z\"/>\n",
              "  </svg>\n",
              "    </button>\n",
              "\n",
              "  <style>\n",
              "    .colab-df-container {\n",
              "      display:flex;\n",
              "      gap: 12px;\n",
              "    }\n",
              "\n",
              "    .colab-df-convert {\n",
              "      background-color: #E8F0FE;\n",
              "      border: none;\n",
              "      border-radius: 50%;\n",
              "      cursor: pointer;\n",
              "      display: none;\n",
              "      fill: #1967D2;\n",
              "      height: 32px;\n",
              "      padding: 0 0 0 0;\n",
              "      width: 32px;\n",
              "    }\n",
              "\n",
              "    .colab-df-convert:hover {\n",
              "      background-color: #E2EBFA;\n",
              "      box-shadow: 0px 1px 2px rgba(60, 64, 67, 0.3), 0px 1px 3px 1px rgba(60, 64, 67, 0.15);\n",
              "      fill: #174EA6;\n",
              "    }\n",
              "\n",
              "    .colab-df-buttons div {\n",
              "      margin-bottom: 4px;\n",
              "    }\n",
              "\n",
              "    [theme=dark] .colab-df-convert {\n",
              "      background-color: #3B4455;\n",
              "      fill: #D2E3FC;\n",
              "    }\n",
              "\n",
              "    [theme=dark] .colab-df-convert:hover {\n",
              "      background-color: #434B5C;\n",
              "      box-shadow: 0px 1px 3px 1px rgba(0, 0, 0, 0.15);\n",
              "      filter: drop-shadow(0px 1px 2px rgba(0, 0, 0, 0.3));\n",
              "      fill: #FFFFFF;\n",
              "    }\n",
              "  </style>\n",
              "\n",
              "    <script>\n",
              "      const buttonEl =\n",
              "        document.querySelector('#df-fee03399-d446-41df-a60e-76e9e38f1363 button.colab-df-convert');\n",
              "      buttonEl.style.display =\n",
              "        google.colab.kernel.accessAllowed ? 'block' : 'none';\n",
              "\n",
              "      async function convertToInteractive(key) {\n",
              "        const element = document.querySelector('#df-fee03399-d446-41df-a60e-76e9e38f1363');\n",
              "        const dataTable =\n",
              "          await google.colab.kernel.invokeFunction('convertToInteractive',\n",
              "                                                    [key], {});\n",
              "        if (!dataTable) return;\n",
              "\n",
              "        const docLinkHtml = 'Like what you see? Visit the ' +\n",
              "          '<a target=\"_blank\" href=https://colab.research.google.com/notebooks/data_table.ipynb>data table notebook</a>'\n",
              "          + ' to learn more about interactive tables.';\n",
              "        element.innerHTML = '';\n",
              "        dataTable['output_type'] = 'display_data';\n",
              "        await google.colab.output.renderOutput(dataTable, element);\n",
              "        const docLink = document.createElement('div');\n",
              "        docLink.innerHTML = docLinkHtml;\n",
              "        element.appendChild(docLink);\n",
              "      }\n",
              "    </script>\n",
              "  </div>\n",
              "\n",
              "\n",
              "<div id=\"df-bedaf365-6338-4f9c-a0d5-3ac72a49fb60\">\n",
              "  <button class=\"colab-df-quickchart\" onclick=\"quickchart('df-bedaf365-6338-4f9c-a0d5-3ac72a49fb60')\"\n",
              "            title=\"Suggest charts\"\n",
              "            style=\"display:none;\">\n",
              "\n",
              "<svg xmlns=\"http://www.w3.org/2000/svg\" height=\"24px\"viewBox=\"0 0 24 24\"\n",
              "     width=\"24px\">\n",
              "    <g>\n",
              "        <path d=\"M19 3H5c-1.1 0-2 .9-2 2v14c0 1.1.9 2 2 2h14c1.1 0 2-.9 2-2V5c0-1.1-.9-2-2-2zM9 17H7v-7h2v7zm4 0h-2V7h2v10zm4 0h-2v-4h2v4z\"/>\n",
              "    </g>\n",
              "</svg>\n",
              "  </button>\n",
              "\n",
              "<style>\n",
              "  .colab-df-quickchart {\n",
              "      --bg-color: #E8F0FE;\n",
              "      --fill-color: #1967D2;\n",
              "      --hover-bg-color: #E2EBFA;\n",
              "      --hover-fill-color: #174EA6;\n",
              "      --disabled-fill-color: #AAA;\n",
              "      --disabled-bg-color: #DDD;\n",
              "  }\n",
              "\n",
              "  [theme=dark] .colab-df-quickchart {\n",
              "      --bg-color: #3B4455;\n",
              "      --fill-color: #D2E3FC;\n",
              "      --hover-bg-color: #434B5C;\n",
              "      --hover-fill-color: #FFFFFF;\n",
              "      --disabled-bg-color: #3B4455;\n",
              "      --disabled-fill-color: #666;\n",
              "  }\n",
              "\n",
              "  .colab-df-quickchart {\n",
              "    background-color: var(--bg-color);\n",
              "    border: none;\n",
              "    border-radius: 50%;\n",
              "    cursor: pointer;\n",
              "    display: none;\n",
              "    fill: var(--fill-color);\n",
              "    height: 32px;\n",
              "    padding: 0;\n",
              "    width: 32px;\n",
              "  }\n",
              "\n",
              "  .colab-df-quickchart:hover {\n",
              "    background-color: var(--hover-bg-color);\n",
              "    box-shadow: 0 1px 2px rgba(60, 64, 67, 0.3), 0 1px 3px 1px rgba(60, 64, 67, 0.15);\n",
              "    fill: var(--button-hover-fill-color);\n",
              "  }\n",
              "\n",
              "  .colab-df-quickchart-complete:disabled,\n",
              "  .colab-df-quickchart-complete:disabled:hover {\n",
              "    background-color: var(--disabled-bg-color);\n",
              "    fill: var(--disabled-fill-color);\n",
              "    box-shadow: none;\n",
              "  }\n",
              "\n",
              "  .colab-df-spinner {\n",
              "    border: 2px solid var(--fill-color);\n",
              "    border-color: transparent;\n",
              "    border-bottom-color: var(--fill-color);\n",
              "    animation:\n",
              "      spin 1s steps(1) infinite;\n",
              "  }\n",
              "\n",
              "  @keyframes spin {\n",
              "    0% {\n",
              "      border-color: transparent;\n",
              "      border-bottom-color: var(--fill-color);\n",
              "      border-left-color: var(--fill-color);\n",
              "    }\n",
              "    20% {\n",
              "      border-color: transparent;\n",
              "      border-left-color: var(--fill-color);\n",
              "      border-top-color: var(--fill-color);\n",
              "    }\n",
              "    30% {\n",
              "      border-color: transparent;\n",
              "      border-left-color: var(--fill-color);\n",
              "      border-top-color: var(--fill-color);\n",
              "      border-right-color: var(--fill-color);\n",
              "    }\n",
              "    40% {\n",
              "      border-color: transparent;\n",
              "      border-right-color: var(--fill-color);\n",
              "      border-top-color: var(--fill-color);\n",
              "    }\n",
              "    60% {\n",
              "      border-color: transparent;\n",
              "      border-right-color: var(--fill-color);\n",
              "    }\n",
              "    80% {\n",
              "      border-color: transparent;\n",
              "      border-right-color: var(--fill-color);\n",
              "      border-bottom-color: var(--fill-color);\n",
              "    }\n",
              "    90% {\n",
              "      border-color: transparent;\n",
              "      border-bottom-color: var(--fill-color);\n",
              "    }\n",
              "  }\n",
              "</style>\n",
              "\n",
              "  <script>\n",
              "    async function quickchart(key) {\n",
              "      const quickchartButtonEl =\n",
              "        document.querySelector('#' + key + ' button');\n",
              "      quickchartButtonEl.disabled = true;  // To prevent multiple clicks.\n",
              "      quickchartButtonEl.classList.add('colab-df-spinner');\n",
              "      try {\n",
              "        const charts = await google.colab.kernel.invokeFunction(\n",
              "            'suggestCharts', [key], {});\n",
              "      } catch (error) {\n",
              "        console.error('Error during call to suggestCharts:', error);\n",
              "      }\n",
              "      quickchartButtonEl.classList.remove('colab-df-spinner');\n",
              "      quickchartButtonEl.classList.add('colab-df-quickchart-complete');\n",
              "    }\n",
              "    (() => {\n",
              "      let quickchartButtonEl =\n",
              "        document.querySelector('#df-bedaf365-6338-4f9c-a0d5-3ac72a49fb60 button');\n",
              "      quickchartButtonEl.style.display =\n",
              "        google.colab.kernel.accessAllowed ? 'block' : 'none';\n",
              "    })();\n",
              "  </script>\n",
              "</div>\n",
              "\n",
              "    </div>\n",
              "  </div>\n"
            ]
          },
          "metadata": {},
          "execution_count": 29
        }
      ]
    },
    {
      "cell_type": "markdown",
      "source": [
        "## Sentiment analysis after cleaning"
      ],
      "metadata": {
        "id": "stK0FNWaSiZB"
      }
    },
    {
      "cell_type": "code",
      "source": [
        "sentiment_after_clean = []\n",
        "for sent in df_review['cleaned_review_w/o_sw']:\n",
        "  sentiment_after_clean.append(analyze_sentiment(sent))\n",
        "\n",
        "sentiment_after_clean[1]\n"
      ],
      "metadata": {
        "colab": {
          "base_uri": "https://localhost:8080/",
          "height": 36
        },
        "id": "lj8zO_4nTF_1",
        "outputId": "59ff53c3-c5d4-476a-d3ae-18cc68c0f214"
      },
      "execution_count": 30,
      "outputs": [
        {
          "output_type": "execute_result",
          "data": {
            "text/plain": [
              "'Positive'"
            ],
            "application/vnd.google.colaboratory.intrinsic+json": {
              "type": "string"
            }
          },
          "metadata": {},
          "execution_count": 30
        }
      ]
    },
    {
      "cell_type": "code",
      "source": [
        "df_review['label_cleaned_review'] = sentiment_after_clean"
      ],
      "metadata": {
        "id": "U2SeelCIUEFK"
      },
      "execution_count": 31,
      "outputs": []
    },
    {
      "cell_type": "code",
      "source": [
        "df_review['label_cleaned_review'].value_counts(normalize=True)*100"
      ],
      "metadata": {
        "colab": {
          "base_uri": "https://localhost:8080/"
        },
        "id": "Ke7WzmeXUf4L",
        "outputId": "1ac46e93-6bbc-49f4-fe71-cc6581ae75eb"
      },
      "execution_count": 32,
      "outputs": [
        {
          "output_type": "execute_result",
          "data": {
            "text/plain": [
              "Positive    91.939346\n",
              "Negative     8.060654\n",
              "Name: label_cleaned_review, dtype: float64"
            ]
          },
          "metadata": {},
          "execution_count": 32
        }
      ]
    },
    {
      "cell_type": "code",
      "source": [
        "df_review['sentiment_label'].value_counts(normalize=True)*100"
      ],
      "metadata": {
        "colab": {
          "base_uri": "https://localhost:8080/"
        },
        "id": "cVOsw8F5Uplz",
        "outputId": "5b2bfb2b-65f6-4e39-b269-ae3aa83674bd"
      },
      "execution_count": 33,
      "outputs": [
        {
          "output_type": "execute_result",
          "data": {
            "text/plain": [
              "Positive    91.540303\n",
              "Negative     8.459697\n",
              "Name: sentiment_label, dtype: float64"
            ]
          },
          "metadata": {},
          "execution_count": 33
        }
      ]
    },
    {
      "cell_type": "code",
      "source": [
        "df_review['cleaned_review_w/o_sw'][1].split()"
      ],
      "metadata": {
        "colab": {
          "base_uri": "https://localhost:8080/"
        },
        "id": "X0P429-DfwB0",
        "outputId": "7881d17d-65b3-4112-8e4b-50c63f8ea0be"
      },
      "execution_count": 34,
      "outputs": [
        {
          "output_type": "execute_result",
          "data": {
            "text/plain": [
              "['the',\n",
              " 'size',\n",
              " 'correct',\n",
              " 'fit',\n",
              " 'and',\n",
              " 'ok',\n",
              " 'quality',\n",
              " 'value',\n",
              " 'for',\n",
              " 'the',\n",
              " 'money',\n",
              " 'after',\n",
              " 'one',\n",
              " 'wash',\n",
              " 'colour',\n",
              " 'faded',\n",
              " 'just',\n",
              " 'wow',\n",
              " 'loved',\n",
              " 'it',\n",
              " 'pathetic',\n",
              " 'waste',\n",
              " 'product',\n",
              " 'poor',\n",
              " 'quality',\n",
              " 'material',\n",
              " 'even',\n",
              " 'shortage',\n",
              " 'of',\n",
              " 'material',\n",
              " 'between',\n",
              " 'stitching',\n",
              " 'pls',\n",
              " 'don',\n",
              " 't',\n",
              " 'waste',\n",
              " 'your',\n",
              " 'money',\n",
              " 'on',\n",
              " 'it',\n",
              " 'highly',\n",
              " 'suggest',\n",
              " 'don',\n",
              " 't',\n",
              " 'don',\n",
              " 't',\n",
              " 'buy',\n",
              " 'this',\n",
              " 'poor',\n",
              " 'material',\n",
              " 'and',\n",
              " 'low',\n",
              " 'quality',\n",
              " 'prints',\n",
              " 'especially',\n",
              " 'the',\n",
              " 'brand',\n",
              " 'naming',\n",
              " 'on',\n",
              " 'the',\n",
              " 'back',\n",
              " 'was',\n",
              " 'littlebit',\n",
              " 'tight',\n",
              " 'at',\n",
              " 'the',\n",
              " 'under',\n",
              " 'arm',\n",
              " 'other',\n",
              " 'wise',\n",
              " 'good',\n",
              " 'product',\n",
              " 'at',\n",
              " 'this',\n",
              " 'price',\n",
              " 'fabric',\n",
              " 'quality',\n",
              " 'is',\n",
              " 'not',\n",
              " 'good',\n",
              " 'overall',\n",
              " 'okay',\n",
              " 'fitting',\n",
              " 'was',\n",
              " 'good',\n",
              " 'but',\n",
              " 'fabric',\n",
              " 'is',\n",
              " 'not',\n",
              " 'good',\n",
              " 'now',\n",
              " 'i',\n",
              " 'ok',\n",
              " 'with',\n",
              " 'it',\n",
              " 'after',\n",
              " 'fiting',\n",
              " 'this',\n",
              " 'this',\n",
              " 'like',\n",
              " 'wonderful',\n",
              " 'the',\n",
              " 'experience',\n",
              " 'was',\n",
              " 'good',\n",
              " 'nice',\n",
              " 't',\n",
              " 'poor',\n",
              " 'quality',\n",
              " 'product',\n",
              " 'completely',\n",
              " 'not',\n",
              " 'suited',\n",
              " 'for',\n",
              " 'me',\n",
              " 'it',\n",
              " 's',\n",
              " 'fits',\n",
              " 'me',\n",
              " 'well',\n",
              " 'threads',\n",
              " 'are',\n",
              " 'coming',\n",
              " 'out',\n",
              " 'from',\n",
              " 'the',\n",
              " 'mid',\n",
              " 'point',\n",
              " 'of',\n",
              " 'back',\n",
              " 'rest',\n",
              " 'all',\n",
              " 'good',\n",
              " 'super',\n",
              " 'material',\n",
              " 'is',\n",
              " 'not',\n",
              " 'good',\n",
              " 'fabric',\n",
              " 'quality',\n",
              " 'is',\n",
              " 'not',\n",
              " 'good',\n",
              " 'the',\n",
              " 'quality',\n",
              " 'was',\n",
              " 'not',\n",
              " 'good',\n",
              " 'quality',\n",
              " 'is',\n",
              " 'not',\n",
              " 'good',\n",
              " 'nice',\n",
              " 'one',\n",
              " 'go',\n",
              " 'for',\n",
              " 'it',\n",
              " 'good',\n",
              " 'for',\n",
              " 'price',\n",
              " 'fit',\n",
              " 'was',\n",
              " 'correct',\n",
              " 'nyc',\n",
              " 'product',\n",
              " 'perfect',\n",
              " 'fit',\n",
              " 'overall',\n",
              " 'the',\n",
              " 'product',\n",
              " 'itself',\n",
              " 'said',\n",
              " 'it',\n",
              " 's',\n",
              " 'a',\n",
              " 'cotton',\n",
              " 'material',\n",
              " 'instead',\n",
              " 'the',\n",
              " 'material',\n",
              " 'is',\n",
              " 'cheap',\n",
              " 'quality',\n",
              " 'just',\n",
              " 'like',\n",
              " 'jersey',\n",
              " 'material',\n",
              " 'i',\n",
              " 'request',\n",
              " 'you',\n",
              " 'to',\n",
              " 'please',\n",
              " 'provide',\n",
              " 'the',\n",
              " 'right',\n",
              " 'information',\n",
              " 'and',\n",
              " 'don',\n",
              " 't',\n",
              " 'buy',\n",
              " 'this',\n",
              " 'product',\n",
              " 'anymore',\n",
              " 'waste',\n",
              " 'of',\n",
              " 'money',\n",
              " 'prefect',\n",
              " 'good',\n",
              " 'very',\n",
              " 'good',\n",
              " 'product',\n",
              " 'nice',\n",
              " 'great',\n",
              " 'one',\n",
              " 'loved',\n",
              " 'it',\n",
              " 'good',\n",
              " 'super',\n",
              " 'fiting',\n",
              " 'value',\n",
              " 'for',\n",
              " 'money',\n",
              " 'nice',\n",
              " 'gud',\n",
              " 'not',\n",
              " 'upto',\n",
              " 'the',\n",
              " 'mark',\n",
              " 'not',\n",
              " 'good',\n",
              " 'it',\n",
              " 'is',\n",
              " 'mentioned',\n",
              " 'as',\n",
              " 'cotton',\n",
              " 'but',\n",
              " 'it',\n",
              " 'is',\n",
              " 'not',\n",
              " 'it',\n",
              " 's',\n",
              " 'some',\n",
              " 'mix',\n",
              " 'of',\n",
              " 'cotton',\n",
              " 'plus',\n",
              " 'other',\n",
              " 'material',\n",
              " 'not',\n",
              " 'cotton',\n",
              " 'color',\n",
              " 'fades',\n",
              " 'after',\n",
              " 'wash',\n",
              " 'cheap',\n",
              " 'quality',\n",
              " 'product',\n",
              " 'stunning',\n",
              " 'good',\n",
              " 'amazing',\n",
              " 'super',\n",
              " 'quality',\n",
              " 'of',\n",
              " 'product',\n",
              " 'is',\n",
              " 'not',\n",
              " 'upto',\n",
              " 'the',\n",
              " 'mark',\n",
              " 'not',\n",
              " 'good',\n",
              " 'quality',\n",
              " 'of',\n",
              " 't',\n",
              " 'shirt',\n",
              " 'from',\n",
              " 'this',\n",
              " 'brand',\n",
              " 'very',\n",
              " 'low',\n",
              " 'gsm',\n",
              " 'poor',\n",
              " 'quality',\n",
              " 'price',\n",
              " 'high',\n",
              " 'very',\n",
              " 'low',\n",
              " 'quality',\n",
              " 'of',\n",
              " 'fabric',\n",
              " 'low',\n",
              " 'quality',\n",
              " 'product',\n",
              " 'material',\n",
              " 'is',\n",
              " 'thin',\n",
              " 'don',\n",
              " 't',\n",
              " 'buy',\n",
              " 'this',\n",
              " 'product',\n",
              " 'at',\n",
              " 'all',\n",
              " 'the',\n",
              " 'quality',\n",
              " 'of',\n",
              " 'cloth',\n",
              " 'is',\n",
              " 'toooooooooooooooooooooooooooooooo',\n",
              " 'worst',\n",
              " 'waste',\n",
              " 'of',\n",
              " 'money',\n",
              " 'product',\n",
              " 'quality',\n",
              " 'is',\n",
              " 'not',\n",
              " 'up',\n",
              " 'to',\n",
              " 'the',\n",
              " 'mark',\n",
              " 'should',\n",
              " 'have',\n",
              " 'been',\n",
              " 'much',\n",
              " 'more',\n",
              " 'good',\n",
              " 'worst',\n",
              " 'tshirt',\n",
              " 'ever',\n",
              " 'poor',\n",
              " 'material',\n",
              " 'and',\n",
              " 'dull',\n",
              " 'printing',\n",
              " 'also',\n",
              " 'itches',\n",
              " 'on',\n",
              " 'skin',\n",
              " 'after',\n",
              " 'wearing',\n",
              " 'poor',\n",
              " 'quality',\n",
              " 'that',\n",
              " 'range',\n",
              " 'of',\n",
              " 'price',\n",
              " 'the',\n",
              " 'quality',\n",
              " 'of',\n",
              " 'the',\n",
              " 'cloth',\n",
              " 'was',\n",
              " 'so',\n",
              " 'poor',\n",
              " 'or',\n",
              " 'the',\n",
              " 'color',\n",
              " 'didn',\n",
              " 't',\n",
              " 'even',\n",
              " 'seem',\n",
              " 'black',\n",
              " 'it',\n",
              " 's',\n",
              " 'the',\n",
              " 'worst',\n",
              " 'ever',\n",
              " 'fit',\n",
              " 'for',\n",
              " 'a',\n",
              " 'tshirt',\n",
              " 'quality',\n",
              " 'was',\n",
              " 'not',\n",
              " 'good',\n",
              " 'i',\n",
              " 'bought',\n",
              " 't',\n",
              " 'shirt',\n",
              " 's',\n",
              " 'quality',\n",
              " 'was',\n",
              " 'not',\n",
              " 'good',\n",
              " 'cheap',\n",
              " 'quality',\n",
              " 'colour',\n",
              " 'to',\n",
              " 'dark',\n",
              " 'bad',\n",
              " 'quality',\n",
              " 'febric',\n",
              " 'not',\n",
              " 'good',\n",
              " 'fit',\n",
              " 'issue',\n",
              " 'poor',\n",
              " 'quality',\n",
              " 'quality',\n",
              " 'bekar',\n",
              " 'hai',\n",
              " 'worst',\n",
              " 'quality',\n",
              " 'very',\n",
              " 'bad',\n",
              " 'product',\n",
              " 'fit',\n",
              " 'issue']"
            ]
          },
          "metadata": {},
          "execution_count": 34
        }
      ]
    },
    {
      "cell_type": "code",
      "source": [
        "# Frequency Distribution\n",
        "\n",
        "freq_dist = nltk.FreqDist(df_review['cleaned_review_w/o_sw'][1].split())\n",
        "\n",
        "plt.figure(figsize=(12,5))\n",
        "plt.title('Top 25 most Common Words')\n",
        "plt.xticks(fontsize=15)\n",
        "\n",
        "freq_dist.plot(25, cumulative=False)\n",
        "plt.show()"
      ],
      "metadata": {
        "colab": {
          "base_uri": "https://localhost:8080/",
          "height": 560
        },
        "id": "Jt4ccfnsgfbt",
        "outputId": "453814b6-638a-4890-b177-21f334e423ea"
      },
      "execution_count": 35,
      "outputs": [
        {
          "output_type": "display_data",
          "data": {
            "text/plain": [
              "<Figure size 1200x500 with 1 Axes>"
            ],
            "image/png": "[encoded data removed]"
          },
          "metadata": {}
        }
      ]
    },
    {
      "cell_type": "code",
      "source": [
        "list(freq_dist)[0:5]"
      ],
      "metadata": {
        "colab": {
          "base_uri": "https://localhost:8080/"
        },
        "id": "4VP5Hemdg1Gn",
        "outputId": "0173c761-52ce-4267-aa37-5b5e60de4ebf"
      },
      "execution_count": 36,
      "outputs": [
        {
          "output_type": "execute_result",
          "data": {
            "text/plain": [
              "['quality', 'good', 'the', 'not', 'product']"
            ]
          },
          "metadata": {},
          "execution_count": 36
        }
      ]
    },
    {
      "cell_type": "markdown",
      "source": [
        "### Data Visualization"
      ],
      "metadata": {
        "id": "4YSUQyKXRaO-"
      }
    },
    {
      "cell_type": "code",
      "source": [
        "all_words = []\n",
        "for text in df_review['cleaned_review_w/o_sw']:\n",
        "  all_words.extend(text.split())\n",
        "\n",
        "print(all_words[:50])\n",
        "len(set(all_words))"
      ],
      "metadata": {
        "colab": {
          "base_uri": "https://localhost:8080/"
        },
        "id": "H3e3VGTeRecp",
        "outputId": "348e6964-08c1-4441-f396-94ee735eaf3c"
      },
      "execution_count": 37,
      "outputs": [
        {
          "output_type": "stream",
          "name": "stdout",
          "text": [
            "['product', 'quality', 'is', 'good', 'but', 'little', 'short', 'for', 'over', 'medium', 'height', 'person', 'good', 'quality', 'fabric', 'comfortable', 'to', 'wear', 'aesthetically', 'pleasing', 'nice', 'product', 'good', 'quality', 'amazing', 'fit', 'high', 'quality', 'product', 'the', 'color', 'is', 'just', 'a', 'bit', 'different', 'from', 'on', 'screen', 'and', 'in', 'real', 'however', 'this', 'is', 'also', 'nice', 'overall', 'value', 'for']\n"
          ]
        },
        {
          "output_type": "execute_result",
          "data": {
            "text/plain": [
              "6429"
            ]
          },
          "metadata": {},
          "execution_count": 37
        }
      ]
    },
    {
      "cell_type": "code",
      "source": [],
      "metadata": {
        "id": "maIRy2JYSMJz"
      },
      "execution_count": 37,
      "outputs": []
    },
    {
      "cell_type": "code",
      "source": [
        "# Frequency Distribution\n",
        "\n",
        "freq_dist = nltk.FreqDist(all_words)\n",
        "\n",
        "plt.figure(figsize=(12,5))\n",
        "plt.title('Top 25 most Common Words')\n",
        "plt.xticks(fontsize=15)\n",
        "\n",
        "freq_dist.plot(25, cumulative=False)\n",
        "plt.show()"
      ],
      "metadata": {
        "colab": {
          "base_uri": "https://localhost:8080/",
          "height": 553
        },
        "id": "Qh2sclv_SQCf",
        "outputId": "1056868c-5016-45e1-effc-58a970635ed3"
      },
      "execution_count": 38,
      "outputs": [
        {
          "output_type": "display_data",
          "data": {
            "text/plain": [
              "<Figure size 1200x500 with 1 Axes>"
            ],
            "image/png": "[encoded data removed]"
          },
          "metadata": {}
        }
      ]
    },
    {
      "cell_type": "code",
      "source": [],
      "metadata": {
        "id": "4poVRq92VV7p"
      },
      "execution_count": 38,
      "outputs": []
    },
    {
      "cell_type": "markdown",
      "source": [
        "## cleaning with normalizer"
      ],
      "metadata": {
        "id": "0dyBYSl1uO3i"
      }
    },
    {
      "cell_type": "code",
      "source": [
        "# Normalization\n",
        "\n",
        "from nltk.stem import WordNetLemmatizer\n",
        "lemmatizer = WordNetLemmatizer()"
      ],
      "metadata": {
        "id": "ObnXmaH1qlPI"
      },
      "execution_count": 39,
      "outputs": []
    },
    {
      "cell_type": "code",
      "source": [
        "nltk.download('wordnet')"
      ],
      "metadata": {
        "colab": {
          "base_uri": "https://localhost:8080/"
        },
        "id": "wJQN3hEOq4H_",
        "outputId": "26f728ba-070b-414f-8d51-7e8ebe98980c"
      },
      "execution_count": 40,
      "outputs": [
        {
          "output_type": "stream",
          "name": "stderr",
          "text": [
            "[nltk_data] Downloading package wordnet to /root/nltk_data...\n"
          ]
        },
        {
          "output_type": "execute_result",
          "data": {
            "text/plain": [
              "True"
            ]
          },
          "metadata": {},
          "execution_count": 40
        }
      ]
    },
    {
      "cell_type": "code",
      "source": [
        "new_comment = ''\n",
        "for token in df_review['customer_review_text'][3].split():\n",
        "  new_comment = new_comment + lemmatizer.lemmatize(token.lower()) + ' '\n",
        "\n",
        "new_comment"
      ],
      "metadata": {
        "colab": {
          "base_uri": "https://localhost:8080/",
          "height": 122
        },
        "id": "bTXkl3UDrCRl",
        "outputId": "de8b90ef-2ee7-431e-9e2c-98069e9caa5b"
      },
      "execution_count": 41,
      "outputs": [
        {
          "output_type": "execute_result",
          "data": {
            "text/plain": [
              "'[\"tshirt is look so amazing and truly it\\'s fit on me 🤩\", \\'very fine quality without any doubt you can buy\\', \\'good quality light weight 👍\\', \\'value for money\\', \\'awesome 😎\\', \\'nice\\', \\'excellent fit with overall star ⭐ experience like hrithik roshan\\', \"good one but if customer tell about negetive thing myntra doesn\\'t approve review 🤣🤣🤣🤣\", \\'quite thin for winters. although i understand that gym wear ha to be breathable, but there are other brand who have a thin wool layer inside. otherwise if i had to buy this for summers, i can easily go for regular half sleeve or without sleeve tshirts with no high necks. i would rate this a average.\\', \\'well product very comfortable\\', \\'👍 nice\\', \\'perfect fit. comfortable and good quality fabric. good product and highly satisfied. thank you hrx and myntra.\\', \\'superb\\', \\'ok ok\\', \\'bad product\\', \\'quality and fabric is not good\\', \\'good\\'] '"
            ],
            "application/vnd.google.colaboratory.intrinsic+json": {
              "type": "string"
            }
          },
          "metadata": {},
          "execution_count": 41
        }
      ]
    },
    {
      "cell_type": "code",
      "source": [
        "!pip install contractions"
      ],
      "metadata": {
        "colab": {
          "base_uri": "https://localhost:8080/"
        },
        "id": "tqselp3krsv5",
        "outputId": "a7feed55-7f40-4014-b5cb-4f42c884f4ea"
      },
      "execution_count": 42,
      "outputs": [
        {
          "output_type": "stream",
          "name": "stdout",
          "text": [
            "Collecting contractions\n",
            "  Downloading contractions-0.1.73-py2.py3-none-any.whl (8.7 kB)\n",
            "Collecting textsearch>=0.0.21 (from contractions)\n",
            "  Downloading textsearch-0.0.24-py2.py3-none-any.whl (7.6 kB)\n",
            "Collecting anyascii (from textsearch>=0.0.21->contractions)\n",
            "  Downloading anyascii-0.3.2-py3-none-any.whl (289 kB)\n",
            "\u001b[2K     \u001b[90m━━━━━━━━━━━━━━━━━━━━━━━━━━━━━━━━━━━━━━━━\u001b[0m \u001b[32m289.9/289.9 kB\u001b[0m \u001b[31m2.5 MB/s\u001b[0m eta \u001b[36m0:00:00\u001b[0m\n",
            "\u001b[?25hCollecting pyahocorasick (from textsearch>=0.0.21->contractions)\n",
            "  Downloading pyahocorasick-2.0.0-cp310-cp310-manylinux_2_5_x86_64.manylinux1_x86_64.manylinux_2_12_x86_64.manylinux2010_x86_64.whl (110 kB)\n",
            "\u001b[2K     \u001b[90m━━━━━━━━━━━━━━━━━━━━━━━━━━━━━━━━━━━━━━━━\u001b[0m \u001b[32m110.8/110.8 kB\u001b[0m \u001b[31m12.6 MB/s\u001b[0m eta \u001b[36m0:00:00\u001b[0m\n",
            "\u001b[?25hInstalling collected packages: pyahocorasick, anyascii, textsearch, contractions\n",
            "Successfully installed anyascii-0.3.2 contractions-0.1.73 pyahocorasick-2.0.0 textsearch-0.0.24\n"
          ]
        }
      ]
    },
    {
      "cell_type": "code",
      "source": [
        "import contractions\n",
        "df_review['customer_review_text'][3]"
      ],
      "metadata": {
        "colab": {
          "base_uri": "https://localhost:8080/",
          "height": 122
        },
        "id": "aOjI6TM3r3UI",
        "outputId": "9b97c61a-d61b-4f5e-e28d-aabb252af429"
      },
      "execution_count": 43,
      "outputs": [
        {
          "output_type": "execute_result",
          "data": {
            "text/plain": [
              "'[\"Tshirt is looks so amazing and truly it\\'s fits on me 🤩\", \\'Very fine quality without any doubt you can buy\\', \\'Good quality Light weight 👍\\', \\'Value for money\\', \\'Awesome 😎\\', \\'Nice\\', \\'Excellent fit with overall star ⭐ experience like Hrithik Roshan\\', \"Good one but if customer tells about negetive things Myntra doesn\\'t approve review 🤣🤣🤣🤣\", \\'quite thin for winters. although i understand that gym wear has to be breathable, but there are other brands who have a thin wool layer inside. otherwise if i had to buy this for summers, i can easily go for regular half sleeve or without sleeve tshirts with no high necks. i would rate this as average.\\', \\'Well Product very comfortable\\', \\'👍 nice\\', \\'Perfect fit. Comfortable and good quality fabric. Good product and highly satisfied. Thank you HRX and Myntra.\\', \\'Superb\\', \\'Ok ok\\', \\'Bad product\\', \\'Quality and fabric is not good\\', \\'Good\\']'"
            ],
            "application/vnd.google.colaboratory.intrinsic+json": {
              "type": "string"
            }
          },
          "metadata": {},
          "execution_count": 43
        }
      ]
    },
    {
      "cell_type": "code",
      "source": [
        "contractions.fix(df_review['customer_review_text'][3])"
      ],
      "metadata": {
        "colab": {
          "base_uri": "https://localhost:8080/",
          "height": 122
        },
        "id": "MxEGExKpsA2X",
        "outputId": "6aa3c204-356f-42c2-abc3-9608c19f38a6"
      },
      "execution_count": 44,
      "outputs": [
        {
          "output_type": "execute_result",
          "data": {
            "text/plain": [
              "'[\"Tshirt is looks so amazing and truly it is fits on me 🤩\", \\'Very fine quality without any doubt you can buy\\', \\'Good quality Light weight 👍\\', \\'Value for money\\', \\'Awesome 😎\\', \\'Nice\\', \\'Excellent fit with overall star ⭐ experience like Hrithik Roshan\\', \"Good one but if customer tells about negetive things Myntra does not approve review 🤣🤣🤣🤣\", \\'quite thin for winters. although i understand that gym wear has to be breathable, but there are other brands who have a thin wool layer inside. otherwise if i had to buy this for summers, i can easily go for regular half sleeve or without sleeve tshirts with no high necks. i would rate this as average.\\', \\'Well Product very comfortable\\', \\'👍 nice\\', \\'Perfect fit. Comfortable and good quality fabric. Good product and highly satisfied. Thank you HRX and Myntra.\\', \\'Superb\\', \\'Ok ok\\', \\'Bad product\\', \\'Quality and fabric is not good\\', \\'Good\\']'"
            ],
            "application/vnd.google.colaboratory.intrinsic+json": {
              "type": "string"
            }
          },
          "metadata": {},
          "execution_count": 44
        }
      ]
    },
    {
      "cell_type": "code",
      "source": [
        "def review_clean_without_stopwords(review):\n",
        "  new_review = re.sub(r\"'s\\b\", \" is\", review)\n",
        "  new_review = contractions.fix(review)\n",
        "  new_review = re.sub(r'[^a-zA-Z]',' ', review)\n",
        "  new_review = new_review.lower().strip()\n",
        "\n",
        "  cleaned_review = \"\"\n",
        "  for token in new_review.split():\n",
        "    cleaned_review = cleaned_review + lemmatizer.lemmatize(token) + ' '\n",
        "\n",
        "  return new_review"
      ],
      "metadata": {
        "id": "9CN7tpsNuWhX"
      },
      "execution_count": 45,
      "outputs": []
    },
    {
      "cell_type": "code",
      "source": [
        "clean_comment = []\n",
        "for comment in df_review['customer_review_text']:\n",
        "  clean_comment.append(review_clean_without_stopwords(comment))"
      ],
      "metadata": {
        "id": "sidcWu9WvzHW"
      },
      "execution_count": 46,
      "outputs": []
    },
    {
      "cell_type": "code",
      "source": [
        "df_review['fullycleaned_review_w/o_sw'] = clean_comment"
      ],
      "metadata": {
        "id": "MVpXQsjXwKU_"
      },
      "execution_count": 47,
      "outputs": []
    },
    {
      "cell_type": "code",
      "source": [
        "df_review['fullycleaned_review_w/o_sw'][1]"
      ],
      "metadata": {
        "colab": {
          "base_uri": "https://localhost:8080/",
          "height": 123
        },
        "id": "Er-oXMDswtI5",
        "outputId": "cab9e3cb-1203-4e04-a6c2-97cb4ef835be"
      },
      "execution_count": 48,
      "outputs": [
        {
          "output_type": "execute_result",
          "data": {
            "text/plain": [
              "'the size correct fit and ok quality value for the money    after one wash colour faded    just wow  loved it       pathetic waste product poor quality material   even shortage of material between stitching  pls don t waste your money on it  highly suggest don t don t buy this      poor material and low quality prints especially the brand naming on the back     was littlebit tight at the under arm  other wise good product at this price      fabric quality is not good overall okay    fitting was good but fabric is not good    now i ok with it    after fiting this  this like wonderful            the experience was good    nice t    poor quality product     completely not suited for me     it s fits me well    threads are coming out from the mid point of back rest all good    super    material is not good    fabric quality is not good    the quality was not good    quality is not good     nice one  go for it     good for price    fit was correct    nyc product    perfect fit    overall the product itself said it s a cotton material  instead the material is cheap quality just like jersey material  i request you to please provide the right information and don t buy this product anymore  waste of money      prefect    good    very good product    nice   great one    loved it    good      super fiting    value for money    nice    gud            not upto the mark    not good    it is mentioned as cotton but it is not  it s some mix of cotton plus other material  not      cotton  color fades after wash  cheap quality product     stunning    good    amazing        super    quality of product is not upto the mark    not good quality of t shirt from this brand very low gsm    poor quality price high    very low quality of fabric    low quality product material is thin    don t buy this product at all the quality of cloth is toooooooooooooooooooooooooooooooo worst waste of money    product quality is not up to the mark   should have been much more good    worst tshirt ever  poor material and dull printing  also  itches on skin after wearing    poor quality that range of price    the quality of the cloth was so poor or the color didn t even seem black     it s the worst ever fit for a tshirt     quality was not good i bought   t shirt s quality was not good    cheap quality    colour to dark    bad quality    febric not good    fit issue    poor quality    quality bekar hai    worst quality        very bad product    fit issue'"
            ],
            "application/vnd.google.colaboratory.intrinsic+json": {
              "type": "string"
            }
          },
          "metadata": {},
          "execution_count": 48
        }
      ]
    },
    {
      "cell_type": "markdown",
      "source": [
        "#### sentiment without sw for fully cleaned"
      ],
      "metadata": {
        "id": "WcMnBu7hxFDR"
      }
    },
    {
      "cell_type": "code",
      "source": [
        "sentiment_after_fullclean = []\n",
        "for sent in df_review['fullycleaned_review_w/o_sw']:\n",
        "  sentiment_after_fullclean.append(analyze_sentiment(sent))\n",
        "\n",
        "sentiment_after_clean[1]\n"
      ],
      "metadata": {
        "colab": {
          "base_uri": "https://localhost:8080/",
          "height": 36
        },
        "id": "tXucUR5hxLe-",
        "outputId": "340a44d4-6163-4036-e386-098a07ea056f"
      },
      "execution_count": 49,
      "outputs": [
        {
          "output_type": "execute_result",
          "data": {
            "text/plain": [
              "'Positive'"
            ],
            "application/vnd.google.colaboratory.intrinsic+json": {
              "type": "string"
            }
          },
          "metadata": {},
          "execution_count": 49
        }
      ]
    },
    {
      "cell_type": "code",
      "source": [
        "df_review['label_fullycleaned_w/o_sw'] = sentiment_after_fullclean"
      ],
      "metadata": {
        "id": "F1FbdMu6xuuH"
      },
      "execution_count": 50,
      "outputs": []
    },
    {
      "cell_type": "code",
      "source": [
        "df_review['label_fullycleaned_w/o_sw'].value_counts(normalize=True)*100"
      ],
      "metadata": {
        "colab": {
          "base_uri": "https://localhost:8080/"
        },
        "id": "Fm3jjkqUx7oI",
        "outputId": "9cf48a5a-1b44-451b-8a02-b0e6e01d5851"
      },
      "execution_count": 51,
      "outputs": [
        {
          "output_type": "execute_result",
          "data": {
            "text/plain": [
              "Positive    91.939346\n",
              "Negative     8.060654\n",
              "Name: label_fullycleaned_w/o_sw, dtype: float64"
            ]
          },
          "metadata": {},
          "execution_count": 51
        }
      ]
    },
    {
      "cell_type": "markdown",
      "source": [
        "## with stopwords"
      ],
      "metadata": {
        "id": "lrC2qjESow-L"
      }
    },
    {
      "cell_type": "code",
      "source": [
        "from nltk.corpus import stopwords\n",
        "nltk.download('stopwords')"
      ],
      "metadata": {
        "colab": {
          "base_uri": "https://localhost:8080/"
        },
        "id": "eqKMI6YAoWEE",
        "outputId": "0e68ebf6-bf19-467f-f8dd-4fba08635b6b"
      },
      "execution_count": 52,
      "outputs": [
        {
          "output_type": "stream",
          "name": "stderr",
          "text": [
            "[nltk_data] Downloading package stopwords to /root/nltk_data...\n",
            "[nltk_data]   Unzipping corpora/stopwords.zip.\n"
          ]
        },
        {
          "output_type": "execute_result",
          "data": {
            "text/plain": [
              "True"
            ]
          },
          "metadata": {},
          "execution_count": 52
        }
      ]
    },
    {
      "cell_type": "code",
      "source": [
        "nltk_stopwords = set(stopwords.words('english'))\n",
        "nltk_stopwords"
      ],
      "metadata": {
        "colab": {
          "base_uri": "https://localhost:8080/"
        },
        "id": "9cyzbAULpFNo",
        "outputId": "2409fcd8-3f25-4273-8801-d410f97588e6"
      },
      "execution_count": 53,
      "outputs": [
        {
          "output_type": "execute_result",
          "data": {
            "text/plain": [
              "{'a',\n",
              " 'about',\n",
              " 'above',\n",
              " 'after',\n",
              " 'again',\n",
              " 'against',\n",
              " 'ain',\n",
              " 'all',\n",
              " 'am',\n",
              " 'an',\n",
              " 'and',\n",
              " 'any',\n",
              " 'are',\n",
              " 'aren',\n",
              " \"aren't\",\n",
              " 'as',\n",
              " 'at',\n",
              " 'be',\n",
              " 'because',\n",
              " 'been',\n",
              " 'before',\n",
              " 'being',\n",
              " 'below',\n",
              " 'between',\n",
              " 'both',\n",
              " 'but',\n",
              " 'by',\n",
              " 'can',\n",
              " 'couldn',\n",
              " \"couldn't\",\n",
              " 'd',\n",
              " 'did',\n",
              " 'didn',\n",
              " \"didn't\",\n",
              " 'do',\n",
              " 'does',\n",
              " 'doesn',\n",
              " \"doesn't\",\n",
              " 'doing',\n",
              " 'don',\n",
              " \"don't\",\n",
              " 'down',\n",
              " 'during',\n",
              " 'each',\n",
              " 'few',\n",
              " 'for',\n",
              " 'from',\n",
              " 'further',\n",
              " 'had',\n",
              " 'hadn',\n",
              " \"hadn't\",\n",
              " 'has',\n",
              " 'hasn',\n",
              " \"hasn't\",\n",
              " 'have',\n",
              " 'haven',\n",
              " \"haven't\",\n",
              " 'having',\n",
              " 'he',\n",
              " 'her',\n",
              " 'here',\n",
              " 'hers',\n",
              " 'herself',\n",
              " 'him',\n",
              " 'himself',\n",
              " 'his',\n",
              " 'how',\n",
              " 'i',\n",
              " 'if',\n",
              " 'in',\n",
              " 'into',\n",
              " 'is',\n",
              " 'isn',\n",
              " \"isn't\",\n",
              " 'it',\n",
              " \"it's\",\n",
              " 'its',\n",
              " 'itself',\n",
              " 'just',\n",
              " 'll',\n",
              " 'm',\n",
              " 'ma',\n",
              " 'me',\n",
              " 'mightn',\n",
              " \"mightn't\",\n",
              " 'more',\n",
              " 'most',\n",
              " 'mustn',\n",
              " \"mustn't\",\n",
              " 'my',\n",
              " 'myself',\n",
              " 'needn',\n",
              " \"needn't\",\n",
              " 'no',\n",
              " 'nor',\n",
              " 'not',\n",
              " 'now',\n",
              " 'o',\n",
              " 'of',\n",
              " 'off',\n",
              " 'on',\n",
              " 'once',\n",
              " 'only',\n",
              " 'or',\n",
              " 'other',\n",
              " 'our',\n",
              " 'ours',\n",
              " 'ourselves',\n",
              " 'out',\n",
              " 'over',\n",
              " 'own',\n",
              " 're',\n",
              " 's',\n",
              " 'same',\n",
              " 'shan',\n",
              " \"shan't\",\n",
              " 'she',\n",
              " \"she's\",\n",
              " 'should',\n",
              " \"should've\",\n",
              " 'shouldn',\n",
              " \"shouldn't\",\n",
              " 'so',\n",
              " 'some',\n",
              " 'such',\n",
              " 't',\n",
              " 'than',\n",
              " 'that',\n",
              " \"that'll\",\n",
              " 'the',\n",
              " 'their',\n",
              " 'theirs',\n",
              " 'them',\n",
              " 'themselves',\n",
              " 'then',\n",
              " 'there',\n",
              " 'these',\n",
              " 'they',\n",
              " 'this',\n",
              " 'those',\n",
              " 'through',\n",
              " 'to',\n",
              " 'too',\n",
              " 'under',\n",
              " 'until',\n",
              " 'up',\n",
              " 've',\n",
              " 'very',\n",
              " 'was',\n",
              " 'wasn',\n",
              " \"wasn't\",\n",
              " 'we',\n",
              " 'were',\n",
              " 'weren',\n",
              " \"weren't\",\n",
              " 'what',\n",
              " 'when',\n",
              " 'where',\n",
              " 'which',\n",
              " 'while',\n",
              " 'who',\n",
              " 'whom',\n",
              " 'why',\n",
              " 'will',\n",
              " 'with',\n",
              " 'won',\n",
              " \"won't\",\n",
              " 'wouldn',\n",
              " \"wouldn't\",\n",
              " 'y',\n",
              " 'you',\n",
              " \"you'd\",\n",
              " \"you'll\",\n",
              " \"you're\",\n",
              " \"you've\",\n",
              " 'your',\n",
              " 'yours',\n",
              " 'yourself',\n",
              " 'yourselves'}"
            ]
          },
          "metadata": {},
          "execution_count": 53
        }
      ]
    },
    {
      "cell_type": "code",
      "source": [
        "from sklearn.feature_extraction.text import ENGLISH_STOP_WORDS\n",
        "sklearn_stopwords = set(ENGLISH_STOP_WORDS)\n",
        "print(sklearn_stopwords)\n",
        "len(sklearn_stopwords)"
      ],
      "metadata": {
        "colab": {
          "base_uri": "https://localhost:8080/"
        },
        "id": "Vb5EEIRMpV0n",
        "outputId": "aeacfeeb-dd85-468f-8924-91fc921e6dce"
      },
      "execution_count": 54,
      "outputs": [
        {
          "output_type": "stream",
          "name": "stdout",
          "text": [
            "{'or', 'through', 'about', 'ourselves', 'serious', 'why', 'me', 'amount', 'two', 'them', 'therein', 'although', 'beyond', 'both', 'three', 'own', 'everyone', 'enough', 'thereafter', 'fire', 'they', 'move', 'sixty', 'there', 'he', 'towards', 're', 'bill', 'himself', 'seemed', 'i', 'amongst', 'my', 'here', 'hereby', 'may', 'mostly', 'ours', 'each', 'nor', 'together', 'are', 'someone', 'who', 'beside', 'wherever', 'twenty', 'against', 'whether', 'sincere', 'nothing', 'off', 'herself', 'once', 'ten', 'among', 'con', 'for', 'only', 'anyone', 'whereafter', 'thin', 'moreover', 'most', 'perhaps', 'also', 'find', 'am', 'others', 'de', 'third', 'was', 'etc', 'until', 'whose', 'few', 'her', 'co', 'found', 'between', 'our', 'thru', 'latter', 'then', 'done', 'whence', 'anyway', 'meanwhile', 'while', 'when', 'alone', 'empty', 'sometime', 'since', 'anyhow', 'thick', 'therefore', 'within', 'eg', 'interest', 'other', 'via', 'fifty', 'more', 'very', 'bottom', 'over', 'she', 'hereupon', 'as', 'becomes', 'whereupon', 'never', 'if', 'a', 'but', 'forty', 'too', 'cannot', 'such', 'an', 'else', 'whereby', 'yours', 'none', 'further', 'might', 'to', 'thereupon', 'because', 'beforehand', 'due', 'part', 'rather', 'what', 'ie', 'be', 'below', 'last', 'those', 'keep', 'anything', 'toward', 'full', 'yourselves', 'became', 'some', 'always', 'whom', 'than', 'becoming', 'we', 'already', 'former', 'been', 'either', 'thence', 'side', 'across', 'back', 'still', 'nowhere', 'hers', 'us', 'were', 'hereafter', 'though', 'you', 'around', 'first', 'now', 'latterly', 'mine', 'above', 'will', 'eleven', 'their', 'one', 'formerly', 'has', 'in', 'so', 'could', 'next', 'ltd', 'mill', 'cant', 'show', 'well', 'do', 'besides', 'give', 'front', 'see', 'from', 'put', 'nobody', 'seem', 'top', 'whereas', 'everything', 'name', 'somewhere', 'amoungst', 'made', 'these', 'after', 'even', 'every', 'become', 'five', 'would', 'where', 'afterwards', 'indeed', 'cry', 'nevertheless', 'inc', 'elsewhere', 'yet', 'with', 'fifteen', 'no', 'anywhere', 'un', 'throughout', 'by', 'being', 'please', 'during', 'of', 'namely', 'eight', 'along', 'four', 'whole', 'hasnt', 'before', 'into', 'again', 'this', 'upon', 'had', 'out', 'it', 'thereby', 'on', 'wherein', 'noone', 'however', 'system', 'less', 'all', 'get', 'many', 'any', 'the', 'fill', 'have', 'herein', 'is', 'nine', 'hundred', 'least', 'down', 'otherwise', 'go', 'at', 'that', 'much', 'whenever', 'onto', 'often', 'take', 'must', 'everywhere', 'neither', 'twelve', 'whither', 'detail', 'per', 'couldnt', 'myself', 'sometimes', 'call', 'him', 'behind', 'and', 'not', 'itself', 'themselves', 'describe', 'hence', 'several', 'whatever', 'under', 'his', 'up', 'seems', 'same', 'six', 'how', 'its', 'can', 'without', 'your', 'should', 'which', 'somehow', 'ever', 'something', 'almost', 'thus', 'whoever', 'seeming', 'yourself', 'another', 'except'}\n"
          ]
        },
        {
          "output_type": "execute_result",
          "data": {
            "text/plain": [
              "318"
            ]
          },
          "metadata": {},
          "execution_count": 54
        }
      ]
    },
    {
      "cell_type": "code",
      "source": [
        "# combine the nltk and sklearn stopwords\n",
        "combined_stopwords = nltk_stopwords.union(sklearn_stopwords)\n",
        "combined_stopwords"
      ],
      "metadata": {
        "colab": {
          "base_uri": "https://localhost:8080/"
        },
        "id": "VyaO505fp3OH",
        "outputId": "19a5701f-4f33-4ad9-e091-3efbaf734931"
      },
      "execution_count": 55,
      "outputs": [
        {
          "output_type": "execute_result",
          "data": {
            "text/plain": [
              "{'a',\n",
              " 'about',\n",
              " 'above',\n",
              " 'across',\n",
              " 'after',\n",
              " 'afterwards',\n",
              " 'again',\n",
              " 'against',\n",
              " 'ain',\n",
              " 'all',\n",
              " 'almost',\n",
              " 'alone',\n",
              " 'along',\n",
              " 'already',\n",
              " 'also',\n",
              " 'although',\n",
              " 'always',\n",
              " 'am',\n",
              " 'among',\n",
              " 'amongst',\n",
              " 'amoungst',\n",
              " 'amount',\n",
              " 'an',\n",
              " 'and',\n",
              " 'another',\n",
              " 'any',\n",
              " 'anyhow',\n",
              " 'anyone',\n",
              " 'anything',\n",
              " 'anyway',\n",
              " 'anywhere',\n",
              " 'are',\n",
              " 'aren',\n",
              " \"aren't\",\n",
              " 'around',\n",
              " 'as',\n",
              " 'at',\n",
              " 'back',\n",
              " 'be',\n",
              " 'became',\n",
              " 'because',\n",
              " 'become',\n",
              " 'becomes',\n",
              " 'becoming',\n",
              " 'been',\n",
              " 'before',\n",
              " 'beforehand',\n",
              " 'behind',\n",
              " 'being',\n",
              " 'below',\n",
              " 'beside',\n",
              " 'besides',\n",
              " 'between',\n",
              " 'beyond',\n",
              " 'bill',\n",
              " 'both',\n",
              " 'bottom',\n",
              " 'but',\n",
              " 'by',\n",
              " 'call',\n",
              " 'can',\n",
              " 'cannot',\n",
              " 'cant',\n",
              " 'co',\n",
              " 'con',\n",
              " 'could',\n",
              " 'couldn',\n",
              " \"couldn't\",\n",
              " 'couldnt',\n",
              " 'cry',\n",
              " 'd',\n",
              " 'de',\n",
              " 'describe',\n",
              " 'detail',\n",
              " 'did',\n",
              " 'didn',\n",
              " \"didn't\",\n",
              " 'do',\n",
              " 'does',\n",
              " 'doesn',\n",
              " \"doesn't\",\n",
              " 'doing',\n",
              " 'don',\n",
              " \"don't\",\n",
              " 'done',\n",
              " 'down',\n",
              " 'due',\n",
              " 'during',\n",
              " 'each',\n",
              " 'eg',\n",
              " 'eight',\n",
              " 'either',\n",
              " 'eleven',\n",
              " 'else',\n",
              " 'elsewhere',\n",
              " 'empty',\n",
              " 'enough',\n",
              " 'etc',\n",
              " 'even',\n",
              " 'ever',\n",
              " 'every',\n",
              " 'everyone',\n",
              " 'everything',\n",
              " 'everywhere',\n",
              " 'except',\n",
              " 'few',\n",
              " 'fifteen',\n",
              " 'fifty',\n",
              " 'fill',\n",
              " 'find',\n",
              " 'fire',\n",
              " 'first',\n",
              " 'five',\n",
              " 'for',\n",
              " 'former',\n",
              " 'formerly',\n",
              " 'forty',\n",
              " 'found',\n",
              " 'four',\n",
              " 'from',\n",
              " 'front',\n",
              " 'full',\n",
              " 'further',\n",
              " 'get',\n",
              " 'give',\n",
              " 'go',\n",
              " 'had',\n",
              " 'hadn',\n",
              " \"hadn't\",\n",
              " 'has',\n",
              " 'hasn',\n",
              " \"hasn't\",\n",
              " 'hasnt',\n",
              " 'have',\n",
              " 'haven',\n",
              " \"haven't\",\n",
              " 'having',\n",
              " 'he',\n",
              " 'hence',\n",
              " 'her',\n",
              " 'here',\n",
              " 'hereafter',\n",
              " 'hereby',\n",
              " 'herein',\n",
              " 'hereupon',\n",
              " 'hers',\n",
              " 'herself',\n",
              " 'him',\n",
              " 'himself',\n",
              " 'his',\n",
              " 'how',\n",
              " 'however',\n",
              " 'hundred',\n",
              " 'i',\n",
              " 'ie',\n",
              " 'if',\n",
              " 'in',\n",
              " 'inc',\n",
              " 'indeed',\n",
              " 'interest',\n",
              " 'into',\n",
              " 'is',\n",
              " 'isn',\n",
              " \"isn't\",\n",
              " 'it',\n",
              " \"it's\",\n",
              " 'its',\n",
              " 'itself',\n",
              " 'just',\n",
              " 'keep',\n",
              " 'last',\n",
              " 'latter',\n",
              " 'latterly',\n",
              " 'least',\n",
              " 'less',\n",
              " 'll',\n",
              " 'ltd',\n",
              " 'm',\n",
              " 'ma',\n",
              " 'made',\n",
              " 'many',\n",
              " 'may',\n",
              " 'me',\n",
              " 'meanwhile',\n",
              " 'might',\n",
              " 'mightn',\n",
              " \"mightn't\",\n",
              " 'mill',\n",
              " 'mine',\n",
              " 'more',\n",
              " 'moreover',\n",
              " 'most',\n",
              " 'mostly',\n",
              " 'move',\n",
              " 'much',\n",
              " 'must',\n",
              " 'mustn',\n",
              " \"mustn't\",\n",
              " 'my',\n",
              " 'myself',\n",
              " 'name',\n",
              " 'namely',\n",
              " 'needn',\n",
              " \"needn't\",\n",
              " 'neither',\n",
              " 'never',\n",
              " 'nevertheless',\n",
              " 'next',\n",
              " 'nine',\n",
              " 'no',\n",
              " 'nobody',\n",
              " 'none',\n",
              " 'noone',\n",
              " 'nor',\n",
              " 'not',\n",
              " 'nothing',\n",
              " 'now',\n",
              " 'nowhere',\n",
              " 'o',\n",
              " 'of',\n",
              " 'off',\n",
              " 'often',\n",
              " 'on',\n",
              " 'once',\n",
              " 'one',\n",
              " 'only',\n",
              " 'onto',\n",
              " 'or',\n",
              " 'other',\n",
              " 'others',\n",
              " 'otherwise',\n",
              " 'our',\n",
              " 'ours',\n",
              " 'ourselves',\n",
              " 'out',\n",
              " 'over',\n",
              " 'own',\n",
              " 'part',\n",
              " 'per',\n",
              " 'perhaps',\n",
              " 'please',\n",
              " 'put',\n",
              " 'rather',\n",
              " 're',\n",
              " 's',\n",
              " 'same',\n",
              " 'see',\n",
              " 'seem',\n",
              " 'seemed',\n",
              " 'seeming',\n",
              " 'seems',\n",
              " 'serious',\n",
              " 'several',\n",
              " 'shan',\n",
              " \"shan't\",\n",
              " 'she',\n",
              " \"she's\",\n",
              " 'should',\n",
              " \"should've\",\n",
              " 'shouldn',\n",
              " \"shouldn't\",\n",
              " 'show',\n",
              " 'side',\n",
              " 'since',\n",
              " 'sincere',\n",
              " 'six',\n",
              " 'sixty',\n",
              " 'so',\n",
              " 'some',\n",
              " 'somehow',\n",
              " 'someone',\n",
              " 'something',\n",
              " 'sometime',\n",
              " 'sometimes',\n",
              " 'somewhere',\n",
              " 'still',\n",
              " 'such',\n",
              " 'system',\n",
              " 't',\n",
              " 'take',\n",
              " 'ten',\n",
              " 'than',\n",
              " 'that',\n",
              " \"that'll\",\n",
              " 'the',\n",
              " 'their',\n",
              " 'theirs',\n",
              " 'them',\n",
              " 'themselves',\n",
              " 'then',\n",
              " 'thence',\n",
              " 'there',\n",
              " 'thereafter',\n",
              " 'thereby',\n",
              " 'therefore',\n",
              " 'therein',\n",
              " 'thereupon',\n",
              " 'these',\n",
              " 'they',\n",
              " 'thick',\n",
              " 'thin',\n",
              " 'third',\n",
              " 'this',\n",
              " 'those',\n",
              " 'though',\n",
              " 'three',\n",
              " 'through',\n",
              " 'throughout',\n",
              " 'thru',\n",
              " 'thus',\n",
              " 'to',\n",
              " 'together',\n",
              " 'too',\n",
              " 'top',\n",
              " 'toward',\n",
              " 'towards',\n",
              " 'twelve',\n",
              " 'twenty',\n",
              " 'two',\n",
              " 'un',\n",
              " 'under',\n",
              " 'until',\n",
              " 'up',\n",
              " 'upon',\n",
              " 'us',\n",
              " 've',\n",
              " 'very',\n",
              " 'via',\n",
              " 'was',\n",
              " 'wasn',\n",
              " \"wasn't\",\n",
              " 'we',\n",
              " 'well',\n",
              " 'were',\n",
              " 'weren',\n",
              " \"weren't\",\n",
              " 'what',\n",
              " 'whatever',\n",
              " 'when',\n",
              " 'whence',\n",
              " 'whenever',\n",
              " 'where',\n",
              " 'whereafter',\n",
              " 'whereas',\n",
              " 'whereby',\n",
              " 'wherein',\n",
              " 'whereupon',\n",
              " 'wherever',\n",
              " 'whether',\n",
              " 'which',\n",
              " 'while',\n",
              " 'whither',\n",
              " 'who',\n",
              " 'whoever',\n",
              " 'whole',\n",
              " 'whom',\n",
              " 'whose',\n",
              " 'why',\n",
              " 'will',\n",
              " 'with',\n",
              " 'within',\n",
              " 'without',\n",
              " 'won',\n",
              " \"won't\",\n",
              " 'would',\n",
              " 'wouldn',\n",
              " \"wouldn't\",\n",
              " 'y',\n",
              " 'yet',\n",
              " 'you',\n",
              " \"you'd\",\n",
              " \"you'll\",\n",
              " \"you're\",\n",
              " \"you've\",\n",
              " 'your',\n",
              " 'yours',\n",
              " 'yourself',\n",
              " 'yourselves'}"
            ]
          },
          "metadata": {},
          "execution_count": 55
        }
      ]
    },
    {
      "cell_type": "code",
      "source": [
        "domain_stopwords = ['t-shirt', 'tshirt', 'myntra']\n",
        "\n",
        "final_stopwords = domain_stopwords + list(combined_stopwords)"
      ],
      "metadata": {
        "id": "k-4J1PFBz48N"
      },
      "execution_count": 56,
      "outputs": []
    },
    {
      "cell_type": "code",
      "source": [
        "final_stopwords"
      ],
      "metadata": {
        "colab": {
          "base_uri": "https://localhost:8080/"
        },
        "id": "jk6T5guh1dog",
        "outputId": "26ae9059-6b24-400b-ca2e-75dc58f205d8"
      },
      "execution_count": 57,
      "outputs": [
        {
          "output_type": "execute_result",
          "data": {
            "text/plain": [
              "['t-shirt',\n",
              " 'tshirt',\n",
              " 'myntra',\n",
              " 'or',\n",
              " 'through',\n",
              " 'about',\n",
              " 'ourselves',\n",
              " 'aren',\n",
              " 'serious',\n",
              " 'why',\n",
              " 'me',\n",
              " 'them',\n",
              " \"don't\",\n",
              " 'amount',\n",
              " 'two',\n",
              " 'therein',\n",
              " 'although',\n",
              " 'beyond',\n",
              " 'both',\n",
              " \"shan't\",\n",
              " 'three',\n",
              " 'own',\n",
              " 'everyone',\n",
              " 'enough',\n",
              " 'thereafter',\n",
              " 'they',\n",
              " 'fire',\n",
              " 'move',\n",
              " \"weren't\",\n",
              " 'wasn',\n",
              " 'sixty',\n",
              " 'there',\n",
              " 'he',\n",
              " 'towards',\n",
              " 're',\n",
              " 'bill',\n",
              " 'himself',\n",
              " 'seemed',\n",
              " 'i',\n",
              " 'my',\n",
              " 'here',\n",
              " 'amongst',\n",
              " 'hereby',\n",
              " 'may',\n",
              " 'mostly',\n",
              " 'ours',\n",
              " 'each',\n",
              " 'nor',\n",
              " 'together',\n",
              " 'are',\n",
              " 'someone',\n",
              " \"doesn't\",\n",
              " 'who',\n",
              " \"shouldn't\",\n",
              " 'beside',\n",
              " 'wherever',\n",
              " 'twenty',\n",
              " 'against',\n",
              " 'whether',\n",
              " 'sincere',\n",
              " 'shouldn',\n",
              " 'nothing',\n",
              " 'off',\n",
              " 'herself',\n",
              " 'once',\n",
              " 'ten',\n",
              " 'among',\n",
              " 'for',\n",
              " 'con',\n",
              " 'only',\n",
              " 'anyone',\n",
              " \"hadn't\",\n",
              " 'whereafter',\n",
              " 'thin',\n",
              " 'moreover',\n",
              " 'most',\n",
              " 'perhaps',\n",
              " 'also',\n",
              " 'find',\n",
              " 'am',\n",
              " 'others',\n",
              " 'de',\n",
              " 'third',\n",
              " 'was',\n",
              " \"mightn't\",\n",
              " 'until',\n",
              " 'etc',\n",
              " 'doesn',\n",
              " 'doing',\n",
              " 'whose',\n",
              " 'few',\n",
              " 'o',\n",
              " 'her',\n",
              " 'co',\n",
              " 'found',\n",
              " 'between',\n",
              " 'our',\n",
              " 'thru',\n",
              " 'latter',\n",
              " 'then',\n",
              " 'wouldn',\n",
              " 'done',\n",
              " 'whence',\n",
              " 'anyway',\n",
              " 'meanwhile',\n",
              " \"you've\",\n",
              " 'while',\n",
              " 'when',\n",
              " 'shan',\n",
              " 'alone',\n",
              " 'empty',\n",
              " 'sometime',\n",
              " 'since',\n",
              " 'don',\n",
              " 'anyhow',\n",
              " 'thick',\n",
              " 'therefore',\n",
              " 'within',\n",
              " 'eg',\n",
              " 'other',\n",
              " 'interest',\n",
              " 'via',\n",
              " 'more',\n",
              " 'fifty',\n",
              " 'another',\n",
              " 'very',\n",
              " 'bottom',\n",
              " 'over',\n",
              " 'she',\n",
              " 'hereupon',\n",
              " 'as',\n",
              " 'becomes',\n",
              " 'whereupon',\n",
              " 'never',\n",
              " 'if',\n",
              " 'won',\n",
              " 'a',\n",
              " 'but',\n",
              " \"you're\",\n",
              " 'forty',\n",
              " 'too',\n",
              " 'cannot',\n",
              " 'such',\n",
              " 'yours',\n",
              " 'an',\n",
              " 'else',\n",
              " 'whereby',\n",
              " 'having',\n",
              " 'none',\n",
              " 'to',\n",
              " 'further',\n",
              " 'might',\n",
              " 'thereupon',\n",
              " 'because',\n",
              " 'beforehand',\n",
              " 'needn',\n",
              " 'due',\n",
              " 'part',\n",
              " 'what',\n",
              " 'rather',\n",
              " 'ie',\n",
              " 'below',\n",
              " 'last',\n",
              " 'those',\n",
              " 'keep',\n",
              " 'anything',\n",
              " 'toward',\n",
              " 'full',\n",
              " 'yourselves',\n",
              " 'became',\n",
              " 'some',\n",
              " 'always',\n",
              " 'whom',\n",
              " 'than',\n",
              " 'mustn',\n",
              " 'becoming',\n",
              " 'we',\n",
              " 'already',\n",
              " 'former',\n",
              " 'been',\n",
              " 'either',\n",
              " 'thence',\n",
              " 'side',\n",
              " 'across',\n",
              " 'back',\n",
              " 'y',\n",
              " 'still',\n",
              " 'nowhere',\n",
              " 'hers',\n",
              " 'us',\n",
              " 'were',\n",
              " \"should've\",\n",
              " 'hereafter',\n",
              " 'though',\n",
              " \"aren't\",\n",
              " 'you',\n",
              " 'around',\n",
              " 'first',\n",
              " 'now',\n",
              " 'latterly',\n",
              " 'mine',\n",
              " 'above',\n",
              " 'will',\n",
              " 'their',\n",
              " 'eleven',\n",
              " 'one',\n",
              " 'formerly',\n",
              " 'has',\n",
              " 'theirs',\n",
              " 'd',\n",
              " 'in',\n",
              " 'ma',\n",
              " 'so',\n",
              " \"isn't\",\n",
              " 'could',\n",
              " 'next',\n",
              " \"it's\",\n",
              " \"she's\",\n",
              " 'ltd',\n",
              " 'mill',\n",
              " 'cant',\n",
              " 'show',\n",
              " 'well',\n",
              " 't',\n",
              " 'do',\n",
              " 'besides',\n",
              " 'give',\n",
              " 'front',\n",
              " 'from',\n",
              " 'see',\n",
              " 'hadn',\n",
              " 'put',\n",
              " 'nobody',\n",
              " 'seem',\n",
              " \"you'll\",\n",
              " 'top',\n",
              " 'whereas',\n",
              " 'everything',\n",
              " 'name',\n",
              " 'somewhere',\n",
              " 'amoungst',\n",
              " \"hasn't\",\n",
              " 'made',\n",
              " 'these',\n",
              " 'after',\n",
              " 'even',\n",
              " 'does',\n",
              " 'every',\n",
              " 'become',\n",
              " 'm',\n",
              " 'did',\n",
              " 'five',\n",
              " 'would',\n",
              " 'where',\n",
              " 'afterwards',\n",
              " 'indeed',\n",
              " 'cry',\n",
              " 'nevertheless',\n",
              " 'inc',\n",
              " 'elsewhere',\n",
              " 'yet',\n",
              " 'with',\n",
              " 'fifteen',\n",
              " 'll',\n",
              " 'no',\n",
              " 'anywhere',\n",
              " 'un',\n",
              " 'didn',\n",
              " 'throughout',\n",
              " 'by',\n",
              " 'isn',\n",
              " 'being',\n",
              " 'please',\n",
              " 'during',\n",
              " 'of',\n",
              " 'namely',\n",
              " 'eight',\n",
              " 'along',\n",
              " 'mightn',\n",
              " 'four',\n",
              " 'whole',\n",
              " 'hasnt',\n",
              " 'before',\n",
              " 'into',\n",
              " 'again',\n",
              " \"needn't\",\n",
              " 'this',\n",
              " 'upon',\n",
              " 'had',\n",
              " 'out',\n",
              " 'it',\n",
              " 'thereby',\n",
              " 'on',\n",
              " 'wherein',\n",
              " 'noone',\n",
              " 'however',\n",
              " 'system',\n",
              " 'less',\n",
              " 'all',\n",
              " 'get',\n",
              " 'many',\n",
              " 'any',\n",
              " 'the',\n",
              " 'fill',\n",
              " 'have',\n",
              " 'herein',\n",
              " 'is',\n",
              " \"won't\",\n",
              " 'nine',\n",
              " 'hundred',\n",
              " 'least',\n",
              " 'down',\n",
              " 's',\n",
              " 'otherwise',\n",
              " 'go',\n",
              " 'at',\n",
              " 'that',\n",
              " 'weren',\n",
              " 'much',\n",
              " 'whenever',\n",
              " 'onto',\n",
              " 'often',\n",
              " 'take',\n",
              " 'must',\n",
              " \"wouldn't\",\n",
              " 'everywhere',\n",
              " 'neither',\n",
              " 'twelve',\n",
              " 'whither',\n",
              " 'detail',\n",
              " 'per',\n",
              " 'myself',\n",
              " 'couldnt',\n",
              " 'sometimes',\n",
              " 'call',\n",
              " 'him',\n",
              " 'behind',\n",
              " 'and',\n",
              " \"mustn't\",\n",
              " 'not',\n",
              " 'itself',\n",
              " 'themselves',\n",
              " 'describe',\n",
              " 'hence',\n",
              " 'several',\n",
              " 'whatever',\n",
              " 'couldn',\n",
              " \"haven't\",\n",
              " 'under',\n",
              " 'haven',\n",
              " 'his',\n",
              " 'up',\n",
              " 'seems',\n",
              " 'same',\n",
              " \"couldn't\",\n",
              " \"wasn't\",\n",
              " 'six',\n",
              " 'its',\n",
              " 'how',\n",
              " \"didn't\",\n",
              " 'just',\n",
              " 'hasn',\n",
              " 'can',\n",
              " 'without',\n",
              " 'your',\n",
              " \"that'll\",\n",
              " 'should',\n",
              " 'ain',\n",
              " 'which',\n",
              " 've',\n",
              " 'somehow',\n",
              " \"you'd\",\n",
              " 'ever',\n",
              " 'something',\n",
              " 'almost',\n",
              " 'thus',\n",
              " 'whoever',\n",
              " 'seeming',\n",
              " 'yourself',\n",
              " 'be',\n",
              " 'except']"
            ]
          },
          "metadata": {},
          "execution_count": 57
        }
      ]
    },
    {
      "cell_type": "code",
      "source": [
        "def review_clean_with_stopwords(review):\n",
        "  new_review = re.sub(r\"'s\\b\", \" is\", review)\n",
        "  new_review = contractions.fix(review)\n",
        "  new_review = re.sub(r'[^a-zA-Z]',' ', review)\n",
        "  new_review = new_review.lower().strip()\n",
        "\n",
        "  new_review = [token for token in new_review.split() if token not in final_stopwords]\n",
        "\n",
        "  cleaned_review = \"\"\n",
        "  for token in new_review:\n",
        "    cleaned_review = cleaned_review + lemmatizer.lemmatize(token) + ' '\n",
        "\n",
        "  return cleaned_review"
      ],
      "metadata": {
        "id": "nTba09p9sGMe"
      },
      "execution_count": 58,
      "outputs": []
    },
    {
      "cell_type": "code",
      "source": [
        "cleaned_reviews_with_sw = df_review['customer_review_text'].apply(review_clean_with_stopwords)\n",
        "print(cleaned_reviews_with_sw)"
      ],
      "metadata": {
        "colab": {
          "base_uri": "https://localhost:8080/"
        },
        "id": "D7R_Rsg001S-",
        "outputId": "b0eccef2-d248-46a9-eca5-03dc53322ffa"
      },
      "execution_count": 59,
      "outputs": [
        {
          "output_type": "stream",
          "name": "stdout",
          "text": [
            "0       product quality good little short medium heigh...\n",
            "1       size correct fit ok quality value money wash c...\n",
            "2       comfortable fabric bottle green colour order p...\n",
            "3       look amazing truly fit fine quality doubt buy ...\n",
            "4       awesome quality n color review gvn misleading ...\n",
            "                              ...                        \n",
            "1248                                        poor quality \n",
            "1249    wore brand clothing going write completely acc...\n",
            "1250    material good size good according tall person ...\n",
            "1251    feel like lounge wear expect product good usin...\n",
            "1252    good quality perfect fitting look good product...\n",
            "Name: customer_review_text, Length: 1253, dtype: object\n"
          ]
        }
      ]
    },
    {
      "cell_type": "code",
      "source": [
        "df_review['fullycleaned_reviews_with_sw'] = cleaned_reviews_with_sw\n",
        "df_review.sample(3)"
      ],
      "metadata": {
        "colab": {
          "base_uri": "https://localhost:8080/",
          "height": 297
        },
        "id": "WJLmdIZI1XOw",
        "outputId": "e72b84ac-0ae2-482d-f6e7-3eb8ef052c1b"
      },
      "execution_count": 60,
      "outputs": [
        {
          "output_type": "execute_result",
          "data": {
            "text/plain": [
              "      product_id product_name  \\\n",
              "1011    18046496     Roadster   \n",
              "1012    23253836     STELLERS   \n",
              "850     12908462     Roadster   \n",
              "\n",
              "                                    product_description  discounted_price  \\\n",
              "1011  The Lifestyle Co Men Sea Green Polo Collar Pur...               461   \n",
              "1012                        Polo Collar Dry Fit T-shirt               759   \n",
              "850                 Men Blue Printed Round Neck T-shirt               314   \n",
              "\n",
              "      original_price  discount_percentage fabric_material    neck_type  \\\n",
              "1011            1099                   58     Pure Cotton  Polo Collar   \n",
              "1012            1999                   62       Polyester  Polo Collar   \n",
              "850              899                   65          Cotton   Round Neck   \n",
              "\n",
              "      overall_rating  votes  ...  \\\n",
              "1011             4.3    135  ...   \n",
              "1012             4.5     37  ...   \n",
              "850              4.0  13000  ...   \n",
              "\n",
              "                                   customer_review_text  \\\n",
              "1011  ['Great Quality and nice colour', 'Not worthy ...   \n",
              "1012    ['Nice quality', 'Good product', 'Nice fabric']   \n",
              "850   ['Fitting, Material Quality, Colour & comfort ...   \n",
              "\n",
              "                                     reviewers_username sentiment_label  \\\n",
              "1011  ['Zubair Alam', 'Pranesh', 'S N', 'Vinoth Push...        Positive   \n",
              "1012       ['Deepak Verma', 'Rennel', 'Mohammad Sajid']        Positive   \n",
              "850   ['Viney', 'Chintu Patel', 'Palavi', 'Ritesh Ku...        Positive   \n",
              "\n",
              "                                         date_of_review  \\\n",
              "1011  ['17 Apr 2023', '26 Jan 2023', '11 Jan 2023', ...   \n",
              "1012       ['27 Dec 2023', '7 Dec 2023', '12 Dec 2023']   \n",
              "850   ['18 July 2022', '16 Aug 2023', '1 Oct 2023', ...   \n",
              "\n",
              "                               reviewers_product_images  \\\n",
              "1011  ['https://assets.myntassets.com/h_150,q_75,w_1...   \n",
              "1012                                                 []   \n",
              "850   ['https://assets.myntassets.com/h_150,q_75,w_1...   \n",
              "\n",
              "                                  cleaned_review_w/o_sw label_cleaned_review  \\\n",
              "1011  great quality and nice colour    not worthy   ...             Positive   \n",
              "1012        nice quality    good product    nice fabric             Positive   \n",
              "850   fitting  material quality  colour   comfort is...             Positive   \n",
              "\n",
              "                             fullycleaned_review_w/o_sw  \\\n",
              "1011  great quality and nice colour    not worthy   ...   \n",
              "1012        nice quality    good product    nice fabric   \n",
              "850   fitting  material quality  colour   comfort is...   \n",
              "\n",
              "     label_fullycleaned_w/o_sw  \\\n",
              "1011                  Positive   \n",
              "1012                  Positive   \n",
              "850                   Positive   \n",
              "\n",
              "                           fullycleaned_reviews_with_sw  \n",
              "1011  great quality nice colour worthy great quality...  \n",
              "1012             nice quality good product nice fabric   \n",
              "850   fitting material quality colour comfort expect...  \n",
              "\n",
              "[3 rows x 21 columns]"
            ],
            "text/html": [
              "\n",
              "  <div id=\"df-18a10e56-26d4-45d0-b673-90d9a956c210\" class=\"colab-df-container\">\n",
              "    <div>\n",
              "<style scoped>\n",
              "    .dataframe tbody tr th:only-of-type {\n",
              "        vertical-align: middle;\n",
              "    }\n",
              "\n",
              "    .dataframe tbody tr th {\n",
              "        vertical-align: top;\n",
              "    }\n",
              "\n",
              "    .dataframe thead th {\n",
              "        text-align: right;\n",
              "    }\n",
              "</style>\n",
              "<table border=\"1\" class=\"dataframe\">\n",
              "  <thead>\n",
              "    <tr style=\"text-align: right;\">\n",
              "      <th></th>\n",
              "      <th>product_id</th>\n",
              "      <th>product_name</th>\n",
              "      <th>product_description</th>\n",
              "      <th>discounted_price</th>\n",
              "      <th>original_price</th>\n",
              "      <th>discount_percentage</th>\n",
              "      <th>fabric_material</th>\n",
              "      <th>neck_type</th>\n",
              "      <th>overall_rating</th>\n",
              "      <th>votes</th>\n",
              "      <th>...</th>\n",
              "      <th>customer_review_text</th>\n",
              "      <th>reviewers_username</th>\n",
              "      <th>sentiment_label</th>\n",
              "      <th>date_of_review</th>\n",
              "      <th>reviewers_product_images</th>\n",
              "      <th>cleaned_review_w/o_sw</th>\n",
              "      <th>label_cleaned_review</th>\n",
              "      <th>fullycleaned_review_w/o_sw</th>\n",
              "      <th>label_fullycleaned_w/o_sw</th>\n",
              "      <th>fullycleaned_reviews_with_sw</th>\n",
              "    </tr>\n",
              "  </thead>\n",
              "  <tbody>\n",
              "    <tr>\n",
              "      <th>1011</th>\n",
              "      <td>18046496</td>\n",
              "      <td>Roadster</td>\n",
              "      <td>The Lifestyle Co Men Sea Green Polo Collar Pur...</td>\n",
              "      <td>461</td>\n",
              "      <td>1099</td>\n",
              "      <td>58</td>\n",
              "      <td>Pure Cotton</td>\n",
              "      <td>Polo Collar</td>\n",
              "      <td>4.3</td>\n",
              "      <td>135</td>\n",
              "      <td>...</td>\n",
              "      <td>['Great Quality and nice colour', 'Not worthy ...</td>\n",
              "      <td>['Zubair Alam', 'Pranesh', 'S N', 'Vinoth Push...</td>\n",
              "      <td>Positive</td>\n",
              "      <td>['17 Apr 2023', '26 Jan 2023', '11 Jan 2023', ...</td>\n",
              "      <td>['https://assets.myntassets.com/h_150,q_75,w_1...</td>\n",
              "      <td>great quality and nice colour    not worthy   ...</td>\n",
              "      <td>Positive</td>\n",
              "      <td>great quality and nice colour    not worthy   ...</td>\n",
              "      <td>Positive</td>\n",
              "      <td>great quality nice colour worthy great quality...</td>\n",
              "    </tr>\n",
              "    <tr>\n",
              "      <th>1012</th>\n",
              "      <td>23253836</td>\n",
              "      <td>STELLERS</td>\n",
              "      <td>Polo Collar Dry Fit T-shirt</td>\n",
              "      <td>759</td>\n",
              "      <td>1999</td>\n",
              "      <td>62</td>\n",
              "      <td>Polyester</td>\n",
              "      <td>Polo Collar</td>\n",
              "      <td>4.5</td>\n",
              "      <td>37</td>\n",
              "      <td>...</td>\n",
              "      <td>['Nice quality', 'Good product', 'Nice fabric']</td>\n",
              "      <td>['Deepak Verma', 'Rennel', 'Mohammad Sajid']</td>\n",
              "      <td>Positive</td>\n",
              "      <td>['27 Dec 2023', '7 Dec 2023', '12 Dec 2023']</td>\n",
              "      <td>[]</td>\n",
              "      <td>nice quality    good product    nice fabric</td>\n",
              "      <td>Positive</td>\n",
              "      <td>nice quality    good product    nice fabric</td>\n",
              "      <td>Positive</td>\n",
              "      <td>nice quality good product nice fabric</td>\n",
              "    </tr>\n",
              "    <tr>\n",
              "      <th>850</th>\n",
              "      <td>12908462</td>\n",
              "      <td>Roadster</td>\n",
              "      <td>Men Blue Printed Round Neck T-shirt</td>\n",
              "      <td>314</td>\n",
              "      <td>899</td>\n",
              "      <td>65</td>\n",
              "      <td>Cotton</td>\n",
              "      <td>Round Neck</td>\n",
              "      <td>4.0</td>\n",
              "      <td>13000</td>\n",
              "      <td>...</td>\n",
              "      <td>['Fitting, Material Quality, Colour &amp; comfort ...</td>\n",
              "      <td>['Viney', 'Chintu Patel', 'Palavi', 'Ritesh Ku...</td>\n",
              "      <td>Positive</td>\n",
              "      <td>['18 July 2022', '16 Aug 2023', '1 Oct 2023', ...</td>\n",
              "      <td>['https://assets.myntassets.com/h_150,q_75,w_1...</td>\n",
              "      <td>fitting  material quality  colour   comfort is...</td>\n",
              "      <td>Positive</td>\n",
              "      <td>fitting  material quality  colour   comfort is...</td>\n",
              "      <td>Positive</td>\n",
              "      <td>fitting material quality colour comfort expect...</td>\n",
              "    </tr>\n",
              "  </tbody>\n",
              "</table>\n",
              "<p>3 rows × 21 columns</p>\n",
              "</div>\n",
              "    <div class=\"colab-df-buttons\">\n",
              "\n",
              "  <div class=\"colab-df-container\">\n",
              "    <button class=\"colab-df-convert\" onclick=\"convertToInteractive('df-18a10e56-26d4-45d0-b673-90d9a956c210')\"\n",
              "            title=\"Convert this dataframe to an interactive table.\"\n",
              "            style=\"display:none;\">\n",
              "\n",
              "  <svg xmlns=\"http://www.w3.org/2000/svg\" height=\"24px\" viewBox=\"0 -960 960 960\">\n",
              "    <path d=\"M120-120v-720h720v720H120Zm60-500h600v-160H180v160Zm220 220h160v-160H400v160Zm0 220h160v-160H400v160ZM180-400h160v-160H180v160Zm440 0h160v-160H620v160ZM180-180h160v-160H180v160Zm440 0h160v-160H620v160Z\"/>\n",
              "  </svg>\n",
              "    </button>\n",
              "\n",
              "  <style>\n",
              "    .colab-df-container {\n",
              "      display:flex;\n",
              "      gap: 12px;\n",
              "    }\n",
              "\n",
              "    .colab-df-convert {\n",
              "      background-color: #E8F0FE;\n",
              "      border: none;\n",
              "      border-radius: 50%;\n",
              "      cursor: pointer;\n",
              "      display: none;\n",
              "      fill: #1967D2;\n",
              "      height: 32px;\n",
              "      padding: 0 0 0 0;\n",
              "      width: 32px;\n",
              "    }\n",
              "\n",
              "    .colab-df-convert:hover {\n",
              "      background-color: #E2EBFA;\n",
              "      box-shadow: 0px 1px 2px rgba(60, 64, 67, 0.3), 0px 1px 3px 1px rgba(60, 64, 67, 0.15);\n",
              "      fill: #174EA6;\n",
              "    }\n",
              "\n",
              "    .colab-df-buttons div {\n",
              "      margin-bottom: 4px;\n",
              "    }\n",
              "\n",
              "    [theme=dark] .colab-df-convert {\n",
              "      background-color: #3B4455;\n",
              "      fill: #D2E3FC;\n",
              "    }\n",
              "\n",
              "    [theme=dark] .colab-df-convert:hover {\n",
              "      background-color: #434B5C;\n",
              "      box-shadow: 0px 1px 3px 1px rgba(0, 0, 0, 0.15);\n",
              "      filter: drop-shadow(0px 1px 2px rgba(0, 0, 0, 0.3));\n",
              "      fill: #FFFFFF;\n",
              "    }\n",
              "  </style>\n",
              "\n",
              "    <script>\n",
              "      const buttonEl =\n",
              "        document.querySelector('#df-18a10e56-26d4-45d0-b673-90d9a956c210 button.colab-df-convert');\n",
              "      buttonEl.style.display =\n",
              "        google.colab.kernel.accessAllowed ? 'block' : 'none';\n",
              "\n",
              "      async function convertToInteractive(key) {\n",
              "        const element = document.querySelector('#df-18a10e56-26d4-45d0-b673-90d9a956c210');\n",
              "        const dataTable =\n",
              "          await google.colab.kernel.invokeFunction('convertToInteractive',\n",
              "                                                    [key], {});\n",
              "        if (!dataTable) return;\n",
              "\n",
              "        const docLinkHtml = 'Like what you see? Visit the ' +\n",
              "          '<a target=\"_blank\" href=https://colab.research.google.com/notebooks/data_table.ipynb>data table notebook</a>'\n",
              "          + ' to learn more about interactive tables.';\n",
              "        element.innerHTML = '';\n",
              "        dataTable['output_type'] = 'display_data';\n",
              "        await google.colab.output.renderOutput(dataTable, element);\n",
              "        const docLink = document.createElement('div');\n",
              "        docLink.innerHTML = docLinkHtml;\n",
              "        element.appendChild(docLink);\n",
              "      }\n",
              "    </script>\n",
              "  </div>\n",
              "\n",
              "\n",
              "<div id=\"df-26a36332-a1eb-4420-b4e0-8834b8770591\">\n",
              "  <button class=\"colab-df-quickchart\" onclick=\"quickchart('df-26a36332-a1eb-4420-b4e0-8834b8770591')\"\n",
              "            title=\"Suggest charts\"\n",
              "            style=\"display:none;\">\n",
              "\n",
              "<svg xmlns=\"http://www.w3.org/2000/svg\" height=\"24px\"viewBox=\"0 0 24 24\"\n",
              "     width=\"24px\">\n",
              "    <g>\n",
              "        <path d=\"M19 3H5c-1.1 0-2 .9-2 2v14c0 1.1.9 2 2 2h14c1.1 0 2-.9 2-2V5c0-1.1-.9-2-2-2zM9 17H7v-7h2v7zm4 0h-2V7h2v10zm4 0h-2v-4h2v4z\"/>\n",
              "    </g>\n",
              "</svg>\n",
              "  </button>\n",
              "\n",
              "<style>\n",
              "  .colab-df-quickchart {\n",
              "      --bg-color: #E8F0FE;\n",
              "      --fill-color: #1967D2;\n",
              "      --hover-bg-color: #E2EBFA;\n",
              "      --hover-fill-color: #174EA6;\n",
              "      --disabled-fill-color: #AAA;\n",
              "      --disabled-bg-color: #DDD;\n",
              "  }\n",
              "\n",
              "  [theme=dark] .colab-df-quickchart {\n",
              "      --bg-color: #3B4455;\n",
              "      --fill-color: #D2E3FC;\n",
              "      --hover-bg-color: #434B5C;\n",
              "      --hover-fill-color: #FFFFFF;\n",
              "      --disabled-bg-color: #3B4455;\n",
              "      --disabled-fill-color: #666;\n",
              "  }\n",
              "\n",
              "  .colab-df-quickchart {\n",
              "    background-color: var(--bg-color);\n",
              "    border: none;\n",
              "    border-radius: 50%;\n",
              "    cursor: pointer;\n",
              "    display: none;\n",
              "    fill: var(--fill-color);\n",
              "    height: 32px;\n",
              "    padding: 0;\n",
              "    width: 32px;\n",
              "  }\n",
              "\n",
              "  .colab-df-quickchart:hover {\n",
              "    background-color: var(--hover-bg-color);\n",
              "    box-shadow: 0 1px 2px rgba(60, 64, 67, 0.3), 0 1px 3px 1px rgba(60, 64, 67, 0.15);\n",
              "    fill: var(--button-hover-fill-color);\n",
              "  }\n",
              "\n",
              "  .colab-df-quickchart-complete:disabled,\n",
              "  .colab-df-quickchart-complete:disabled:hover {\n",
              "    background-color: var(--disabled-bg-color);\n",
              "    fill: var(--disabled-fill-color);\n",
              "    box-shadow: none;\n",
              "  }\n",
              "\n",
              "  .colab-df-spinner {\n",
              "    border: 2px solid var(--fill-color);\n",
              "    border-color: transparent;\n",
              "    border-bottom-color: var(--fill-color);\n",
              "    animation:\n",
              "      spin 1s steps(1) infinite;\n",
              "  }\n",
              "\n",
              "  @keyframes spin {\n",
              "    0% {\n",
              "      border-color: transparent;\n",
              "      border-bottom-color: var(--fill-color);\n",
              "      border-left-color: var(--fill-color);\n",
              "    }\n",
              "    20% {\n",
              "      border-color: transparent;\n",
              "      border-left-color: var(--fill-color);\n",
              "      border-top-color: var(--fill-color);\n",
              "    }\n",
              "    30% {\n",
              "      border-color: transparent;\n",
              "      border-left-color: var(--fill-color);\n",
              "      border-top-color: var(--fill-color);\n",
              "      border-right-color: var(--fill-color);\n",
              "    }\n",
              "    40% {\n",
              "      border-color: transparent;\n",
              "      border-right-color: var(--fill-color);\n",
              "      border-top-color: var(--fill-color);\n",
              "    }\n",
              "    60% {\n",
              "      border-color: transparent;\n",
              "      border-right-color: var(--fill-color);\n",
              "    }\n",
              "    80% {\n",
              "      border-color: transparent;\n",
              "      border-right-color: var(--fill-color);\n",
              "      border-bottom-color: var(--fill-color);\n",
              "    }\n",
              "    90% {\n",
              "      border-color: transparent;\n",
              "      border-bottom-color: var(--fill-color);\n",
              "    }\n",
              "  }\n",
              "</style>\n",
              "\n",
              "  <script>\n",
              "    async function quickchart(key) {\n",
              "      const quickchartButtonEl =\n",
              "        document.querySelector('#' + key + ' button');\n",
              "      quickchartButtonEl.disabled = true;  // To prevent multiple clicks.\n",
              "      quickchartButtonEl.classList.add('colab-df-spinner');\n",
              "      try {\n",
              "        const charts = await google.colab.kernel.invokeFunction(\n",
              "            'suggestCharts', [key], {});\n",
              "      } catch (error) {\n",
              "        console.error('Error during call to suggestCharts:', error);\n",
              "      }\n",
              "      quickchartButtonEl.classList.remove('colab-df-spinner');\n",
              "      quickchartButtonEl.classList.add('colab-df-quickchart-complete');\n",
              "    }\n",
              "    (() => {\n",
              "      let quickchartButtonEl =\n",
              "        document.querySelector('#df-26a36332-a1eb-4420-b4e0-8834b8770591 button');\n",
              "      quickchartButtonEl.style.display =\n",
              "        google.colab.kernel.accessAllowed ? 'block' : 'none';\n",
              "    })();\n",
              "  </script>\n",
              "</div>\n",
              "\n",
              "    </div>\n",
              "  </div>\n"
            ]
          },
          "metadata": {},
          "execution_count": 60
        }
      ]
    },
    {
      "cell_type": "markdown",
      "source": [
        "### sentiment analysis with stopwords"
      ],
      "metadata": {
        "id": "PzUhZCKp3JFJ"
      }
    },
    {
      "cell_type": "code",
      "source": [],
      "metadata": {
        "id": "AlZxnk2c3Ht9"
      },
      "execution_count": 60,
      "outputs": []
    },
    {
      "cell_type": "code",
      "source": [
        "sentiment_fullclean_with_sw = []\n",
        "for sent in df_review['fullycleaned_reviews_with_sw']:\n",
        "  sentiment_fullclean_with_sw.append(analyze_sentiment(sent))\n",
        "\n",
        "sentiment_fullclean_with_sw[1]\n"
      ],
      "metadata": {
        "colab": {
          "base_uri": "https://localhost:8080/",
          "height": 36
        },
        "outputId": "d30d49e6-b6c6-4497-ff3f-61f858556d5f",
        "id": "6N1VVKs03Wu_"
      },
      "execution_count": 61,
      "outputs": [
        {
          "output_type": "execute_result",
          "data": {
            "text/plain": [
              "'Positive'"
            ],
            "application/vnd.google.colaboratory.intrinsic+json": {
              "type": "string"
            }
          },
          "metadata": {},
          "execution_count": 61
        }
      ]
    },
    {
      "cell_type": "code",
      "source": [
        "df_review['label_with_sw'] = sentiment_fullclean_with_sw"
      ],
      "metadata": {
        "id": "4VKIoYXz3WvL"
      },
      "execution_count": 62,
      "outputs": []
    },
    {
      "cell_type": "code",
      "source": [
        "df_review['label_with_sw'].value_counts(normalize=True)*100"
      ],
      "metadata": {
        "colab": {
          "base_uri": "https://localhost:8080/"
        },
        "outputId": "47c119fd-f142-4df9-ac4d-dcc06878251d",
        "id": "lffZqc6O3WvM"
      },
      "execution_count": 63,
      "outputs": [
        {
          "output_type": "execute_result",
          "data": {
            "text/plain": [
              "Positive    95.131684\n",
              "Negative     4.868316\n",
              "Name: label_with_sw, dtype: float64"
            ]
          },
          "metadata": {},
          "execution_count": 63
        }
      ]
    },
    {
      "cell_type": "code",
      "source": [
        "all_words = []\n",
        "for text in df_review['fullycleaned_reviews_with_sw']:\n",
        "  all_words.extend(text.split())\n",
        "\n",
        "print(all_words[:50])\n",
        "len(set(all_words))"
      ],
      "metadata": {
        "colab": {
          "base_uri": "https://localhost:8080/"
        },
        "id": "EQGgtOHLET3c",
        "outputId": "b0334217-e652-4283-de9b-0ddb5ed1cb30"
      },
      "execution_count": 64,
      "outputs": [
        {
          "output_type": "stream",
          "name": "stdout",
          "text": [
            "['product', 'quality', 'good', 'little', 'short', 'medium', 'height', 'person', 'good', 'quality', 'fabric', 'comfortable', 'wear', 'aesthetically', 'pleasing', 'nice', 'product', 'good', 'quality', 'amazing', 'fit', 'high', 'quality', 'product', 'color', 'bit', 'different', 'screen', 'real', 'nice', 'overall', 'value', 'money', 'beautiful', 'excellent', 'quality', 'product', 'great', 'value', 'money', 'buy', 'quality', 'shirt', 'nice', 'size', 'issue', 'picture', 'look', 'navy', 'blue']\n"
          ]
        },
        {
          "output_type": "execute_result",
          "data": {
            "text/plain": [
              "5780"
            ]
          },
          "metadata": {},
          "execution_count": 64
        }
      ]
    },
    {
      "cell_type": "code",
      "source": [
        "# Frequency Distribution\n",
        "\n",
        "freq_dist = nltk.FreqDist(all_words)\n",
        "\n",
        "plt.figure(figsize=(12,5))\n",
        "plt.title('Top 25 most Common Words')\n",
        "plt.xticks(fontsize=15)\n",
        "\n",
        "freq_dist.plot(25, cumulative=False)\n",
        "plt.show()"
      ],
      "metadata": {
        "colab": {
          "base_uri": "https://localhost:8080/",
          "height": 599
        },
        "id": "QoXXKbIcETke",
        "outputId": "379ab774-957f-44df-fe32-2de356c4e1fb"
      },
      "execution_count": 65,
      "outputs": [
        {
          "output_type": "display_data",
          "data": {
            "text/plain": [
              "<Figure size 1200x500 with 1 Axes>"
            ],
            "image/png": "[encoded data removed]"
          },
          "metadata": {}
        }
      ]
    },
    {
      "cell_type": "code",
      "source": [
        "df_review.columns"
      ],
      "metadata": {
        "colab": {
          "base_uri": "https://localhost:8080/"
        },
        "id": "DdLVN0WfrwnB",
        "outputId": "a274b0ae-4860-47dd-b7eb-04fb2c716365"
      },
      "execution_count": 64,
      "outputs": [
        {
          "output_type": "execute_result",
          "data": {
            "text/plain": [
              "Index(['product_id', 'product_name', 'product_description', 'discounted_price',\n",
              "       'original_price', 'discount_percentage', 'fabric_material', 'neck_type',\n",
              "       'overall_rating', 'votes', 'customer_rated_rating',\n",
              "       'customer_review_text', 'reviewers_username', 'sentiment_label',\n",
              "       'date_of_review', 'reviewers_product_images', 'cleaned_review_w/o_sw',\n",
              "       'label_cleaned_review', 'fullycleaned_review_w/o_sw',\n",
              "       'label_fullycleaned_w/o_sw', 'fullycleaned_reviews_with_sw',\n",
              "       'label_with_sw'],\n",
              "      dtype='object')"
            ]
          },
          "metadata": {},
          "execution_count": 64
        }
      ]
    },
    {
      "cell_type": "code",
      "source": [
        "df_review['label_cleaned_review'].value_counts(normalize=True)*100"
      ],
      "metadata": {
        "colab": {
          "base_uri": "https://localhost:8080/"
        },
        "id": "L4DrHV5a3EbJ",
        "outputId": "67481f1b-086e-4d32-c046-87a0cb498204"
      },
      "execution_count": 65,
      "outputs": [
        {
          "output_type": "execute_result",
          "data": {
            "text/plain": [
              "Positive    91.939346\n",
              "Negative     8.060654\n",
              "Name: label_cleaned_review, dtype: float64"
            ]
          },
          "metadata": {},
          "execution_count": 65
        }
      ]
    },
    {
      "cell_type": "code",
      "source": [
        "df_review['label_fullycleaned_w/o_sw'].value_counts(normalize=True)*100"
      ],
      "metadata": {
        "colab": {
          "base_uri": "https://localhost:8080/"
        },
        "id": "lI_je4Iz3ONK",
        "outputId": "278a0461-158a-45e4-8ad1-ec666f8d2a13"
      },
      "execution_count": 66,
      "outputs": [
        {
          "output_type": "execute_result",
          "data": {
            "text/plain": [
              "Positive    91.939346\n",
              "Negative     8.060654\n",
              "Name: label_fullycleaned_w/o_sw, dtype: float64"
            ]
          },
          "metadata": {},
          "execution_count": 66
        }
      ]
    },
    {
      "cell_type": "code",
      "source": [],
      "metadata": {
        "id": "xrueu2GJ-LAf"
      },
      "execution_count": 66,
      "outputs": []
    },
    {
      "cell_type": "code",
      "source": [],
      "metadata": {
        "id": "fC52jLPw-K7e"
      },
      "execution_count": 66,
      "outputs": []
    },
    {
      "cell_type": "code",
      "source": [
        "df_st = df_review.copy()"
      ],
      "metadata": {
        "id": "h6STbOCg-KtT"
      },
      "execution_count": 67,
      "outputs": []
    },
    {
      "cell_type": "code",
      "source": [
        "df_st.sample(2)"
      ],
      "metadata": {
        "colab": {
          "base_uri": "https://localhost:8080/",
          "height": 231
        },
        "id": "kgtakJw9-TlH",
        "outputId": "d35c34b7-f376-4857-f696-26d68e0248db"
      },
      "execution_count": 68,
      "outputs": [
        {
          "output_type": "execute_result",
          "data": {
            "text/plain": [
              "     product_id product_name  \\\n",
              "732    18444460        WROGN   \n",
              "720    22837168     Cantabil   \n",
              "\n",
              "                                   product_description  discounted_price  \\\n",
              "732  Men Blue & Silver-Toned Brand Logo Printed App...               449   \n",
              "720                    Half Sleeve Cotton Polo T-shirt               599   \n",
              "\n",
              "     original_price  discount_percentage fabric_material    neck_type  \\\n",
              "732             999                   55          Cotton   Round Neck   \n",
              "720            1499                   60          Cotton  Polo Collar   \n",
              "\n",
              "     overall_rating  votes  ...  \\\n",
              "732             4.0    190  ...   \n",
              "720             4.0      6  ...   \n",
              "\n",
              "                                    reviewers_username sentiment_label  \\\n",
              "732  ['Ahad', 'Shaik', 'Will Smith', 'Shivam Vijay ...        Negative   \n",
              "720  ['Rahul Sharma', 'Gourav Dusad', 'Rohan', 'Sar...        Positive   \n",
              "\n",
              "                                        date_of_review  \\\n",
              "732  ['22 Sept 2022', '5 June 2023', '21 Feb 2023',...   \n",
              "720  ['13 Sept 2023', '13 Aug 2023', '12 Oct 2023',...   \n",
              "\n",
              "                              reviewers_product_images  \\\n",
              "732  ['https://assets.myntassets.com/h_150,q_75,w_1...   \n",
              "720  ['https://assets.myntassets.com/h_150,q_75,w_1...   \n",
              "\n",
              "                                 cleaned_review_w/o_sw label_cleaned_review  \\\n",
              "732  nice product    everything is good except that...             Positive   \n",
              "720  material is not good    compared to other it s...             Negative   \n",
              "\n",
              "                            fullycleaned_review_w/o_sw  \\\n",
              "732  nice product    everything is good except that...   \n",
              "720  material is not good    compared to other it s...   \n",
              "\n",
              "    label_fullycleaned_w/o_sw  \\\n",
              "732                  Positive   \n",
              "720                  Negative   \n",
              "\n",
              "                          fullycleaned_reviews_with_sw label_with_sw  \n",
              "732  nice product good wrogn symbol good fitting be...      Positive  \n",
              "720  material good compared l size short look like ...      Positive  \n",
              "\n",
              "[2 rows x 22 columns]"
            ],
            "text/html": [
              "\n",
              "  <div id=\"df-c5964ff4-c3f7-4361-ab85-2cda96111648\" class=\"colab-df-container\">\n",
              "    <div>\n",
              "<style scoped>\n",
              "    .dataframe tbody tr th:only-of-type {\n",
              "        vertical-align: middle;\n",
              "    }\n",
              "\n",
              "    .dataframe tbody tr th {\n",
              "        vertical-align: top;\n",
              "    }\n",
              "\n",
              "    .dataframe thead th {\n",
              "        text-align: right;\n",
              "    }\n",
              "</style>\n",
              "<table border=\"1\" class=\"dataframe\">\n",
              "  <thead>\n",
              "    <tr style=\"text-align: right;\">\n",
              "      <th></th>\n",
              "      <th>product_id</th>\n",
              "      <th>product_name</th>\n",
              "      <th>product_description</th>\n",
              "      <th>discounted_price</th>\n",
              "      <th>original_price</th>\n",
              "      <th>discount_percentage</th>\n",
              "      <th>fabric_material</th>\n",
              "      <th>neck_type</th>\n",
              "      <th>overall_rating</th>\n",
              "      <th>votes</th>\n",
              "      <th>...</th>\n",
              "      <th>reviewers_username</th>\n",
              "      <th>sentiment_label</th>\n",
              "      <th>date_of_review</th>\n",
              "      <th>reviewers_product_images</th>\n",
              "      <th>cleaned_review_w/o_sw</th>\n",
              "      <th>label_cleaned_review</th>\n",
              "      <th>fullycleaned_review_w/o_sw</th>\n",
              "      <th>label_fullycleaned_w/o_sw</th>\n",
              "      <th>fullycleaned_reviews_with_sw</th>\n",
              "      <th>label_with_sw</th>\n",
              "    </tr>\n",
              "  </thead>\n",
              "  <tbody>\n",
              "    <tr>\n",
              "      <th>732</th>\n",
              "      <td>18444460</td>\n",
              "      <td>WROGN</td>\n",
              "      <td>Men Blue &amp; Silver-Toned Brand Logo Printed App...</td>\n",
              "      <td>449</td>\n",
              "      <td>999</td>\n",
              "      <td>55</td>\n",
              "      <td>Cotton</td>\n",
              "      <td>Round Neck</td>\n",
              "      <td>4.0</td>\n",
              "      <td>190</td>\n",
              "      <td>...</td>\n",
              "      <td>['Ahad', 'Shaik', 'Will Smith', 'Shivam Vijay ...</td>\n",
              "      <td>Negative</td>\n",
              "      <td>['22 Sept 2022', '5 June 2023', '21 Feb 2023',...</td>\n",
              "      <td>['https://assets.myntassets.com/h_150,q_75,w_1...</td>\n",
              "      <td>nice product    everything is good except that...</td>\n",
              "      <td>Positive</td>\n",
              "      <td>nice product    everything is good except that...</td>\n",
              "      <td>Positive</td>\n",
              "      <td>nice product good wrogn symbol good fitting be...</td>\n",
              "      <td>Positive</td>\n",
              "    </tr>\n",
              "    <tr>\n",
              "      <th>720</th>\n",
              "      <td>22837168</td>\n",
              "      <td>Cantabil</td>\n",
              "      <td>Half Sleeve Cotton Polo T-shirt</td>\n",
              "      <td>599</td>\n",
              "      <td>1499</td>\n",
              "      <td>60</td>\n",
              "      <td>Cotton</td>\n",
              "      <td>Polo Collar</td>\n",
              "      <td>4.0</td>\n",
              "      <td>6</td>\n",
              "      <td>...</td>\n",
              "      <td>['Rahul Sharma', 'Gourav Dusad', 'Rohan', 'Sar...</td>\n",
              "      <td>Positive</td>\n",
              "      <td>['13 Sept 2023', '13 Aug 2023', '12 Oct 2023',...</td>\n",
              "      <td>['https://assets.myntassets.com/h_150,q_75,w_1...</td>\n",
              "      <td>material is not good    compared to other it s...</td>\n",
              "      <td>Negative</td>\n",
              "      <td>material is not good    compared to other it s...</td>\n",
              "      <td>Negative</td>\n",
              "      <td>material good compared l size short look like ...</td>\n",
              "      <td>Positive</td>\n",
              "    </tr>\n",
              "  </tbody>\n",
              "</table>\n",
              "<p>2 rows × 22 columns</p>\n",
              "</div>\n",
              "    <div class=\"colab-df-buttons\">\n",
              "\n",
              "  <div class=\"colab-df-container\">\n",
              "    <button class=\"colab-df-convert\" onclick=\"convertToInteractive('df-c5964ff4-c3f7-4361-ab85-2cda96111648')\"\n",
              "            title=\"Convert this dataframe to an interactive table.\"\n",
              "            style=\"display:none;\">\n",
              "\n",
              "  <svg xmlns=\"http://www.w3.org/2000/svg\" height=\"24px\" viewBox=\"0 -960 960 960\">\n",
              "    <path d=\"M120-120v-720h720v720H120Zm60-500h600v-160H180v160Zm220 220h160v-160H400v160Zm0 220h160v-160H400v160ZM180-400h160v-160H180v160Zm440 0h160v-160H620v160ZM180-180h160v-160H180v160Zm440 0h160v-160H620v160Z\"/>\n",
              "  </svg>\n",
              "    </button>\n",
              "\n",
              "  <style>\n",
              "    .colab-df-container {\n",
              "      display:flex;\n",
              "      gap: 12px;\n",
              "    }\n",
              "\n",
              "    .colab-df-convert {\n",
              "      background-color: #E8F0FE;\n",
              "      border: none;\n",
              "      border-radius: 50%;\n",
              "      cursor: pointer;\n",
              "      display: none;\n",
              "      fill: #1967D2;\n",
              "      height: 32px;\n",
              "      padding: 0 0 0 0;\n",
              "      width: 32px;\n",
              "    }\n",
              "\n",
              "    .colab-df-convert:hover {\n",
              "      background-color: #E2EBFA;\n",
              "      box-shadow: 0px 1px 2px rgba(60, 64, 67, 0.3), 0px 1px 3px 1px rgba(60, 64, 67, 0.15);\n",
              "      fill: #174EA6;\n",
              "    }\n",
              "\n",
              "    .colab-df-buttons div {\n",
              "      margin-bottom: 4px;\n",
              "    }\n",
              "\n",
              "    [theme=dark] .colab-df-convert {\n",
              "      background-color: #3B4455;\n",
              "      fill: #D2E3FC;\n",
              "    }\n",
              "\n",
              "    [theme=dark] .colab-df-convert:hover {\n",
              "      background-color: #434B5C;\n",
              "      box-shadow: 0px 1px 3px 1px rgba(0, 0, 0, 0.15);\n",
              "      filter: drop-shadow(0px 1px 2px rgba(0, 0, 0, 0.3));\n",
              "      fill: #FFFFFF;\n",
              "    }\n",
              "  </style>\n",
              "\n",
              "    <script>\n",
              "      const buttonEl =\n",
              "        document.querySelector('#df-c5964ff4-c3f7-4361-ab85-2cda96111648 button.colab-df-convert');\n",
              "      buttonEl.style.display =\n",
              "        google.colab.kernel.accessAllowed ? 'block' : 'none';\n",
              "\n",
              "      async function convertToInteractive(key) {\n",
              "        const element = document.querySelector('#df-c5964ff4-c3f7-4361-ab85-2cda96111648');\n",
              "        const dataTable =\n",
              "          await google.colab.kernel.invokeFunction('convertToInteractive',\n",
              "                                                    [key], {});\n",
              "        if (!dataTable) return;\n",
              "\n",
              "        const docLinkHtml = 'Like what you see? Visit the ' +\n",
              "          '<a target=\"_blank\" href=https://colab.research.google.com/notebooks/data_table.ipynb>data table notebook</a>'\n",
              "          + ' to learn more about interactive tables.';\n",
              "        element.innerHTML = '';\n",
              "        dataTable['output_type'] = 'display_data';\n",
              "        await google.colab.output.renderOutput(dataTable, element);\n",
              "        const docLink = document.createElement('div');\n",
              "        docLink.innerHTML = docLinkHtml;\n",
              "        element.appendChild(docLink);\n",
              "      }\n",
              "    </script>\n",
              "  </div>\n",
              "\n",
              "\n",
              "<div id=\"df-86b1aec7-9977-4721-9be3-690a4859d738\">\n",
              "  <button class=\"colab-df-quickchart\" onclick=\"quickchart('df-86b1aec7-9977-4721-9be3-690a4859d738')\"\n",
              "            title=\"Suggest charts\"\n",
              "            style=\"display:none;\">\n",
              "\n",
              "<svg xmlns=\"http://www.w3.org/2000/svg\" height=\"24px\"viewBox=\"0 0 24 24\"\n",
              "     width=\"24px\">\n",
              "    <g>\n",
              "        <path d=\"M19 3H5c-1.1 0-2 .9-2 2v14c0 1.1.9 2 2 2h14c1.1 0 2-.9 2-2V5c0-1.1-.9-2-2-2zM9 17H7v-7h2v7zm4 0h-2V7h2v10zm4 0h-2v-4h2v4z\"/>\n",
              "    </g>\n",
              "</svg>\n",
              "  </button>\n",
              "\n",
              "<style>\n",
              "  .colab-df-quickchart {\n",
              "      --bg-color: #E8F0FE;\n",
              "      --fill-color: #1967D2;\n",
              "      --hover-bg-color: #E2EBFA;\n",
              "      --hover-fill-color: #174EA6;\n",
              "      --disabled-fill-color: #AAA;\n",
              "      --disabled-bg-color: #DDD;\n",
              "  }\n",
              "\n",
              "  [theme=dark] .colab-df-quickchart {\n",
              "      --bg-color: #3B4455;\n",
              "      --fill-color: #D2E3FC;\n",
              "      --hover-bg-color: #434B5C;\n",
              "      --hover-fill-color: #FFFFFF;\n",
              "      --disabled-bg-color: #3B4455;\n",
              "      --disabled-fill-color: #666;\n",
              "  }\n",
              "\n",
              "  .colab-df-quickchart {\n",
              "    background-color: var(--bg-color);\n",
              "    border: none;\n",
              "    border-radius: 50%;\n",
              "    cursor: pointer;\n",
              "    display: none;\n",
              "    fill: var(--fill-color);\n",
              "    height: 32px;\n",
              "    padding: 0;\n",
              "    width: 32px;\n",
              "  }\n",
              "\n",
              "  .colab-df-quickchart:hover {\n",
              "    background-color: var(--hover-bg-color);\n",
              "    box-shadow: 0 1px 2px rgba(60, 64, 67, 0.3), 0 1px 3px 1px rgba(60, 64, 67, 0.15);\n",
              "    fill: var(--button-hover-fill-color);\n",
              "  }\n",
              "\n",
              "  .colab-df-quickchart-complete:disabled,\n",
              "  .colab-df-quickchart-complete:disabled:hover {\n",
              "    background-color: var(--disabled-bg-color);\n",
              "    fill: var(--disabled-fill-color);\n",
              "    box-shadow: none;\n",
              "  }\n",
              "\n",
              "  .colab-df-spinner {\n",
              "    border: 2px solid var(--fill-color);\n",
              "    border-color: transparent;\n",
              "    border-bottom-color: var(--fill-color);\n",
              "    animation:\n",
              "      spin 1s steps(1) infinite;\n",
              "  }\n",
              "\n",
              "  @keyframes spin {\n",
              "    0% {\n",
              "      border-color: transparent;\n",
              "      border-bottom-color: var(--fill-color);\n",
              "      border-left-color: var(--fill-color);\n",
              "    }\n",
              "    20% {\n",
              "      border-color: transparent;\n",
              "      border-left-color: var(--fill-color);\n",
              "      border-top-color: var(--fill-color);\n",
              "    }\n",
              "    30% {\n",
              "      border-color: transparent;\n",
              "      border-left-color: var(--fill-color);\n",
              "      border-top-color: var(--fill-color);\n",
              "      border-right-color: var(--fill-color);\n",
              "    }\n",
              "    40% {\n",
              "      border-color: transparent;\n",
              "      border-right-color: var(--fill-color);\n",
              "      border-top-color: var(--fill-color);\n",
              "    }\n",
              "    60% {\n",
              "      border-color: transparent;\n",
              "      border-right-color: var(--fill-color);\n",
              "    }\n",
              "    80% {\n",
              "      border-color: transparent;\n",
              "      border-right-color: var(--fill-color);\n",
              "      border-bottom-color: var(--fill-color);\n",
              "    }\n",
              "    90% {\n",
              "      border-color: transparent;\n",
              "      border-bottom-color: var(--fill-color);\n",
              "    }\n",
              "  }\n",
              "</style>\n",
              "\n",
              "  <script>\n",
              "    async function quickchart(key) {\n",
              "      const quickchartButtonEl =\n",
              "        document.querySelector('#' + key + ' button');\n",
              "      quickchartButtonEl.disabled = true;  // To prevent multiple clicks.\n",
              "      quickchartButtonEl.classList.add('colab-df-spinner');\n",
              "      try {\n",
              "        const charts = await google.colab.kernel.invokeFunction(\n",
              "            'suggestCharts', [key], {});\n",
              "      } catch (error) {\n",
              "        console.error('Error during call to suggestCharts:', error);\n",
              "      }\n",
              "      quickchartButtonEl.classList.remove('colab-df-spinner');\n",
              "      quickchartButtonEl.classList.add('colab-df-quickchart-complete');\n",
              "    }\n",
              "    (() => {\n",
              "      let quickchartButtonEl =\n",
              "        document.querySelector('#df-86b1aec7-9977-4721-9be3-690a4859d738 button');\n",
              "      quickchartButtonEl.style.display =\n",
              "        google.colab.kernel.accessAllowed ? 'block' : 'none';\n",
              "    })();\n",
              "  </script>\n",
              "</div>\n",
              "\n",
              "    </div>\n",
              "  </div>\n"
            ]
          },
          "metadata": {},
          "execution_count": 68
        }
      ]
    },
    {
      "cell_type": "code",
      "source": [
        "df_st.drop(['customer_review_text','sentiment_label',\n",
        "                   'cleaned_review_w/o_sw','label_cleaned_review',\n",
        "                   'fullycleaned_review_w/o_sw','label_fullycleaned_w/o_sw'],\n",
        "           axis=1, inplace=True)"
      ],
      "metadata": {
        "id": "3BejZxxSNWqA"
      },
      "execution_count": 75,
      "outputs": []
    },
    {
      "cell_type": "code",
      "source": [
        "df_st.sample(3)"
      ],
      "metadata": {
        "colab": {
          "base_uri": "https://localhost:8080/",
          "height": 285
        },
        "id": "malkowiAOb3B",
        "outputId": "f062d347-ba36-4da8-aa56-01ecf91d09ff"
      },
      "execution_count": 76,
      "outputs": [
        {
          "output_type": "execute_result",
          "data": {
            "text/plain": [
              "     product_id           product_name  \\\n",
              "448    22517426         Bonkers Corner   \n",
              "525    23853750               Roadster   \n",
              "276    17861064  HRX by Hrithik Roshan   \n",
              "\n",
              "                                   product_description  discounted_price  \\\n",
              "448               Graphic Printed Loose Cotton T-shirt               799   \n",
              "525             The Life Co. Solid Polo Collar T-shirt               609   \n",
              "276  HRX By Hrithik Roshan Training Men Rapid-Dry B...               449   \n",
              "\n",
              "     original_price  discount_percentage fabric_material    neck_type  \\\n",
              "448             999                   20          Cotton   Round Neck   \n",
              "525             899                   68          Cotton  Polo Collar   \n",
              "276             899                   50       Polyester   Round Neck   \n",
              "\n",
              "     overall_rating  votes                              customer_rated_rating  \\\n",
              "448             4.5   1510      ['5', '4', '5', '5', '5', '5', '5', '5', '1']   \n",
              "525             4.1    515  ['5', '4', '4', '4', '5', '5', '5', '4', '4', ...   \n",
              "276             4.3    272  ['5', '3', '5', '4', '3', '4', '4', '3', '2', ...   \n",
              "\n",
              "                                    reviewers_username  \\\n",
              "448  ['Reddy Srikanth', 'Vamshi Addiwar', 'Myntra C...   \n",
              "525  ['Anbarasu', 'Comrade', 'Gururaj B', 'Vaibhav ...   \n",
              "276  ['Swati', 'Myntra Customer', 'Mohammad Rehan M...   \n",
              "\n",
              "                                        date_of_review  \\\n",
              "448  ['13 Oct 2023', '2 Oct 2023', '29 Sept 2023', ...   \n",
              "525  ['9 Oct 2023', '14 Dec 2023', '11 Nov 2023', '...   \n",
              "276  ['11 Oct 2023', '25 Mar 2023', '1 Dec 2023', '...   \n",
              "\n",
              "                              reviewers_product_images  \\\n",
              "448                                                 []   \n",
              "525  ['https://assets.myntassets.com/h_150,q_75,w_1...   \n",
              "276  ['https://assets.myntassets.com/h_150,q_75,w_1...   \n",
              "\n",
              "                          fullycleaned_reviews_with_sw label_with_sw  \n",
              "448  quality super printing perfect colour matching...      Positive  \n",
              "525  superb design product good good nice ordered x...      Positive  \n",
              "276  hrx time love material great amezing product t...      Positive  "
            ],
            "text/html": [
              "\n",
              "  <div id=\"df-740ed2c4-5e94-40ba-9dab-185d9d72fdfe\" class=\"colab-df-container\">\n",
              "    <div>\n",
              "<style scoped>\n",
              "    .dataframe tbody tr th:only-of-type {\n",
              "        vertical-align: middle;\n",
              "    }\n",
              "\n",
              "    .dataframe tbody tr th {\n",
              "        vertical-align: top;\n",
              "    }\n",
              "\n",
              "    .dataframe thead th {\n",
              "        text-align: right;\n",
              "    }\n",
              "</style>\n",
              "<table border=\"1\" class=\"dataframe\">\n",
              "  <thead>\n",
              "    <tr style=\"text-align: right;\">\n",
              "      <th></th>\n",
              "      <th>product_id</th>\n",
              "      <th>product_name</th>\n",
              "      <th>product_description</th>\n",
              "      <th>discounted_price</th>\n",
              "      <th>original_price</th>\n",
              "      <th>discount_percentage</th>\n",
              "      <th>fabric_material</th>\n",
              "      <th>neck_type</th>\n",
              "      <th>overall_rating</th>\n",
              "      <th>votes</th>\n",
              "      <th>customer_rated_rating</th>\n",
              "      <th>reviewers_username</th>\n",
              "      <th>date_of_review</th>\n",
              "      <th>reviewers_product_images</th>\n",
              "      <th>fullycleaned_reviews_with_sw</th>\n",
              "      <th>label_with_sw</th>\n",
              "    </tr>\n",
              "  </thead>\n",
              "  <tbody>\n",
              "    <tr>\n",
              "      <th>448</th>\n",
              "      <td>22517426</td>\n",
              "      <td>Bonkers Corner</td>\n",
              "      <td>Graphic Printed Loose Cotton T-shirt</td>\n",
              "      <td>799</td>\n",
              "      <td>999</td>\n",
              "      <td>20</td>\n",
              "      <td>Cotton</td>\n",
              "      <td>Round Neck</td>\n",
              "      <td>4.5</td>\n",
              "      <td>1510</td>\n",
              "      <td>['5', '4', '5', '5', '5', '5', '5', '5', '1']</td>\n",
              "      <td>['Reddy Srikanth', 'Vamshi Addiwar', 'Myntra C...</td>\n",
              "      <td>['13 Oct 2023', '2 Oct 2023', '29 Sept 2023', ...</td>\n",
              "      <td>[]</td>\n",
              "      <td>quality super printing perfect colour matching...</td>\n",
              "      <td>Positive</td>\n",
              "    </tr>\n",
              "    <tr>\n",
              "      <th>525</th>\n",
              "      <td>23853750</td>\n",
              "      <td>Roadster</td>\n",
              "      <td>The Life Co. Solid Polo Collar T-shirt</td>\n",
              "      <td>609</td>\n",
              "      <td>899</td>\n",
              "      <td>68</td>\n",
              "      <td>Cotton</td>\n",
              "      <td>Polo Collar</td>\n",
              "      <td>4.1</td>\n",
              "      <td>515</td>\n",
              "      <td>['5', '4', '4', '4', '5', '5', '5', '4', '4', ...</td>\n",
              "      <td>['Anbarasu', 'Comrade', 'Gururaj B', 'Vaibhav ...</td>\n",
              "      <td>['9 Oct 2023', '14 Dec 2023', '11 Nov 2023', '...</td>\n",
              "      <td>['https://assets.myntassets.com/h_150,q_75,w_1...</td>\n",
              "      <td>superb design product good good nice ordered x...</td>\n",
              "      <td>Positive</td>\n",
              "    </tr>\n",
              "    <tr>\n",
              "      <th>276</th>\n",
              "      <td>17861064</td>\n",
              "      <td>HRX by Hrithik Roshan</td>\n",
              "      <td>HRX By Hrithik Roshan Training Men Rapid-Dry B...</td>\n",
              "      <td>449</td>\n",
              "      <td>899</td>\n",
              "      <td>50</td>\n",
              "      <td>Polyester</td>\n",
              "      <td>Round Neck</td>\n",
              "      <td>4.3</td>\n",
              "      <td>272</td>\n",
              "      <td>['5', '3', '5', '4', '3', '4', '4', '3', '2', ...</td>\n",
              "      <td>['Swati', 'Myntra Customer', 'Mohammad Rehan M...</td>\n",
              "      <td>['11 Oct 2023', '25 Mar 2023', '1 Dec 2023', '...</td>\n",
              "      <td>['https://assets.myntassets.com/h_150,q_75,w_1...</td>\n",
              "      <td>hrx time love material great amezing product t...</td>\n",
              "      <td>Positive</td>\n",
              "    </tr>\n",
              "  </tbody>\n",
              "</table>\n",
              "</div>\n",
              "    <div class=\"colab-df-buttons\">\n",
              "\n",
              "  <div class=\"colab-df-container\">\n",
              "    <button class=\"colab-df-convert\" onclick=\"convertToInteractive('df-740ed2c4-5e94-40ba-9dab-185d9d72fdfe')\"\n",
              "            title=\"Convert this dataframe to an interactive table.\"\n",
              "            style=\"display:none;\">\n",
              "\n",
              "  <svg xmlns=\"http://www.w3.org/2000/svg\" height=\"24px\" viewBox=\"0 -960 960 960\">\n",
              "    <path d=\"M120-120v-720h720v720H120Zm60-500h600v-160H180v160Zm220 220h160v-160H400v160Zm0 220h160v-160H400v160ZM180-400h160v-160H180v160Zm440 0h160v-160H620v160ZM180-180h160v-160H180v160Zm440 0h160v-160H620v160Z\"/>\n",
              "  </svg>\n",
              "    </button>\n",
              "\n",
              "  <style>\n",
              "    .colab-df-container {\n",
              "      display:flex;\n",
              "      gap: 12px;\n",
              "    }\n",
              "\n",
              "    .colab-df-convert {\n",
              "      background-color: #E8F0FE;\n",
              "      border: none;\n",
              "      border-radius: 50%;\n",
              "      cursor: pointer;\n",
              "      display: none;\n",
              "      fill: #1967D2;\n",
              "      height: 32px;\n",
              "      padding: 0 0 0 0;\n",
              "      width: 32px;\n",
              "    }\n",
              "\n",
              "    .colab-df-convert:hover {\n",
              "      background-color: #E2EBFA;\n",
              "      box-shadow: 0px 1px 2px rgba(60, 64, 67, 0.3), 0px 1px 3px 1px rgba(60, 64, 67, 0.15);\n",
              "      fill: #174EA6;\n",
              "    }\n",
              "\n",
              "    .colab-df-buttons div {\n",
              "      margin-bottom: 4px;\n",
              "    }\n",
              "\n",
              "    [theme=dark] .colab-df-convert {\n",
              "      background-color: #3B4455;\n",
              "      fill: #D2E3FC;\n",
              "    }\n",
              "\n",
              "    [theme=dark] .colab-df-convert:hover {\n",
              "      background-color: #434B5C;\n",
              "      box-shadow: 0px 1px 3px 1px rgba(0, 0, 0, 0.15);\n",
              "      filter: drop-shadow(0px 1px 2px rgba(0, 0, 0, 0.3));\n",
              "      fill: #FFFFFF;\n",
              "    }\n",
              "  </style>\n",
              "\n",
              "    <script>\n",
              "      const buttonEl =\n",
              "        document.querySelector('#df-740ed2c4-5e94-40ba-9dab-185d9d72fdfe button.colab-df-convert');\n",
              "      buttonEl.style.display =\n",
              "        google.colab.kernel.accessAllowed ? 'block' : 'none';\n",
              "\n",
              "      async function convertToInteractive(key) {\n",
              "        const element = document.querySelector('#df-740ed2c4-5e94-40ba-9dab-185d9d72fdfe');\n",
              "        const dataTable =\n",
              "          await google.colab.kernel.invokeFunction('convertToInteractive',\n",
              "                                                    [key], {});\n",
              "        if (!dataTable) return;\n",
              "\n",
              "        const docLinkHtml = 'Like what you see? Visit the ' +\n",
              "          '<a target=\"_blank\" href=https://colab.research.google.com/notebooks/data_table.ipynb>data table notebook</a>'\n",
              "          + ' to learn more about interactive tables.';\n",
              "        element.innerHTML = '';\n",
              "        dataTable['output_type'] = 'display_data';\n",
              "        await google.colab.output.renderOutput(dataTable, element);\n",
              "        const docLink = document.createElement('div');\n",
              "        docLink.innerHTML = docLinkHtml;\n",
              "        element.appendChild(docLink);\n",
              "      }\n",
              "    </script>\n",
              "  </div>\n",
              "\n",
              "\n",
              "<div id=\"df-38c82b95-e2bc-4686-afd9-377fdd67e3ec\">\n",
              "  <button class=\"colab-df-quickchart\" onclick=\"quickchart('df-38c82b95-e2bc-4686-afd9-377fdd67e3ec')\"\n",
              "            title=\"Suggest charts\"\n",
              "            style=\"display:none;\">\n",
              "\n",
              "<svg xmlns=\"http://www.w3.org/2000/svg\" height=\"24px\"viewBox=\"0 0 24 24\"\n",
              "     width=\"24px\">\n",
              "    <g>\n",
              "        <path d=\"M19 3H5c-1.1 0-2 .9-2 2v14c0 1.1.9 2 2 2h14c1.1 0 2-.9 2-2V5c0-1.1-.9-2-2-2zM9 17H7v-7h2v7zm4 0h-2V7h2v10zm4 0h-2v-4h2v4z\"/>\n",
              "    </g>\n",
              "</svg>\n",
              "  </button>\n",
              "\n",
              "<style>\n",
              "  .colab-df-quickchart {\n",
              "      --bg-color: #E8F0FE;\n",
              "      --fill-color: #1967D2;\n",
              "      --hover-bg-color: #E2EBFA;\n",
              "      --hover-fill-color: #174EA6;\n",
              "      --disabled-fill-color: #AAA;\n",
              "      --disabled-bg-color: #DDD;\n",
              "  }\n",
              "\n",
              "  [theme=dark] .colab-df-quickchart {\n",
              "      --bg-color: #3B4455;\n",
              "      --fill-color: #D2E3FC;\n",
              "      --hover-bg-color: #434B5C;\n",
              "      --hover-fill-color: #FFFFFF;\n",
              "      --disabled-bg-color: #3B4455;\n",
              "      --disabled-fill-color: #666;\n",
              "  }\n",
              "\n",
              "  .colab-df-quickchart {\n",
              "    background-color: var(--bg-color);\n",
              "    border: none;\n",
              "    border-radius: 50%;\n",
              "    cursor: pointer;\n",
              "    display: none;\n",
              "    fill: var(--fill-color);\n",
              "    height: 32px;\n",
              "    padding: 0;\n",
              "    width: 32px;\n",
              "  }\n",
              "\n",
              "  .colab-df-quickchart:hover {\n",
              "    background-color: var(--hover-bg-color);\n",
              "    box-shadow: 0 1px 2px rgba(60, 64, 67, 0.3), 0 1px 3px 1px rgba(60, 64, 67, 0.15);\n",
              "    fill: var(--button-hover-fill-color);\n",
              "  }\n",
              "\n",
              "  .colab-df-quickchart-complete:disabled,\n",
              "  .colab-df-quickchart-complete:disabled:hover {\n",
              "    background-color: var(--disabled-bg-color);\n",
              "    fill: var(--disabled-fill-color);\n",
              "    box-shadow: none;\n",
              "  }\n",
              "\n",
              "  .colab-df-spinner {\n",
              "    border: 2px solid var(--fill-color);\n",
              "    border-color: transparent;\n",
              "    border-bottom-color: var(--fill-color);\n",
              "    animation:\n",
              "      spin 1s steps(1) infinite;\n",
              "  }\n",
              "\n",
              "  @keyframes spin {\n",
              "    0% {\n",
              "      border-color: transparent;\n",
              "      border-bottom-color: var(--fill-color);\n",
              "      border-left-color: var(--fill-color);\n",
              "    }\n",
              "    20% {\n",
              "      border-color: transparent;\n",
              "      border-left-color: var(--fill-color);\n",
              "      border-top-color: var(--fill-color);\n",
              "    }\n",
              "    30% {\n",
              "      border-color: transparent;\n",
              "      border-left-color: var(--fill-color);\n",
              "      border-top-color: var(--fill-color);\n",
              "      border-right-color: var(--fill-color);\n",
              "    }\n",
              "    40% {\n",
              "      border-color: transparent;\n",
              "      border-right-color: var(--fill-color);\n",
              "      border-top-color: var(--fill-color);\n",
              "    }\n",
              "    60% {\n",
              "      border-color: transparent;\n",
              "      border-right-color: var(--fill-color);\n",
              "    }\n",
              "    80% {\n",
              "      border-color: transparent;\n",
              "      border-right-color: var(--fill-color);\n",
              "      border-bottom-color: var(--fill-color);\n",
              "    }\n",
              "    90% {\n",
              "      border-color: transparent;\n",
              "      border-bottom-color: var(--fill-color);\n",
              "    }\n",
              "  }\n",
              "</style>\n",
              "\n",
              "  <script>\n",
              "    async function quickchart(key) {\n",
              "      const quickchartButtonEl =\n",
              "        document.querySelector('#' + key + ' button');\n",
              "      quickchartButtonEl.disabled = true;  // To prevent multiple clicks.\n",
              "      quickchartButtonEl.classList.add('colab-df-spinner');\n",
              "      try {\n",
              "        const charts = await google.colab.kernel.invokeFunction(\n",
              "            'suggestCharts', [key], {});\n",
              "      } catch (error) {\n",
              "        console.error('Error during call to suggestCharts:', error);\n",
              "      }\n",
              "      quickchartButtonEl.classList.remove('colab-df-spinner');\n",
              "      quickchartButtonEl.classList.add('colab-df-quickchart-complete');\n",
              "    }\n",
              "    (() => {\n",
              "      let quickchartButtonEl =\n",
              "        document.querySelector('#df-38c82b95-e2bc-4686-afd9-377fdd67e3ec button');\n",
              "      quickchartButtonEl.style.display =\n",
              "        google.colab.kernel.accessAllowed ? 'block' : 'none';\n",
              "    })();\n",
              "  </script>\n",
              "</div>\n",
              "\n",
              "    </div>\n",
              "  </div>\n"
            ]
          },
          "metadata": {},
          "execution_count": 76
        }
      ]
    },
    {
      "cell_type": "code",
      "source": [
        "df_st = df_st.rename(columns={'fullycleaned_reviews_with_sw': 'review_cleaned',\n",
        "                              'label_with_sw':'review_label'})"
      ],
      "metadata": {
        "id": "70Q1YjzROm5Z"
      },
      "execution_count": 77,
      "outputs": []
    }
  ]
}